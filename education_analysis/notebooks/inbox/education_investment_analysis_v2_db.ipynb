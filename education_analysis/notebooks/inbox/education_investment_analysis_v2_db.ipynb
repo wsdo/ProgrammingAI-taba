{
 "cells": [
  {
   "cell_type": "markdown",
   "metadata": {},
   "source": [
    "# 教育投资效率分析（数据库版本）\n",
    "\n",
    "本notebook从MongoDB数据库读取数据，分析欧盟国家的教育投资效率。"
   ]
  },
  {
   "cell_type": "code",
   "execution_count": 1,
   "metadata": {},
   "outputs": [
    {
     "data": {
      "text/plain": [
       "True"
      ]
     },
     "execution_count": 1,
     "metadata": {},
     "output_type": "execute_result"
    }
   ],
   "source": [
    "import pandas as pd\n",
    "import matplotlib.pyplot as plt\n",
    "import seaborn as sns\n",
    "import numpy as np\n",
    "from pymongo import MongoClient\n",
    "import os\n",
    "from dotenv import load_dotenv\n",
    "\n",
    "# 加载环境变量\n",
    "load_dotenv()"
   ]
  },
  {
   "cell_type": "code",
   "execution_count": 2,
   "metadata": {},
   "outputs": [],
   "source": [
    "def connect_to_mongodb():\n",
    "    \"\"\"连接到MongoDB数据库\"\"\"\n",
    "    client = MongoClient(os.getenv('MONGODB_URI'))\n",
    "    db = client[os.getenv('MONGODB_DB')]\n",
    "    return db\n",
    "\n",
    "def load_data_from_mongodb():\n",
    "    \"\"\"从MongoDB加载教育和经济数据\"\"\"\n",
    "    db = connect_to_mongodb()\n",
    "    \n",
    "    # 从education_data集合加载数据\n",
    "    education_data = pd.DataFrame(list(db.education_data.find()))\n",
    "    \n",
    "    # 从economic_indicators集合加载数据\n",
    "    economic_data = pd.DataFrame(list(db.economic_indicators.find()))\n",
    "    \n",
    "    # 删除MongoDB的_id字段\n",
    "    if '_id' in education_data.columns:\n",
    "        education_data = education_data.drop('_id', axis=1)\n",
    "    if '_id' in economic_data.columns:\n",
    "        economic_data = economic_data.drop('_id', axis=1)\n",
    "    \n",
    "    return education_data, economic_data"
   ]
  },
  {
   "cell_type": "code",
   "execution_count": 3,
   "metadata": {},
   "outputs": [],
   "source": [
    "def process_data(education_data, economic_data):\n",
    "    \"\"\"处理从数据库加载的数据\"\"\"\n",
    "    # 将教育数据从宽格式转换为长格式\n",
    "    id_vars = ['index', 'freq', 'unit', 'isced11', 'geo\\\\TIME_PERIOD', 'collected_at', 'source']\n",
    "    value_vars = [str(year) for year in range(2012, 2022)]  # 2012-2021年\n",
    "    \n",
    "    education_data_long = pd.melt(\n",
    "        education_data,\n",
    "        id_vars=id_vars,\n",
    "        value_vars=value_vars,\n",
    "        var_name='year',\n",
    "        value_name='value'\n",
    "    )\n",
    "    \n",
    "    # 清理和准备教育数据\n",
    "    education_data_cleaned = education_data_long.copy()\n",
    "    education_data_cleaned['year'] = pd.to_numeric(education_data_cleaned['year'])\n",
    "    education_data_cleaned['value'] = pd.to_numeric(education_data_cleaned['value'], errors='coerce')\n",
    "    education_data_cleaned = education_data_cleaned.rename(columns={'geo\\\\TIME_PERIOD': 'geo_time_period'})\n",
    "    \n",
    "    # 清理经济数据\n",
    "    economic_data['year'] = pd.to_numeric(economic_data['year'])\n",
    "    economic_data['gdp_per_capita'] = pd.to_numeric(economic_data['gdp_per_capita'], errors='coerce')\n",
    "    \n",
    "    # 创建国家代码映射\n",
    "    country_mapping = {\n",
    "        'AT': 'AUT', 'BE': 'BEL', 'BG': 'BGR', 'CY': 'CYP', 'CZ': 'CZE',\n",
    "        'DE': 'DEU', 'DK': 'DNK', 'EE': 'EST', 'ES': 'ESP', 'FI': 'FIN',\n",
    "        'FR': 'FRA', 'GR': 'GRC', 'HR': 'HRV', 'HU': 'HUN', 'IE': 'IRL',\n",
    "        'IT': 'ITA', 'LT': 'LTU', 'LU': 'LUX', 'LV': 'LVA', 'MT': 'MLT',\n",
    "        'NL': 'NLD', 'PL': 'POL', 'PT': 'PRT', 'RO': 'ROU', 'SE': 'SWE',\n",
    "        'SI': 'SVN', 'SK': 'SVK'\n",
    "    }\n",
    "    \n",
    "    # 映射教育数据中的国家代码\n",
    "    education_data_cleaned['country_code'] = education_data_cleaned['geo_time_period'].map(country_mapping)\n",
    "    \n",
    "    # 对每个国家和年份的教育投资进行聚合（取平均值）\n",
    "    education_data_agg = education_data_cleaned.groupby(\n",
    "        ['country_code', 'year', 'geo_time_period']\n",
    "    )['value'].mean().reset_index()\n",
    "    \n",
    "    # 合并数据集\n",
    "    merged_data = pd.merge(\n",
    "        education_data_agg,\n",
    "        economic_data[['country_code', 'year', 'gdp_per_capita']],\n",
    "        on=['country_code', 'year'],\n",
    "        how='inner'\n",
    "    )\n",
    "    \n",
    "    return education_data_cleaned, merged_data"
   ]
  },
  {
   "cell_type": "code",
   "execution_count": 4,
   "metadata": {},
   "outputs": [],
   "source": [
    "def plot_investment_efficiency(merged_data, output_dir='../visualizations'):\n",
    "    \"\"\"绘制投资效率分析图表\"\"\"\n",
    "    if not os.path.exists(output_dir):\n",
    "        os.makedirs(output_dir)\n",
    "        \n",
    "    if not merged_data.empty:\n",
    "        # 计算效率\n",
    "        merged_data['investment_efficiency'] = merged_data['gdp_per_capita'] / merged_data['value']\n",
    "        \n",
    "        # 移除无限值和空值\n",
    "        merged_data = merged_data.replace([np.inf, -np.inf], np.nan).dropna(subset=['investment_efficiency'])\n",
    "        \n",
    "        latest_year = merged_data['year'].max()\n",
    "        print(f\"\\n分析 {latest_year} 年数据\")\n",
    "        \n",
    "        latest_efficiency = merged_data[merged_data['year'] == latest_year]\n",
    "        print(f\"最新年份的国家数量: {len(latest_efficiency)}\")\n",
    "        \n",
    "        if not latest_efficiency.empty:\n",
    "            # 确保每个国家只取一个最高效率值\n",
    "            top_efficient = latest_efficiency.sort_values('investment_efficiency', ascending=False)\n",
    "            top_efficient = top_efficient.drop_duplicates(subset=['geo_time_period'], keep='first')\n",
    "            top_efficient = top_efficient.head(5)\n",
    "            \n",
    "            plt.figure(figsize=(12, 6))\n",
    "            sns.barplot(data=top_efficient, x='geo_time_period', y='investment_efficiency')\n",
    "            plt.title(f'Investment Efficiency Top 5 Countries ({latest_year})')\n",
    "            plt.xlabel('Country')\n",
    "            plt.ylabel('Efficiency Ratio (GDP per capita / Investment)')\n",
    "            plt.xticks(rotation=45)\n",
    "            plt.tight_layout()\n",
    "            \n",
    "            # 保存图表\n",
    "            output_path = os.path.join(output_dir, 'investment_efficiency.png')\n",
    "            plt.savefig(output_path)\n",
    "            plt.show()\n",
    "            \n",
    "            print(f\"\\n投资效率最高的前5个国家:\")\n",
    "            for _, row in top_efficient.iterrows():\n",
    "                print(f\"{row['geo_time_period']}:\")\n",
    "                print(f\"  效率比率: {row['investment_efficiency']:.2f}\")\n",
    "                print(f\"  人均GDP: {row['gdp_per_capita']:.2f}\")\n",
    "                print(f\"  教育投资: {row['value']:.2f}\")\n",
    "        else:\n",
    "            print(\"最新年份没有可用数据\")\n",
    "    else:\n",
    "        print(\"合并后的数据为空\")"
   ]
  },
  {
   "cell_type": "code",
   "execution_count": 5,
   "metadata": {},
   "outputs": [
    {
     "name": "stdout",
     "output_type": "stream",
     "text": [
      "正在从数据库加载数据...\n",
      "\n",
      "处理数据...\n",
      "错误: \"The following 'id_vars' are not present in the DataFrame: ['index', 'freq', 'unit', 'isced11', 'geo\\\\\\\\TIME_PERIOD', 'collected_at', 'source']\"\n",
      "Traceback (most recent call last):\n",
      "  File \"/var/folders/3n/6qgmz73j6lx3gzkfjw5151nh0000gn/T/ipykernel_95105/2687534448.py\", line 8, in <module>\n",
      "    education_data_cleaned, merged_data = process_data(education_data_raw, economic_data_raw)\n",
      "                                          ^^^^^^^^^^^^^^^^^^^^^^^^^^^^^^^^^^^^^^^^^^^^^^^^^^^\n",
      "  File \"/var/folders/3n/6qgmz73j6lx3gzkfjw5151nh0000gn/T/ipykernel_95105/4146520436.py\", line 7, in process_data\n",
      "    education_data_long = pd.melt(\n",
      "                          ^^^^^^^^\n",
      "  File \"/Users/stark/.pyenv/versions/3.11.2/lib/python3.11/site-packages/pandas/core/reshape/melt.py\", line 69, in melt\n",
      "    raise KeyError(\n",
      "KeyError: \"The following 'id_vars' are not present in the DataFrame: ['index', 'freq', 'unit', 'isced11', 'geo\\\\\\\\TIME_PERIOD', 'collected_at', 'source']\"\n",
      "\n"
     ]
    }
   ],
   "source": [
    "try:\n",
    "    # 从数据库加载数据\n",
    "    print(\"正在从数据库加载数据...\")\n",
    "    education_data_raw, economic_data_raw = load_data_from_mongodb()\n",
    "    \n",
    "    # 处理数据\n",
    "    print(\"\\n处理数据...\")\n",
    "    education_data_cleaned, merged_data = process_data(education_data_raw, economic_data_raw)\n",
    "    \n",
    "    # 分析投资效率并生成图表\n",
    "    print(\"\\n分析投资效率...\")\n",
    "    print(\"-\" * 40)\n",
    "    plot_investment_efficiency(merged_data)\n",
    "    \n",
    "except Exception as e:\n",
    "    print(f\"错误: {str(e)}\")\n",
    "    import traceback\n",
    "    print(traceback.format_exc())"
   ]
  },
  {
   "cell_type": "code",
   "execution_count": null,
   "metadata": {},
   "outputs": [],
   "source": []
  },
  {
   "cell_type": "code",
   "execution_count": null,
   "metadata": {},
   "outputs": [],
   "source": []
  }
 ],
 "metadata": {
  "kernelspec": {
   "display_name": "Python 3 (ipykernel)",
   "language": "python",
   "name": "python3"
  },
  "language_info": {
   "codemirror_mode": {
    "name": "ipython",
    "version": 3
   },
   "file_extension": ".py",
   "mimetype": "text/x-python",
   "name": "python",
   "nbconvert_exporter": "python",
   "pygments_lexer": "ipython3",
   "version": "3.11.2"
  }
 },
 "nbformat": 4,
 "nbformat_minor": 4
}
