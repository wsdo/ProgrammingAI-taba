{
 "cells": [
  {
   "cell_type": "markdown",
   "metadata": {},
   "source": [
    "# 教育投资效率分析（数据库版本）\n",
    "\n",
    "本notebook从MongoDB数据库读取数据，分析欧盟国家的教育投资效率。"
   ]
  },
  {
   "cell_type": "code",
   "execution_count": 1,
   "metadata": {},
   "outputs": [
    {
     "data": {
      "text/plain": [
       "True"
      ]
     },
     "execution_count": 1,
     "metadata": {},
     "output_type": "execute_result"
    }
   ],
   "source": [
    "import pandas as pd\n",
    "import matplotlib.pyplot as plt\n",
    "import seaborn as sns\n",
    "import numpy as np\n",
    "from pymongo import MongoClient\n",
    "import os\n",
    "from dotenv import load_dotenv\n",
    "\n",
    "# 加载环境变量\n",
    "load_dotenv()"
   ]
  },
  {
   "cell_type": "code",
   "execution_count": 2,
   "metadata": {},
   "outputs": [],
   "source": [
    "def connect_to_mongodb():\n",
    "    \"\"\"连接到MongoDB数据库\"\"\"\n",
    "    client = MongoClient(os.getenv('MONGODB_URI'))\n",
    "    db = client[os.getenv('MONGODB_DB')]\n",
    "    return db\n",
    "\n",
    "def load_data_from_mongodb():\n",
    "    \"\"\"从MongoDB加载教育和经济数据\"\"\"\n",
    "    db = connect_to_mongodb()\n",
    "    \n",
    "    # 从education_investment集合加载数据\n",
    "    education_data = pd.DataFrame(list(db.education_investment.find()))\n",
    "    \n",
    "    # 从preprocessed_gdp集合加载数据\n",
    "    gdp_data = pd.DataFrame(list(db.preprocessed_gdp.find()))\n",
    "    \n",
    "    # 删除MongoDB的_id字段\n",
    "    if '_id' in education_data.columns:\n",
    "        education_data = education_data.drop('_id', axis=1)\n",
    "    if '_id' in gdp_data.columns:\n",
    "        gdp_data = gdp_data.drop('_id', axis=1)\n",
    "    \n",
    "    return education_data, gdp_data"
   ]
  },
  {
   "cell_type": "code",
   "execution_count": 3,
   "metadata": {},
   "outputs": [],
   "source": [
    "def process_data(education_data, gdp_data):\n",
    "    \"\"\"处理从数据库加载的数据\"\"\"\n",
    "    # 确保数据类型正确\n",
    "    education_data['year'] = pd.to_numeric(education_data['year'])\n",
    "    education_data['value'] = pd.to_numeric(education_data['value'])\n",
    "    \n",
    "    gdp_data['year'] = pd.to_numeric(gdp_data['year'])\n",
    "    gdp_data['value'] = pd.to_numeric(gdp_data['value'])\n",
    "    \n",
    "    # 对每个国家和年份的教育投资进行聚合（取平均值）\n",
    "    education_data_agg = education_data.groupby(\n",
    "        ['country_code', 'year']\n",
    "    )['value'].mean().reset_index()\n",
    "    \n",
    "    # 重命名GDP数据中的value列\n",
    "    gdp_data = gdp_data.rename(columns={'value': 'gdp_per_capita'})\n",
    "    \n",
    "    # 合并数据集\n",
    "    merged_data = pd.merge(\n",
    "        education_data_agg,\n",
    "        gdp_data[['country_code', 'year', 'gdp_per_capita']],\n",
    "        on=['country_code', 'year'],\n",
    "        how='inner'\n",
    "    )\n",
    "    \n",
    "    return education_data_agg, merged_data"
   ]
  },
  {
   "cell_type": "code",
   "execution_count": 4,
   "metadata": {},
   "outputs": [],
   "source": [
    "def plot_investment_efficiency(merged_data, output_dir='../visualizations'):\n",
    "    \"\"\"绘制投资效率分析图表\"\"\"\n",
    "    if not os.path.exists(output_dir):\n",
    "        os.makedirs(output_dir)\n",
    "        \n",
    "    if not merged_data.empty:\n",
    "        # 计算效率\n",
    "        merged_data['investment_efficiency'] = merged_data['gdp_per_capita'] / merged_data['value']\n",
    "        \n",
    "        # 移除无限值和空值\n",
    "        merged_data = merged_data.replace([np.inf, -np.inf], np.nan).dropna(subset=['investment_efficiency'])\n",
    "        \n",
    "        latest_year = merged_data['year'].max()\n",
    "        print(f\"\\n分析 {latest_year} 年数据\")\n",
    "        \n",
    "        latest_efficiency = merged_data[merged_data['year'] == latest_year]\n",
    "        print(f\"最新年份的国家数量: {len(latest_efficiency)}\")\n",
    "        \n",
    "        if not latest_efficiency.empty:\n",
    "            # 确保每个国家只取一个最高效率值\n",
    "            top_efficient = latest_efficiency.sort_values('investment_efficiency', ascending=False)\n",
    "            top_efficient = top_efficient.drop_duplicates(subset=['country_code'], keep='first')\n",
    "            top_efficient = top_efficient.head(5)\n",
    "            \n",
    "            plt.figure(figsize=(12, 6))\n",
    "            sns.barplot(data=top_efficient, x='country_code', y='investment_efficiency')\n",
    "            plt.title(f'Investment Efficiency Top 5 Countries ({latest_year})')\n",
    "            plt.xlabel('Country')\n",
    "            plt.ylabel('Efficiency Ratio (GDP per capita / Investment)')\n",
    "            plt.xticks(rotation=45)\n",
    "            plt.tight_layout()\n",
    "            \n",
    "            # 保存图表\n",
    "            output_path = os.path.join(output_dir, 'investment_efficiency.png')\n",
    "            plt.savefig(output_path)\n",
    "            plt.show()\n",
    "            \n",
    "            print(f\"\\n投资效率最高的前5个国家:\")\n",
    "            for _, row in top_efficient.iterrows():\n",
    "                print(f\"{row['country_code']}:\")\n",
    "                print(f\"  效率比率: {row['investment_efficiency']:.2f}\")\n",
    "                print(f\"  人均GDP: {row['gdp_per_capita']:.2f}\")\n",
    "                print(f\"  教育投资: {row['value']:.2f}\")\n",
    "        else:\n",
    "            print(\"最新年份没有可用数据\")\n",
    "    else:\n",
    "        print(\"合并后的数据为空\")"
   ]
  },
  {
   "cell_type": "code",
   "execution_count": 5,
   "metadata": {},
   "outputs": [
    {
     "name": "stdout",
     "output_type": "stream",
     "text": [
      "正在从数据库加载数据...\n",
      "\n",
      "教育数据信息:\n",
      "<class 'pandas.core.frame.DataFrame'>\n",
      "RangeIndex: 50 entries, 0 to 49\n",
      "Data columns (total 4 columns):\n",
      " #   Column        Non-Null Count  Dtype         \n",
      "---  ------        --------------  -----         \n",
      " 0   country_code  50 non-null     object        \n",
      " 1   date          50 non-null     datetime64[ns]\n",
      " 2   year          50 non-null     int64         \n",
      " 3   value         50 non-null     float64       \n",
      "dtypes: datetime64[ns](1), float64(1), int64(1), object(1)\n",
      "memory usage: 1.7+ KB\n",
      "None\n",
      "\n",
      "GDP数据信息:\n",
      "<class 'pandas.core.frame.DataFrame'>\n",
      "RangeIndex: 50 entries, 0 to 49\n",
      "Data columns (total 4 columns):\n",
      " #   Column        Non-Null Count  Dtype         \n",
      "---  ------        --------------  -----         \n",
      " 0   country_code  50 non-null     object        \n",
      " 1   date          50 non-null     datetime64[ns]\n",
      " 2   year          50 non-null     int64         \n",
      " 3   value         50 non-null     float64       \n",
      "dtypes: datetime64[ns](1), float64(1), int64(1), object(1)\n",
      "memory usage: 1.7+ KB\n",
      "None\n",
      "\n",
      "处理数据...\n",
      "\n",
      "分析投资效率...\n",
      "----------------------------------------\n",
      "\n",
      "分析 2019 年数据\n",
      "最新年份的国家数量: 5\n"
     ]
    },
    {
     "data": {
      "image/png": "[encoded data removed]",
      "text/plain": [
       "<Figure size 1200x600 with 1 Axes>"
      ]
     },
     "metadata": {},
     "output_type": "display_data"
    },
    {
     "name": "stdout",
     "output_type": "stream",
     "text": [
      "\n",
      "投资效率最高的前5个国家:\n",
      "FRA:\n",
      "  效率比率: 0.96\n",
      "  人均GDP: 4.57\n",
      "  教育投资: 4.75\n",
      "DEU:\n",
      "  效率比率: 0.69\n",
      "  人均GDP: 4.55\n",
      "  教育投资: 6.55\n",
      "USA:\n",
      "  效率比率: 0.56\n",
      "  人均GDP: 3.37\n",
      "  教育投资: 6.06\n",
      "GBR:\n",
      "  效率比率: 0.25\n",
      "  人均GDP: 1.18\n",
      "  教育投资: 4.78\n",
      "ITA:\n",
      "  效率比率: 0.20\n",
      "  人均GDP: 1.21\n",
      "  教育投资: 6.01\n"
     ]
    }
   ],
   "source": [
    "try:\n",
    "    # 从数据库加载数据\n",
    "    print(\"正在从数据库加载数据...\")\n",
    "    education_data_raw, gdp_data_raw = load_data_from_mongodb()\n",
    "    \n",
    "    # 打印原始数据信息\n",
    "    print(\"\\n教育数据信息:\")\n",
    "    print(education_data_raw.info())\n",
    "    print(\"\\nGDP数据信息:\")\n",
    "    print(gdp_data_raw.info())\n",
    "    \n",
    "    # 处理数据\n",
    "    print(\"\\n处理数据...\")\n",
    "    education_data_cleaned, merged_data = process_data(education_data_raw, gdp_data_raw)\n",
    "    \n",
    "    # 分析投资效率并生成图表\n",
    "    print(\"\\n分析投资效率...\")\n",
    "    print(\"-\" * 40)\n",
    "    plot_investment_efficiency(merged_data)\n",
    "    \n",
    "except Exception as e:\n",
    "    print(f\"错误: {str(e)}\")\n",
    "    import traceback\n",
    "    print(traceback.format_exc())"
   ]
  },
  {
   "cell_type": "code",
   "execution_count": null,
   "metadata": {},
   "outputs": [],
   "source": []
  },
  {
   "cell_type": "code",
   "execution_count": null,
   "metadata": {},
   "outputs": [],
   "source": []
  },
  {
   "cell_type": "code",
   "execution_count": null,
   "metadata": {},
   "outputs": [],
   "source": []
  }
 ],
 "metadata": {
  "kernelspec": {
   "display_name": "Python 3 (ipykernel)",
   "language": "python",
   "name": "python3"
  },
  "language_info": {
   "codemirror_mode": {
    "name": "ipython",
    "version": 3
   },
   "file_extension": ".py",
   "mimetype": "text/x-python",
   "name": "python",
   "nbconvert_exporter": "python",
   "pygments_lexer": "ipython3",
   "version": "3.11.2"
  }
 },
 "nbformat": 4,
 "nbformat_minor": 4
}
