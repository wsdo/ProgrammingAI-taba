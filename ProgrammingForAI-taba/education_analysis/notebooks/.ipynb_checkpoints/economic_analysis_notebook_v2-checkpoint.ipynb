{
 "cells": [
  {
   "cell_type": "markdown",
   "metadata": {},
   "source": [
    "# Economic Analysis Notebook\n",
    "\n",
    "This notebook analyzes the relationship between education investment and economic indicators."
   ]
  },
  {
   "cell_type": "code",
   "execution_count": null,
   "metadata": {},
   "source": [
    "# Import required libraries and setup environment\n",
    "import sys\n",
    "import os\n",
    "from pathlib import Path\n",
    "import pandas as pd\n",
    "import numpy as np\n",
    "import matplotlib.pyplot as plt\n",
    "import seaborn as sns\n",
    "from dotenv import load_dotenv\n",
    "import matplotlib\n",
    "\n",
    "# Add project root to Python path\n",
    "project_root = Path().absolute().parent\n",
    "sys.path.append(str(project_root))\n",
    "\n",
    "# Import project modules\n",
    "from src.data_processing.db_manager import DatabaseManager\n",
    "from src.data_processing.data_cleaner import DataCleaner\n",
    "from src.data_processing.imf_data_processor import IMFDataProcessor\n",
    "\n",
    "# Set plotting style\n",
    "plt.style.use('seaborn')\n",
    "sns.set_palette('husl')\n",
    "plt.rcParams['figure.figsize'] = [12, 6]\n",
    "plt.rcParams['font.size'] = 12\n",
    "plt.rcParams['font.sans-serif'] = ['Arial Unicode MS']\n",
    "plt.rcParams['axes.unicode_minus'] = False"
   ]
  },
  {
   "cell_type": "code",
   "execution_count": null,
   "metadata": {},
   "source": [
    "# Initialize data processors\n",
    "db_manager = DatabaseManager()\n",
    "cleaner = DataCleaner()\n",
    "imf_processor = IMFDataProcessor()\n",
    "\n",
    "# Load education data from CSV\n",
    "education_data = pd.read_csv('../data/cache/education_investment.csv')\n",
    "\n",
    "# Clean education data\n",
    "education_data_cleaned = education_data.copy()\n",
    "education_data_cleaned['year'] = pd.to_numeric(education_data_cleaned['year'], errors='coerce')\n",
    "education_data_cleaned['value'] = pd.to_numeric(education_data_cleaned['value'], errors='coerce')\n",
    "education_data_cleaned = education_data_cleaned.dropna()\n",
    "\n",
    "# Display the first few rows of cleaned data\n",
    "print(\"Shape of cleaned education data:\", education_data_cleaned.shape)\n",
    "education_data_cleaned.head()"
   ]
  },
  {
   "cell_type": "code",
   "execution_count": null,
   "metadata": {},
   "source": [
    "# Select major countries for trend comparison\n",
    "major_countries = ['DE', 'FR', 'IT', 'ES', 'PL']\n",
    "major_country_data = education_data_cleaned[education_data_cleaned['geo_time_period'].isin(major_countries)]\n",
    "\n",
    "# Create a mapping for country names\n",
    "country_names = {\n",
    "    'DE': 'Germany',\n",
    "    'FR': 'France',\n",
    "    'IT': 'Italy',\n",
    "    'ES': 'Spain',\n",
    "    'PL': 'Poland'\n",
    "}\n",
    "\n",
    "# Display selected countries data\n",
    "print(\"\\nData for selected countries:\")\n",
    "major_country_data.head(10)"
   ]
  },
  {
   "cell_type": "code",
   "execution_count": null,
   "metadata": {},
   "source": [
    "# Get economic data\n",
    "start_year = int(major_country_data['year'].min())\n",
    "end_year = int(major_country_data['year'].max())\n",
    "economic_data = imf_processor.get_economic_indicators(major_countries, start_year, end_year)\n",
    "\n",
    "# Display economic data\n",
    "print(\"\\nEconomic indicators data:\")\n",
    "economic_data.head()"
   ]
  },
  {
   "cell_type": "code",
   "execution_count": null,
   "metadata": {},
   "source": [
    "# Merge education and economic data\n",
    "merged_data = pd.merge(\n",
    "    major_country_data,\n",
    "    economic_data,\n",
    "    left_on=['geo_time_period', 'year'],\n",
    "    right_on=['country', 'year'],\n",
    "    how='inner'\n",
    ")\n",
    "\n",
    "# Display merged data\n",
    "print(\"Shape of merged data:\", merged_data.shape)\n",
    "merged_data.head()"
   ]
  },
  {
   "cell_type": "code",
   "execution_count": null,
   "metadata": {},
   "source": [
    "# Create correlation heatmap\n",
    "plt.figure(figsize=(10, 8))\n",
    "correlation_matrix = merged_data[['value', 'gdp_growth', 'employment_rate']].corr()\n",
    "sns.heatmap(correlation_matrix, \n",
    "            annot=True, \n",
    "            cmap='coolwarm', \n",
    "            vmin=-1, \n",
    "            vmax=1, \n",
    "            center=0)\n",
    "plt.title('Correlation between Education Investment and Economic Indicators')\n",
    "plt.tight_layout()\n",
    "plt.show()"
   ]
  },
  {
   "cell_type": "code",
   "execution_count": null,
   "metadata": {},
   "source": [
    "# Create trend line plots\n",
    "plt.figure(figsize=(15, 10))\n",
    "\n",
    "# Create two subplots\n",
    "fig, (ax1, ax2) = plt.subplots(2, 1, figsize=(15, 12))\n",
    "\n",
    "# Plot education investment vs GDP growth\n",
    "for country in major_countries:\n",
    "    country_data = merged_data[merged_data['country'] == country]\n",
    "    ax1.plot(country_data['year'], \n",
    "             country_data['gdp_growth'], \n",
    "             marker='o', \n",
    "             label=f'{country_names[country]} - GDP Growth')\n",
    "    ax1.plot(country_data['year'], \n",
    "             country_data['value'], \n",
    "             marker='s', \n",
    "             linestyle='--', \n",
    "             label=f'{country_names[country]} - Education Investment')\n",
    "\n",
    "ax1.set_title('Education Investment vs GDP Growth')\n",
    "ax1.set_xlabel('Year')\n",
    "ax1.set_ylabel('Percentage')\n",
    "ax1.legend(bbox_to_anchor=(1.05, 1), loc='upper left')\n",
    "ax1.grid(True, linestyle='--', alpha=0.7)\n",
    "\n",
    "# Plot education investment vs employment rate\n",
    "for country in major_countries:\n",
    "    country_data = merged_data[merged_data['country'] == country]\n",
    "    ax2.plot(country_data['year'], \n",
    "             country_data['employment_rate'], \n",
    "             marker='o', \n",
    "             label=f'{country_names[country]} - Employment Rate')\n",
    "    ax2.plot(country_data['year'], \n",
    "             country_data['value'], \n",
    "             marker='s', \n",
    "             linestyle='--', \n",
    "             label=f'{country_names[country]} - Education Investment')\n",
    "\n",
    "ax2.set_title('Education Investment vs Employment Rate')\n",
    "ax2.set_xlabel('Year')\n",
    "ax2.set_ylabel('Percentage')\n",
    "ax2.legend(bbox_to_anchor=(1.05, 1), loc='upper left')\n",
    "ax2.grid(True, linestyle='--', alpha=0.7)\n",
    "\n",
    "plt.tight_layout()\n",
    "plt.show()"
   ]
  }
 ],
 "metadata": {
  "kernelspec": {
   "display_name": "Python 3",
   "language": "python",
   "name": "python3"
  },
  "language_info": {
   "codemirror_mode": {
    "name": "ipython",
    "version": 3
   },
   "file_extension": ".py",
   "mimetype": "text/x-python",
   "name": "python",
   "nbconvert_exporter": "python",
   "pygments_lexer": "ipython3",
   "version": "3.11.2"
  }
 },
 "nbformat": 4,
 "nbformat_minor": 4
}
