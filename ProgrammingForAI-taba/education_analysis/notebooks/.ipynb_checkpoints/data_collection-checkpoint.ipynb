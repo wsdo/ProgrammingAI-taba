{
 "cells": [
  {
   "cell_type": "markdown",
   "metadata": {},
   "source": [
    "# Education Data Collection and Processing\n",
    "\n",
    "This notebook demonstrates the process of collecting and processing education data from various sources.\n",
    "\n",
    "## Contents\n",
    "1. Setup and Configuration\n",
    "2. Data Collection from Eurostat\n",
    "3. Data Processing and Cleaning\n",
    "4. Database Storage\n",
    "5. Initial Data Analysis"
   ]
  },
  {
   "cell_type": "markdown",
   "metadata": {},
   "source": [
    "## 1. Setup and Configuration\n",
    "\n",
    "First, we'll import necessary libraries and set up our environment."
   ]
  },
  {
   "cell_type": "code",
   "execution_count": null,
   "metadata": {},
   "outputs": [],
   "source": [
    "import sys\n",
    "import os\n",
    "import pandas as pd\n",
    "import numpy as np\n",
    "import eurostat\n",
    "import logging\n",
    "from dotenv import load_dotenv\n",
    "\n",
    "# Configure logging\n",
    "logging.basicConfig(level=logging.INFO,\n",
    "                   format='%(asctime)s - %(levelname)s - %(message)s')\n",
    "logger = logging.getLogger(__name__)\n",
    "\n",
    "# Load environment variables\n",
    "load_dotenv()\n",
    "\n",
    "# Add project root to Python path\n",
    "project_root = os.path.abspath(os.path.join(os.getcwd(), '..'))\n",
    "sys.path.append(project_root)\n",
    "\n",
    "# Import project modules\n",
    "from src.data_collection.eurostat_collector import EurostatCollector\n",
    "from src.data_processing.data_processor import DataProcessor"
   ]
  },
  {
   "cell_type": "markdown",
   "metadata": {},
   "source": [
    "## 2. Data Collection from Eurostat\n",
    "\n",
    "We'll collect education data from Eurostat using their API."
   ]
  },
  {
   "cell_type": "code",
   "execution_count": null,
   "metadata": {},
   "outputs": [],
   "source": [
    "# Initialize data collector\n",
    "collector = EurostatCollector()\n",
    "\n",
    "# Define indicators to collect\n",
    "indicators = {\n",
    "    'educ_uoe_fina01': 'Education finance data',\n",
    "    'educ_uoe_perp01': 'Teaching staff data',\n",
    "    'educ_uoe_enrt01': 'Student enrollment data'\n",
    "}\n",
    "\n",
    "# Collect data for each indicator\n",
    "collected_data = {}\n",
    "for code, description in indicators.items():\n",
    "    logger.info(f\"Collecting {description} (Code: {code})\")\n",
    "    data = collector.get_education_data(code)\n",
    "    if data is not None:\n",
    "        collected_data[code] = data\n",
    "        print(f\"\\nSample of {description}:\")\n",
    "        display(data.head())\n",
    "    else:\n",
    "        logger.warning(f\"Failed to collect data for {code}\")"
   ]
  }
 ],
 "metadata": {
  "kernelspec": {
   "display_name": "Python 3",
   "language": "python",
   "name": "python3"
  },
  "language_info": {
   "codemirror_mode": {
    "name": "ipython",
    "version": 3
   },
   "file_extension": ".py",
   "mimetype": "text/x-python",
   "name": "python",
   "nbconvert_exporter": "python",
   "pygments_lexer": "ipython3",
   "version": "3.8.0"
  }
 },
 "nbformat": 4,
 "nbformat_minor": 4
}
