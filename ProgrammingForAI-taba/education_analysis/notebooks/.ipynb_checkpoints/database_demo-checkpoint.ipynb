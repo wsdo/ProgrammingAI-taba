{
 "cells": [
  {
   "cell_type": "markdown",
   "metadata": {},
   "source": [
    "# 数据库操作演示\n",
    "\n",
    "本notebook展示如何使用PostgreSQL和MongoDB存储和检索教育数据分析项目中的数据。"
   ]
  },
  {
   "cell_type": "code",
   "execution_count": null,
   "metadata": {},
   "source": [
    "import sys\n",
    "import os\n",
    "import pandas as pd\n",
    "from dotenv import load_dotenv\n",
    "\n",
    "# 添加项目根目录到Python路径\n",
    "project_root = os.path.abspath(os.path.join(os.getcwd(), '..'))\n",
    "sys.path.append(project_root)\n",
    "\n",
    "# 导入数据库管理器\n",
    "from src.data_processing.db_manager import DatabaseManager\n",
    "\n",
    "# 加载环境变量\n",
    "load_dotenv()"
   ]
  },
  {
   "cell_type": "markdown",
   "metadata": {},
   "source": [
    "## 1. PostgreSQL数据库操作\n",
    "\n",
    "PostgreSQL用于存储结构化的教育和经济数据。"
   ]
  },
  {
   "cell_type": "code",
   "execution_count": null,
   "metadata": {},
   "source": [
    "# 初始化数据库管理器\n",
    "db_manager = DatabaseManager()\n",
    "\n",
    "# 连接PostgreSQL\n",
    "postgres_conn = db_manager.connect_postgres()\n",
    "print(\"Successfully connected to PostgreSQL\")"
   ]
  },
  {
   "cell_type": "code",
   "execution_count": null,
   "metadata": {},
   "source": [
    "# 创建表结构\n",
    "create_tables_query = \"\"\"\n",
    "-- 教育投资数据表\n",
    "CREATE TABLE IF NOT EXISTS education_investment (\n",
    "    id SERIAL PRIMARY KEY,\n",
    "    country_code VARCHAR(3),\n",
    "    year INTEGER,\n",
    "    investment_amount DECIMAL,\n",
    "    gdp_percentage DECIMAL,\n",
    "    created_at TIMESTAMP DEFAULT CURRENT_TIMESTAMP\n",
    ");\n",
    "\n",
    "-- 经济指标数据表\n",
    "CREATE TABLE IF NOT EXISTS economic_indicators (\n",
    "    id SERIAL PRIMARY KEY,\n",
    "    country_code VARCHAR(3),\n",
    "    year INTEGER,\n",
    "    gdp_growth DECIMAL,\n",
    "    employment_rate DECIMAL,\n",
    "    created_at TIMESTAMP DEFAULT CURRENT_TIMESTAMP\n",
    ");\n",
    "\"\"\"\n",
    "\n",
    "db_manager.execute_postgres_query(create_tables_query)\n",
    "print(\"Tables created successfully\")"
   ]
  },
  {
   "cell_type": "code",
   "execution_count": null,
   "metadata": {},
   "source": [
    "# 插入示例数据\n",
    "sample_education_data = pd.DataFrame({\n",
    "    'country_code': ['IRL', 'GBR', 'FRA'],\n",
    "    'year': [2020, 2020, 2020],\n",
    "    'investment_amount': [10000, 15000, 12000],\n",
    "    'gdp_percentage': [4.5, 5.0, 4.8]\n",
    "})\n",
    "\n",
    "sample_economic_data = pd.DataFrame({\n",
    "    'country_code': ['IRL', 'GBR', 'FRA'],\n",
    "    'year': [2020, 2020, 2020],\n",
    "    'gdp_growth': [2.5, 1.8, 1.5],\n",
    "    'employment_rate': [75.0, 76.5, 74.8]\n",
    "})\n",
    "\n",
    "# 将数据保存到PostgreSQL\n",
    "db_manager.save_to_postgres(sample_education_data, 'education_investment')\n",
    "db_manager.save_to_postgres(sample_economic_data, 'economic_indicators')\n",
    "print(\"Sample data inserted successfully\")"
   ]
  },
  {
   "cell_type": "code",
   "execution_count": null,
   "metadata": {},
   "source": [
    "# 查询示例\n",
    "query = \"\"\"\n",
    "SELECT e.country_code, e.year, e.investment_amount, e.gdp_percentage,\n",
    "       i.gdp_growth, i.employment_rate\n",
    "FROM education_investment e\n",
    "JOIN economic_indicators i\n",
    "ON e.country_code = i.country_code AND e.year = i.year\n",
    "ORDER BY e.country_code, e.year;\n",
    "\"\"\"\n",
    "\n",
    "results_df = db_manager.query_postgres(query)\n",
    "print(\"\\nQuery Results:\")\n",
    "print(results_df)"
   ]
  },
  {
   "cell_type": "markdown",
   "metadata": {},
   "source": [
    "## 2. MongoDB数据库操作\n",
    "\n",
    "MongoDB用于存储非结构化数据，如详细的国家报告和元数据。"
   ]
  },
  {
   "cell_type": "code",
   "execution_count": null,
   "metadata": {},
   "source": [
    "# 连接MongoDB\n",
    "mongo_client = db_manager.connect_mongo()\n",
    "print(\"Successfully connected to MongoDB\")"
   ]
  },
  {
   "cell_type": "code",
   "execution_count": null,
   "metadata": {},
   "source": [
    "# 插入示例文档\n",
    "country_report = {\n",
    "    'country_code': 'IRL',\n",
    "    'year': 2020,\n",
    "    'report_type': 'education_analysis',\n",
    "    'content': {\n",
    "        'summary': 'Detailed analysis of Ireland\\'s education system',\n",
    "        'key_findings': [\n",
    "            'Increased investment in STEM education',\n",
    "            'Growing focus on digital skills',\n",
    "            'Enhanced teacher training programs'\n",
    "        ],\n",
    "        'recommendations': [\n",
    "            'Further increase in R&D funding',\n",
    "            'Expand international collaboration'\n",
    "        ],\n",
    "        'metadata': {\n",
    "            'author': 'Education Research Team',\n",
    "            'created_at': '2020-12-01',\n",
    "            'version': '1.0'\n",
    "        }\n",
    "    }\n",
    "}\n",
    "\n",
    "db_manager.save_to_mongo('country_reports', country_report)\n",
    "print(\"Document inserted successfully\")"
   ]
  },
  {
   "cell_type": "code",
   "execution_count": null,
   "metadata": {},
   "source": [
    "# 查询MongoDB文档\n",
    "query = {'country_code': 'IRL', 'year': 2020}\n",
    "result = db_manager.query_mongo('country_reports', query)\n",
    "\n",
    "print(\"\\nMongoDB Query Result:\")\n",
    "for doc in result:\n",
    "    print(f\"Country: {doc['country_code']}\")\n",
    "    print(f\"Year: {doc['year']}\")\n",
    "    print(\"\\nKey Findings:\")\n",
    "    for finding in doc['content']['key_findings']:\n",
    "        print(f\"- {finding}\")\n",
    "    print(\"\\nRecommendations:\")\n",
    "    for rec in doc['content']['recommendations']:\n",
    "        print(f\"- {rec}\")"
   ]
  },
  {
   "cell_type": "markdown",
   "metadata": {},
   "source": [
    "## 3. 数据库设计说明\n",
    "\n",
    "### PostgreSQL设计\n",
    "- **education_investment表**：存储结构化的教育投资数据\n",
    "  - 包含国家代码、年份、投资金额、GDP占比等字段\n",
    "  - 使用适当的数据类型和约束确保数据完整性\n",
    "\n",
    "- **economic_indicators表**：存储经济指标数据\n",
    "  - 包含GDP增长率、就业率等关键经济指标\n",
    "  - 与education_investment表通过country_code和year关联\n",
    "\n",
    "### MongoDB设计\n",
    "- **country_reports集合**：存储非结构化的国家报告\n",
    "  - 包含详细的分析报告、建议和元数据\n",
    "  - 灵活的文档结构，便于存储复杂的层次化数据\n",
    "\n",
    "### 数据库选择理由\n",
    "1. **PostgreSQL**：\n",
    "   - 适合存储结构化数据\n",
    "   - 支持复杂的SQL查询和分析\n",
    "   - 强大的数据完整性保证\n",
    "\n",
    "2. **MongoDB**：\n",
    "   - 适合存储非结构化和半结构化数据\n",
    "   - 灵活的文档模型\n",
    "   - 良好的横向扩展能力"
   ]
  }
 ],
 "metadata": {
  "kernelspec": {
   "display_name": "Python 3",
   "language": "python",
   "name": "python3"
  },
  "language_info": {
   "codemirror_mode": {
    "name": "ipython",
    "version": 3
   },
   "file_extension": ".py",
   "mimetype": "text/x-python",
   "name": "python",
   "nbconvert_exporter": "python",
   "pygments_lexer": "ipython3",
   "version": "3.8.0"
  }
 },
 "nbformat": 4,
 "nbformat_minor": 4
}
