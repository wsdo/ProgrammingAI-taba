{
 "cells": [
  {
   "cell_type": "markdown",
   "metadata": {},
   "source": [
    "# 教育投资与经济增长分析\n",
    "\n",
    "本notebook展示了如何使用我们的分析和可视化模块来研究教育投资与经济增长之间的关系。"
   ]
  },
  {
   "cell_type": "code",
   "execution_count": null,
   "metadata": {},
   "source": [
    "# 导入必要的库\n",
    "import sys\n",
    "import os\n",
    "import pandas as pd\n",
    "import numpy as np\n",
    "from dotenv import load_dotenv\n",
    "\n",
    "# 添加项目根目录到Python路径\n",
    "project_root = os.path.abspath(os.path.join(os.getcwd(), '..'))\n",
    "sys.path.append(project_root)\n",
    "\n",
    "# 导入自定义模块\n",
    "from src.data_collection.eurostat_collector import EurostatCollector\n",
    "from src.data_processing.data_processor import DataProcessor\n",
    "from src.analysis.education_analyzer import EducationAnalyzer\n",
    "from src.visualization.data_visualizer import DataVisualizer\n",
    "\n",
    "# 加载环境变量\n",
    "load_dotenv()"
   ]
  },
  {
   "cell_type": "markdown",
   "metadata": {},
   "source": [
    "## 1. 数据收集\n",
    "\n",
    "首先，我们从Eurostat收集教育投资数据和经济指标数据。"
   ]
  },
  {
   "cell_type": "code",
   "execution_count": null,
   "metadata": {},
   "source": [
    "# 初始化数据收集器\n",
    "collector = EurostatCollector()\n",
    "\n",
    "# 收集教育投资数据\n",
    "education_data = collector.collect_education_data()\n",
    "\n",
    "# 收集经济指标数据\n",
    "economic_data = collector.collect_economic_data()\n",
    "\n",
    "print(\"Education data shape:\", education_data.shape)\n",
    "print(\"Economic data shape:\", economic_data.shape)"
   ]
  },
  {
   "cell_type": "markdown",
   "metadata": {},
   "source": [
    "## 2. 数据处理\n",
    "\n",
    "对收集到的数据进行清洗和预处理。"
   ]
  },
  {
   "cell_type": "code",
   "execution_count": null,
   "metadata": {},
   "source": [
    "# 初始化数据处理器\n",
    "processor = DataProcessor()\n",
    "\n",
    "# 处理教育数据\n",
    "education_data_cleaned = processor.clean_data(education_data)\n",
    "\n",
    "# 处理经济数据\n",
    "economic_data_cleaned = processor.clean_data(economic_data)\n",
    "\n",
    "# 显示基本统计信息\n",
    "print(\"\\nEducation Data Summary:\")\n",
    "print(education_data_cleaned.describe())\n",
    "print(\"\\nEconomic Data Summary:\")\n",
    "print(economic_data_cleaned.describe())"
   ]
  },
  {
   "cell_type": "markdown",
   "metadata": {},
   "source": [
    "## 3. 数据分析\n",
    "\n",
    "使用我们的分析模块来研究教育投资与经济增长之间的关系。"
   ]
  },
  {
   "cell_type": "code",
   "execution_count": null,
   "metadata": {},
   "source": [
    "# 初始化分析器\n",
    "analyzer = EducationAnalyzer()\n",
    "\n",
    "# 分析教育投资趋势\n",
    "trend_results = analyzer.analyze_trends(\n",
    "    education_data_cleaned,\n",
    "    'education_investment',\n",
    "    'year'\n",
    ")\n",
    "\n",
    "print(\"\\nTrend Analysis Results:\")\n",
    "print(\"Average YoY Growth:\", trend_results['yoy_growth_stats']['mean'])\n",
    "print(\"CAGR by Country:\")\n",
    "print(trend_results['cagr_by_country'])"
   ]
  },
  {
   "cell_type": "code",
   "execution_count": null,
   "metadata": {},
   "source": [
    "# 分析教育投资对经济的影响\n",
    "impact_results = analyzer.analyze_education_impact(\n",
    "    education_data_cleaned,\n",
    "    economic_data_cleaned\n",
    ")\n",
    "\n",
    "print(\"\\nEducation Impact Analysis:\")\n",
    "print(\"\\nSignificant Correlations:\")\n",
    "for pair, details in impact_results['correlation_analysis'].items():\n",
    "    print(f\"{pair}: {details['correlation']:.3f} ({details['strength']})\")\n",
    "\n",
    "print(\"\\nRegression Analysis:\")\n",
    "print(f\"R² Score: {impact_results['regression_analysis']['r2_score']:.3f}\")\n",
    "print(\"Coefficients:\")\n",
    "for var, coef in impact_results['regression_analysis']['coefficients'].items():\n",
    "    print(f\"{var}: {coef:.3f}\")"
   ]
  },
  {
   "cell_type": "markdown",
   "metadata": {},
   "source": [
    "## 4. 数据可视化\n",
    "\n",
    "使用我们的可视化模块来创建各种图表，展示分析结果。"
   ]
  },
  {
   "cell_type": "code",
   "execution_count": null,
   "metadata": {},
   "source": [
    "# 初始化可视化器\n",
    "visualizer = DataVisualizer()\n",
    "\n",
    "# 创建时间序列图\n",
    "time_series_fig = visualizer.create_time_series_plot(\n",
    "    education_data_cleaned,\n",
    "    'year',\n",
    "    'education_investment',\n",
    "    'country_code',\n",
    "    'Education Investment Over Time'\n",
    ")\n",
    "time_series_fig.show()"
   ]
  },
  {
   "cell_type": "code",
   "execution_count": null,
   "metadata": {},
   "source": [
    "# 创建相关性热图\n",
    "merged_data = pd.merge(\n",
    "    education_data_cleaned,\n",
    "    economic_data_cleaned,\n",
    "    on=['country_code', 'year']\n",
    ")\n",
    "\n",
    "corr_matrix = merged_data[[\n",
    "    'education_investment',\n",
    "    'gdp_growth',\n",
    "    'employment_rate'\n",
    "]].corr()\n",
    "\n",
    "heatmap_fig = visualizer.create_correlation_heatmap(\n",
    "    corr_matrix,\n",
    "    'Correlation between Education and Economic Indicators'\n",
    ")\n",
    "heatmap_fig.show()"
   ]
  },
  {
   "cell_type": "code",
   "execution_count": null,
   "metadata": {},
   "source": [
    "# 创建散点图\n",
    "scatter_fig = visualizer.create_scatter_plot(\n",
    "    merged_data,\n",
    "    'education_investment',\n",
    "    'gdp_growth',\n",
    "    'country_code',\n",
    "    'Education Investment vs GDP Growth',\n",
    "    add_trendline=True\n",
    ")\n",
    "scatter_fig.show()"
   ]
  },
  {
   "cell_type": "code",
   "execution_count": null,
   "metadata": {},
   "source": [
    "# 创建综合仪表板\n",
    "dashboard = visualizer.create_education_dashboard(\n",
    "    education_data_cleaned,\n",
    "    economic_data_cleaned\n",
    ")\n",
    "dashboard.show()"
   ]
  },
  {
   "cell_type": "markdown",
   "metadata": {},
   "source": [
    "## 5. 结论\n",
    "\n",
    "基于上述分析，我们可以得出以下结论：\n",
    "\n",
    "1. **教育投资趋势**：\n",
    "   - 观察各国教育投资的年度变化\n",
    "   - 识别投资增长最快的国家\n",
    "\n",
    "2. **教育与经济关系**：\n",
    "   - 分析教育投资与GDP增长的相关性\n",
    "   - 研究教育投资对就业率的影响\n",
    "\n",
    "3. **政策建议**：\n",
    "   - 基于数据分析结果提出建议\n",
    "   - 确定最佳的教育投资策略"
   ]
  }
 ],
 "metadata": {
  "kernelspec": {
   "display_name": "Python 3",
   "language": "python",
   "name": "python3"
  },
  "language_info": {
   "codemirror_mode": {
    "name": "ipython",
    "version": 3
   },
   "file_extension": ".py",
   "mimetype": "text/x-python",
   "name": "python",
   "nbconvert_exporter": "python",
   "pygments_lexer": "ipython3",
   "version": "3.8.0"
  }
 },
 "nbformat": 4,
 "nbformat_minor": 4
}
