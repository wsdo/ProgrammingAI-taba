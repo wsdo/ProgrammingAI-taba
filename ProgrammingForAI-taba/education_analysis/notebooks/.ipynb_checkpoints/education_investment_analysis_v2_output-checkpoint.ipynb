{
 "cells": [
  {
   "cell_type": "markdown",
   "id": "1ad165fd",
   "metadata": {
    "papermill": {
     "duration": 0.004547,
     "end_time": "2024-12-16T00:05:18.981517",
     "exception": false,
     "start_time": "2024-12-16T00:05:18.976970",
     "status": "completed"
    },
    "tags": []
   },
   "source": [
    "%% [markdown]\n",
    "# Education Investment Analysis\n",
    "\n",
    "This notebook analyzes education investment data across EU countries, including economic indicators and policy impacts."
   ]
  },
  {
   "cell_type": "code",
   "execution_count": 1,
   "id": "a8a24452",
   "metadata": {
    "execution": {
     "iopub.execute_input": "2024-12-16T00:05:18.988523Z",
     "iopub.status.busy": "2024-12-16T00:05:18.988360Z",
     "iopub.status.idle": "2024-12-16T00:05:19.985304Z",
     "shell.execute_reply": "2024-12-16T00:05:19.984932Z"
    },
    "papermill": {
     "duration": 1.001413,
     "end_time": "2024-12-16T00:05:19.986281",
     "exception": false,
     "start_time": "2024-12-16T00:05:18.984868",
     "status": "completed"
    },
    "tags": []
   },
   "outputs": [],
   "source": [
    "# %%\n",
    "# Import required libraries\n",
    "import sys\n",
    "import os\n",
    "import json\n",
    "from pathlib import Path\n",
    "import pandas as pd\n",
    "import numpy as np\n",
    "import matplotlib.pyplot as plt\n",
    "import seaborn as sns\n",
    "from dotenv import load_dotenv\n",
    "import matplotlib"
   ]
  },
  {
   "cell_type": "code",
   "execution_count": 2,
   "id": "f482aa4d",
   "metadata": {
    "execution": {
     "iopub.execute_input": "2024-12-16T00:05:19.993288Z",
     "iopub.status.busy": "2024-12-16T00:05:19.993073Z",
     "iopub.status.idle": "2024-12-16T00:05:19.997251Z",
     "shell.execute_reply": "2024-12-16T00:05:19.997024Z"
    },
    "papermill": {
     "duration": 0.008798,
     "end_time": "2024-12-16T00:05:19.998205",
     "exception": false,
     "start_time": "2024-12-16T00:05:19.989407",
     "status": "completed"
    },
    "tags": []
   },
   "outputs": [
    {
     "data": {
      "text/plain": [
       "True"
      ]
     },
     "execution_count": 2,
     "metadata": {},
     "output_type": "execute_result"
    }
   ],
   "source": [
    "# %%\n",
    "# Load environment variables from .env file\n",
    "load_dotenv(Path('..').resolve() / '.env')"
   ]
  },
  {
   "cell_type": "code",
   "execution_count": 3,
   "id": "a1b4bee2",
   "metadata": {
    "execution": {
     "iopub.execute_input": "2024-12-16T00:05:20.004894Z",
     "iopub.status.busy": "2024-12-16T00:05:20.004762Z",
     "iopub.status.idle": "2024-12-16T00:05:20.006990Z",
     "shell.execute_reply": "2024-12-16T00:05:20.006624Z"
    },
    "papermill": {
     "duration": 0.006951,
     "end_time": "2024-12-16T00:05:20.007972",
     "exception": false,
     "start_time": "2024-12-16T00:05:20.001021",
     "status": "completed"
    },
    "tags": []
   },
   "outputs": [],
   "source": [
    "# %%\n",
    "# Add project root to Python path\n",
    "project_root = Path('..').resolve()\n",
    "sys.path.append(str(project_root))"
   ]
  },
  {
   "cell_type": "code",
   "execution_count": 4,
   "id": "04133396",
   "metadata": {
    "execution": {
     "iopub.execute_input": "2024-12-16T00:05:20.015571Z",
     "iopub.status.busy": "2024-12-16T00:05:20.015286Z",
     "iopub.status.idle": "2024-12-16T00:05:20.462868Z",
     "shell.execute_reply": "2024-12-16T00:05:20.462593Z"
    },
    "papermill": {
     "duration": 0.45255,
     "end_time": "2024-12-16T00:05:20.463805",
     "exception": false,
     "start_time": "2024-12-16T00:05:20.011255",
     "status": "completed"
    },
    "tags": []
   },
   "outputs": [],
   "source": [
    "# %%\n",
    "# Import project modules\n",
    "from src.data_processing.db_manager import DatabaseManager\n",
    "from src.data_processing.data_cleaner import DataCleaner\n",
    "from src.data_collection.eurostat_collector import EurostatCollector"
   ]
  },
  {
   "cell_type": "code",
   "execution_count": 5,
   "id": "c12b8fac",
   "metadata": {
    "execution": {
     "iopub.execute_input": "2024-12-16T00:05:20.471118Z",
     "iopub.status.busy": "2024-12-16T00:05:20.470903Z",
     "iopub.status.idle": "2024-12-16T00:05:20.473338Z",
     "shell.execute_reply": "2024-12-16T00:05:20.473078Z"
    },
    "papermill": {
     "duration": 0.006954,
     "end_time": "2024-12-16T00:05:20.474087",
     "exception": false,
     "start_time": "2024-12-16T00:05:20.467133",
     "status": "completed"
    },
    "tags": []
   },
   "outputs": [],
   "source": [
    "# %%\n",
    "# Set plotting style\n",
    "plt.style.use('seaborn-v0_8')  # Use the v0.8 compatible style\n",
    "sns.set_theme()  # Use seaborn's default theme\n",
    "plt.rcParams['figure.figsize'] = [12, 6]\n",
    "plt.rcParams['font.size'] = 12\n",
    "plt.rcParams['font.sans-serif'] = ['Arial Unicode MS']"
   ]
  },
  {
   "cell_type": "markdown",
   "id": "e1989916",
   "metadata": {
    "papermill": {
     "duration": 0.002837,
     "end_time": "2024-12-16T00:05:20.479626",
     "exception": false,
     "start_time": "2024-12-16T00:05:20.476789",
     "status": "completed"
    },
    "tags": []
   },
   "source": [
    "%% [markdown]\n",
    "## Step 1: Data Collection and Storage"
   ]
  },
  {
   "cell_type": "code",
   "execution_count": 6,
   "id": "ff382554",
   "metadata": {
    "execution": {
     "iopub.execute_input": "2024-12-16T00:05:20.486412Z",
     "iopub.status.busy": "2024-12-16T00:05:20.486281Z",
     "iopub.status.idle": "2024-12-16T00:05:20.488082Z",
     "shell.execute_reply": "2024-12-16T00:05:20.487888Z"
    },
    "papermill": {
     "duration": 0.005833,
     "end_time": "2024-12-16T00:05:20.488795",
     "exception": false,
     "start_time": "2024-12-16T00:05:20.482962",
     "status": "completed"
    },
    "tags": []
   },
   "outputs": [
    {
     "name": "stdout",
     "output_type": "stream",
     "text": [
      "Step 1: Data Collection\n",
      "--------------------------------------------------\n"
     ]
    }
   ],
   "source": [
    "# %%\n",
    "print(\"Step 1: Data Collection\")\n",
    "print(\"-\" * 50)"
   ]
  },
  {
   "cell_type": "code",
   "execution_count": 7,
   "id": "00a538fc",
   "metadata": {
    "execution": {
     "iopub.execute_input": "2024-12-16T00:05:20.514790Z",
     "iopub.status.busy": "2024-12-16T00:05:20.514663Z",
     "iopub.status.idle": "2024-12-16T00:05:20.517430Z",
     "shell.execute_reply": "2024-12-16T00:05:20.517210Z"
    },
    "papermill": {
     "duration": 0.00702,
     "end_time": "2024-12-16T00:05:20.518174",
     "exception": false,
     "start_time": "2024-12-16T00:05:20.511154",
     "status": "completed"
    },
    "tags": []
   },
   "outputs": [],
   "source": [
    "# Initialize collectors and managers\n",
    "collector = EurostatCollector()\n",
    "db_manager = DatabaseManager()\n",
    "cleaner = DataCleaner()"
   ]
  },
  {
   "cell_type": "code",
   "execution_count": 8,
   "id": "fe65fc6a",
   "metadata": {
    "execution": {
     "iopub.execute_input": "2024-12-16T00:05:20.525015Z",
     "iopub.status.busy": "2024-12-16T00:05:20.524908Z",
     "iopub.status.idle": "2024-12-16T00:05:20.530501Z",
     "shell.execute_reply": "2024-12-16T00:05:20.530200Z"
    },
    "papermill": {
     "duration": 0.010114,
     "end_time": "2024-12-16T00:05:20.531409",
     "exception": false,
     "start_time": "2024-12-16T00:05:20.521295",
     "status": "completed"
    },
    "tags": []
   },
   "outputs": [
    {
     "name": "stderr",
     "output_type": "stream",
     "text": [
      "2024-12-16 00:05:20,525 - INFO - Getting education investment data...\n"
     ]
    },
    {
     "name": "stderr",
     "output_type": "stream",
     "text": [
      "2024-12-16 00:05:20,528 - INFO - Using cached education investment data\n"
     ]
    },
    {
     "name": "stdout",
     "output_type": "stream",
     "text": [
      "\n",
      "Collecting education investment data...\n",
      "Collected 2585 education investment records\n"
     ]
    }
   ],
   "source": [
    "# Collect fresh data\n",
    "print(\"\\nCollecting education investment data...\")\n",
    "education_data_raw = collector.get_education_investment_data()\n",
    "print(f\"Collected {len(education_data_raw)} education investment records\")"
   ]
  },
  {
   "cell_type": "code",
   "execution_count": 9,
   "id": "d49643b5",
   "metadata": {
    "execution": {
     "iopub.execute_input": "2024-12-16T00:05:20.538376Z",
     "iopub.status.busy": "2024-12-16T00:05:20.538253Z",
     "iopub.status.idle": "2024-12-16T00:05:20.541853Z",
     "shell.execute_reply": "2024-12-16T00:05:20.541615Z"
    },
    "papermill": {
     "duration": 0.007666,
     "end_time": "2024-12-16T00:05:20.542477",
     "exception": false,
     "start_time": "2024-12-16T00:05:20.534811",
     "status": "completed"
    },
    "tags": []
   },
   "outputs": [
    {
     "name": "stderr",
     "output_type": "stream",
     "text": [
      "2024-12-16 00:05:20,538 - INFO - Getting economic indicators data...\n"
     ]
    },
    {
     "name": "stderr",
     "output_type": "stream",
     "text": [
      "2024-12-16 00:05:20,540 - INFO - Using cached economic indicators data\n"
     ]
    },
    {
     "name": "stdout",
     "output_type": "stream",
     "text": [
      "\n",
      "Collecting economic indicators...\n",
      "Collected 378 economic indicator records\n"
     ]
    }
   ],
   "source": [
    "print(\"\\nCollecting economic indicators...\")\n",
    "economic_data_raw = collector.get_economic_indicators()\n",
    "print(f\"Collected {len(economic_data_raw)} economic indicator records\")"
   ]
  },
  {
   "cell_type": "code",
   "execution_count": 10,
   "id": "5f464a06",
   "metadata": {
    "execution": {
     "iopub.execute_input": "2024-12-16T00:05:20.549304Z",
     "iopub.status.busy": "2024-12-16T00:05:20.549177Z",
     "iopub.status.idle": "2024-12-16T00:05:20.551317Z",
     "shell.execute_reply": "2024-12-16T00:05:20.551108Z"
    },
    "papermill": {
     "duration": 0.00628,
     "end_time": "2024-12-16T00:05:20.551974",
     "exception": false,
     "start_time": "2024-12-16T00:05:20.545694",
     "status": "completed"
    },
    "tags": []
   },
   "outputs": [
    {
     "name": "stderr",
     "output_type": "stream",
     "text": [
      "2024-12-16 00:05:20,549 - INFO - Getting education policy documents...\n"
     ]
    },
    {
     "name": "stdout",
     "output_type": "stream",
     "text": [
      "\n",
      "Collecting education policies...\n",
      "Collected 1 policy documents\n"
     ]
    }
   ],
   "source": [
    "print(\"\\nCollecting education policies...\")\n",
    "policy_docs = collector.get_education_policies()\n",
    "print(f\"Collected {len(policy_docs)} policy documents\")"
   ]
  },
  {
   "cell_type": "markdown",
   "id": "9f1d4cff",
   "metadata": {
    "papermill": {
     "duration": 0.003143,
     "end_time": "2024-12-16T00:05:20.558067",
     "exception": false,
     "start_time": "2024-12-16T00:05:20.554924",
     "status": "completed"
    },
    "tags": []
   },
   "source": [
    "%% [markdown]\n",
    "## Step 2: Database Storage"
   ]
  },
  {
   "cell_type": "code",
   "execution_count": 11,
   "id": "4288e889",
   "metadata": {
    "execution": {
     "iopub.execute_input": "2024-12-16T00:05:20.564557Z",
     "iopub.status.busy": "2024-12-16T00:05:20.564309Z",
     "iopub.status.idle": "2024-12-16T00:05:20.566203Z",
     "shell.execute_reply": "2024-12-16T00:05:20.565972Z"
    },
    "papermill": {
     "duration": 0.005859,
     "end_time": "2024-12-16T00:05:20.566884",
     "exception": false,
     "start_time": "2024-12-16T00:05:20.561025",
     "status": "completed"
    },
    "tags": []
   },
   "outputs": [
    {
     "name": "stdout",
     "output_type": "stream",
     "text": [
      "\n",
      "Step 2: Data Storage\n",
      "--------------------------------------------------\n"
     ]
    }
   ],
   "source": [
    "# %%\n",
    "print(\"\\nStep 2: Data Storage\")\n",
    "print(\"-\" * 50)"
   ]
  },
  {
   "cell_type": "code",
   "execution_count": 12,
   "id": "3a8c2b7c",
   "metadata": {
    "execution": {
     "iopub.execute_input": "2024-12-16T00:05:20.573666Z",
     "iopub.status.busy": "2024-12-16T00:05:20.573563Z",
     "iopub.status.idle": "2024-12-16T00:05:24.245035Z",
     "shell.execute_reply": "2024-12-16T00:05:24.244585Z"
    },
    "papermill": {
     "duration": 3.676055,
     "end_time": "2024-12-16T00:05:24.246293",
     "exception": false,
     "start_time": "2024-12-16T00:05:20.570238",
     "status": "completed"
    },
    "tags": []
   },
   "outputs": [
    {
     "name": "stdout",
     "output_type": "stream",
     "text": [
      "\n",
      "Connecting to databases...\n"
     ]
    },
    {
     "name": "stderr",
     "output_type": "stream",
     "text": [
      "2024-12-16 00:05:24,242 - INFO - Successfully connected to PostgreSQL\n"
     ]
    },
    {
     "name": "stdout",
     "output_type": "stream",
     "text": [
      "Successfully connected to PostgreSQL\n"
     ]
    }
   ],
   "source": [
    "# Store data in databases\n",
    "print(\"\\nConnecting to databases...\")\n",
    "try:\n",
    "    db_manager.connect_postgres()\n",
    "    print(\"Successfully connected to PostgreSQL\")\n",
    "except Exception as e:\n",
    "    print(f\"Error connecting to PostgreSQL: {str(e)}\")\n",
    "    print(\"Cannot proceed without PostgreSQL connection\")\n",
    "    sys.exit(1)"
   ]
  },
  {
   "cell_type": "code",
   "execution_count": 13,
   "id": "84c95674",
   "metadata": {
    "execution": {
     "iopub.execute_input": "2024-12-16T00:05:24.254024Z",
     "iopub.status.busy": "2024-12-16T00:05:24.253902Z",
     "iopub.status.idle": "2024-12-16T00:05:25.876622Z",
     "shell.execute_reply": "2024-12-16T00:05:25.876386Z"
    },
    "papermill": {
     "duration": 1.627585,
     "end_time": "2024-12-16T00:05:25.877469",
     "exception": false,
     "start_time": "2024-12-16T00:05:24.249884",
     "status": "completed"
    },
    "tags": []
   },
   "outputs": [
    {
     "name": "stderr",
     "output_type": "stream",
     "text": [
      "2024-12-16 00:05:24,254 - INFO - Attempting to connect to MongoDB at 47.91.31.227:27017\n"
     ]
    },
    {
     "name": "stderr",
     "output_type": "stream",
     "text": [
      "2024-12-16 00:05:25,874 - INFO - Successfully connected to MongoDB\n"
     ]
    },
    {
     "name": "stdout",
     "output_type": "stream",
     "text": [
      "Successfully connected to MongoDB\n"
     ]
    }
   ],
   "source": [
    "try:\n",
    "    db_manager.connect_mongo()\n",
    "    print(\"Successfully connected to MongoDB\")\n",
    "except Exception as e:\n",
    "    print(f\"Warning: MongoDB connection failed: {str(e)}\")\n",
    "    print(\"Continuing without MongoDB...\")"
   ]
  },
  {
   "cell_type": "code",
   "execution_count": 14,
   "id": "b28a08c4",
   "metadata": {
    "execution": {
     "iopub.execute_input": "2024-12-16T00:05:25.885187Z",
     "iopub.status.busy": "2024-12-16T00:05:25.885072Z",
     "iopub.status.idle": "2024-12-16T00:05:28.916825Z",
     "shell.execute_reply": "2024-12-16T00:05:28.916320Z"
    },
    "papermill": {
     "duration": 3.03753,
     "end_time": "2024-12-16T00:05:28.918305",
     "exception": false,
     "start_time": "2024-12-16T00:05:25.880775",
     "status": "completed"
    },
    "tags": []
   },
   "outputs": [
    {
     "name": "stdout",
     "output_type": "stream",
     "text": [
      "\n",
      "Setting up database tables...\n"
     ]
    },
    {
     "name": "stderr",
     "output_type": "stream",
     "text": [
      "2024-12-16 00:05:28,913 - INFO - Tables created successfully\n"
     ]
    },
    {
     "name": "stdout",
     "output_type": "stream",
     "text": [
      "Successfully set up PostgreSQL tables\n"
     ]
    }
   ],
   "source": [
    "# %%\n",
    "print(\"\\nSetting up database tables...\")\n",
    "try:\n",
    "    db_manager.create_tables()\n",
    "    print(\"Successfully set up PostgreSQL tables\")\n",
    "except Exception as e:\n",
    "    print(f\"Error setting up tables: {str(e)}\")\n",
    "    sys.exit(1)"
   ]
  },
  {
   "cell_type": "code",
   "execution_count": 15,
   "id": "a6ef0e4f",
   "metadata": {
    "execution": {
     "iopub.execute_input": "2024-12-16T00:05:28.927715Z",
     "iopub.status.busy": "2024-12-16T00:05:28.927548Z",
     "iopub.status.idle": "2024-12-16T00:05:53.413239Z",
     "shell.execute_reply": "2024-12-16T00:05:53.412866Z"
    },
    "papermill": {
     "duration": 24.491138,
     "end_time": "2024-12-16T00:05:53.414449",
     "exception": false,
     "start_time": "2024-12-16T00:05:28.923311",
     "status": "completed"
    },
    "tags": []
   },
   "outputs": [
    {
     "name": "stdout",
     "output_type": "stream",
     "text": [
      "\n",
      "Saving data to PostgreSQL...\n"
     ]
    },
    {
     "name": "stderr",
     "output_type": "stream",
     "text": [
      "2024-12-16 00:05:31,759 - INFO - Saved batch 1 (1000 rows)\n"
     ]
    },
    {
     "name": "stderr",
     "output_type": "stream",
     "text": [
      "2024-12-16 00:05:33,149 - INFO - Saved batch 2 (1000 rows)\n"
     ]
    },
    {
     "name": "stderr",
     "output_type": "stream",
     "text": [
      "2024-12-16 00:05:34,269 - INFO - Saved batch 3 (1000 rows)\n"
     ]
    },
    {
     "name": "stderr",
     "output_type": "stream",
     "text": [
      "2024-12-16 00:05:35,420 - INFO - Saved batch 4 (1000 rows)\n"
     ]
    },
    {
     "name": "stderr",
     "output_type": "stream",
     "text": [
      "2024-12-16 00:05:36,534 - INFO - Saved batch 5 (1000 rows)\n"
     ]
    },
    {
     "name": "stderr",
     "output_type": "stream",
     "text": [
      "2024-12-16 00:05:37,664 - INFO - Saved batch 6 (1000 rows)\n"
     ]
    },
    {
     "name": "stderr",
     "output_type": "stream",
     "text": [
      "2024-12-16 00:05:38,804 - INFO - Saved batch 7 (1000 rows)\n"
     ]
    },
    {
     "name": "stderr",
     "output_type": "stream",
     "text": [
      "2024-12-16 00:05:39,949 - INFO - Saved batch 8 (1000 rows)\n"
     ]
    },
    {
     "name": "stderr",
     "output_type": "stream",
     "text": [
      "2024-12-16 00:05:41,115 - INFO - Saved batch 9 (1000 rows)\n"
     ]
    },
    {
     "name": "stderr",
     "output_type": "stream",
     "text": [
      "2024-12-16 00:05:42,270 - INFO - Saved batch 10 (1000 rows)\n"
     ]
    },
    {
     "name": "stderr",
     "output_type": "stream",
     "text": [
      "2024-12-16 00:05:43,404 - INFO - Saved batch 11 (1000 rows)\n"
     ]
    },
    {
     "name": "stderr",
     "output_type": "stream",
     "text": [
      "2024-12-16 00:05:44,555 - INFO - Saved batch 12 (1000 rows)\n"
     ]
    },
    {
     "name": "stderr",
     "output_type": "stream",
     "text": [
      "2024-12-16 00:05:45,775 - INFO - Saved batch 13 (1000 rows)\n"
     ]
    },
    {
     "name": "stderr",
     "output_type": "stream",
     "text": [
      "2024-12-16 00:05:46,919 - INFO - Saved batch 14 (1000 rows)\n"
     ]
    },
    {
     "name": "stderr",
     "output_type": "stream",
     "text": [
      "2024-12-16 00:05:48,075 - INFO - Saved batch 15 (1000 rows)\n"
     ]
    },
    {
     "name": "stderr",
     "output_type": "stream",
     "text": [
      "2024-12-16 00:05:49,205 - INFO - Saved batch 16 (1000 rows)\n"
     ]
    },
    {
     "name": "stderr",
     "output_type": "stream",
     "text": [
      "2024-12-16 00:05:50,340 - INFO - Saved batch 17 (1000 rows)\n"
     ]
    },
    {
     "name": "stderr",
     "output_type": "stream",
     "text": [
      "2024-12-16 00:05:51,488 - INFO - Saved batch 18 (756 rows)\n"
     ]
    },
    {
     "name": "stderr",
     "output_type": "stream",
     "text": [
      "2024-12-16 00:05:51,488 - INFO - Successfully saved 17756 rows to education_data\n"
     ]
    },
    {
     "name": "stderr",
     "output_type": "stream",
     "text": [
      "2024-12-16 00:05:51,489 - INFO - Successfully inserted 2585 rows of education data\n"
     ]
    },
    {
     "name": "stderr",
     "output_type": "stream",
     "text": [
      "2024-12-16 00:05:53,410 - INFO - Saved batch 1 (378 rows)\n"
     ]
    },
    {
     "name": "stderr",
     "output_type": "stream",
     "text": [
      "2024-12-16 00:05:53,410 - INFO - Successfully saved 378 rows to economic_data\n"
     ]
    },
    {
     "name": "stderr",
     "output_type": "stream",
     "text": [
      "2024-12-16 00:05:53,411 - INFO - Successfully inserted 378 rows of economic data\n"
     ]
    },
    {
     "name": "stdout",
     "output_type": "stream",
     "text": [
      "Successfully saved data to PostgreSQL\n"
     ]
    }
   ],
   "source": [
    "# %%\n",
    "print(\"\\nSaving data to PostgreSQL...\")\n",
    "try:\n",
    "    # Insert data using the specific insert methods\n",
    "    db_manager.insert_education_data(education_data_raw)\n",
    "    db_manager.insert_economic_data(economic_data_raw)\n",
    "    print(\"Successfully saved data to PostgreSQL\")\n",
    "except Exception as e:\n",
    "    print(f\"Error saving to PostgreSQL: {str(e)}\")\n",
    "    sys.exit(1)"
   ]
  },
  {
   "cell_type": "code",
   "execution_count": 16,
   "id": "765edade",
   "metadata": {
    "execution": {
     "iopub.execute_input": "2024-12-16T00:05:53.427746Z",
     "iopub.status.busy": "2024-12-16T00:05:53.427319Z",
     "iopub.status.idle": "2024-12-16T00:05:53.713059Z",
     "shell.execute_reply": "2024-12-16T00:05:53.712648Z"
    },
    "papermill": {
     "duration": 0.294137,
     "end_time": "2024-12-16T00:05:53.714163",
     "exception": false,
     "start_time": "2024-12-16T00:05:53.420026",
     "status": "completed"
    },
    "tags": []
   },
   "outputs": [
    {
     "name": "stdout",
     "output_type": "stream",
     "text": [
      "\n",
      "Saving policy documents to MongoDB...\n"
     ]
    },
    {
     "name": "stderr",
     "output_type": "stream",
     "text": [
      "2024-12-16 00:05:53,711 - INFO - Successfully saved 1 documents to education_policies\n"
     ]
    },
    {
     "name": "stdout",
     "output_type": "stream",
     "text": [
      "Successfully saved policy documents to MongoDB\n"
     ]
    }
   ],
   "source": [
    "# %%\n",
    "print(\"\\nSaving policy documents to MongoDB...\")\n",
    "if db_manager.mongo_db is not None:\n",
    "    try:\n",
    "        db_manager.save_to_mongo('education_policies', policy_docs)\n",
    "        print(\"Successfully saved policy documents to MongoDB\")\n",
    "    except Exception as e:\n",
    "        print(f\"Warning: Failed to save to MongoDB: {str(e)}\")\n",
    "        print(\"Continuing without policy data...\")\n",
    "else:\n",
    "    print(\"Skipping MongoDB storage as connection is not available\")"
   ]
  },
  {
   "cell_type": "markdown",
   "id": "bb7fde66",
   "metadata": {
    "papermill": {
     "duration": 0.004965,
     "end_time": "2024-12-16T00:05:53.723558",
     "exception": false,
     "start_time": "2024-12-16T00:05:53.718593",
     "status": "completed"
    },
    "tags": []
   },
   "source": [
    "%% [markdown]\n",
    "## Step 3: Data Retrieval and Analysis"
   ]
  },
  {
   "cell_type": "code",
   "execution_count": 17,
   "id": "3f20af2d",
   "metadata": {
    "execution": {
     "iopub.execute_input": "2024-12-16T00:05:53.733771Z",
     "iopub.status.busy": "2024-12-16T00:05:53.733554Z",
     "iopub.status.idle": "2024-12-16T00:05:53.735679Z",
     "shell.execute_reply": "2024-12-16T00:05:53.735393Z"
    },
    "papermill": {
     "duration": 0.008585,
     "end_time": "2024-12-16T00:05:53.736551",
     "exception": false,
     "start_time": "2024-12-16T00:05:53.727966",
     "status": "completed"
    },
    "tags": []
   },
   "outputs": [
    {
     "name": "stdout",
     "output_type": "stream",
     "text": [
      "\n",
      "Step 3: Data Retrieval and Analysis\n",
      "--------------------------------------------------\n"
     ]
    }
   ],
   "source": [
    "# %%\n",
    "print(\"\\nStep 3: Data Retrieval and Analysis\")\n",
    "print(\"-\" * 50)"
   ]
  },
  {
   "cell_type": "code",
   "execution_count": 18,
   "id": "49831333",
   "metadata": {
    "execution": {
     "iopub.execute_input": "2024-12-16T00:05:53.746748Z",
     "iopub.status.busy": "2024-12-16T00:05:53.746615Z",
     "iopub.status.idle": "2024-12-16T00:05:57.375032Z",
     "shell.execute_reply": "2024-12-16T00:05:57.374675Z"
    },
    "papermill": {
     "duration": 3.634582,
     "end_time": "2024-12-16T00:05:57.375940",
     "exception": false,
     "start_time": "2024-12-16T00:05:53.741358",
     "status": "completed"
    },
    "tags": []
   },
   "outputs": [
    {
     "name": "stdout",
     "output_type": "stream",
     "text": [
      "\n",
      "Retrieving data from databases...\n"
     ]
    },
    {
     "name": "stderr",
     "output_type": "stream",
     "text": [
      "2024-12-16 00:05:56,524 - INFO - Retrieved 19512 rows of education data\n"
     ]
    },
    {
     "name": "stdout",
     "output_type": "stream",
     "text": [
      "Retrieved 19512 education investment records\n"
     ]
    },
    {
     "name": "stdout",
     "output_type": "stream",
     "text": [
      "Retrieved 378 economic indicator records\n"
     ]
    }
   ],
   "source": [
    "# Get education investment data from PostgreSQL\n",
    "print(\"\\nRetrieving data from databases...\")\n",
    "try:\n",
    "    education_data = db_manager.get_education_data()\n",
    "    print(f\"Retrieved {len(education_data)} education investment records\")\n",
    "\n",
    "    economic_data = db_manager.get_economic_data()\n",
    "    print(f\"Retrieved {len(economic_data)} economic indicator records\")\n",
    "except Exception as e:\n",
    "    print(f\"Error retrieving data from PostgreSQL: {str(e)}\")\n",
    "    sys.exit(1)"
   ]
  },
  {
   "cell_type": "code",
   "execution_count": 19,
   "id": "214291b0",
   "metadata": {
    "execution": {
     "iopub.execute_input": "2024-12-16T00:05:57.385245Z",
     "iopub.status.busy": "2024-12-16T00:05:57.385129Z",
     "iopub.status.idle": "2024-12-16T00:05:57.673272Z",
     "shell.execute_reply": "2024-12-16T00:05:57.672967Z"
    },
    "papermill": {
     "duration": 0.294137,
     "end_time": "2024-12-16T00:05:57.674402",
     "exception": false,
     "start_time": "2024-12-16T00:05:57.380265",
     "status": "completed"
    },
    "tags": []
   },
   "outputs": [
    {
     "name": "stdout",
     "output_type": "stream",
     "text": [
      "Retrieved 9 education policy documents\n"
     ]
    }
   ],
   "source": [
    "# Try to get policy data from MongoDB\n",
    "policy_docs = []\n",
    "if db_manager.mongo_db is not None:\n",
    "    try:\n",
    "        policy_data = db_manager.query_mongo('education_policies')\n",
    "        policy_docs = list(policy_data)\n",
    "        print(f\"Retrieved {len(policy_docs)} education policy documents\")\n",
    "    except Exception as e:\n",
    "        print(f\"Warning: Could not retrieve MongoDB data: {str(e)}\")\n",
    "        print(\"Continuing without policy data...\")"
   ]
  },
  {
   "cell_type": "markdown",
   "id": "9c7c6ac5",
   "metadata": {
    "papermill": {
     "duration": 0.004726,
     "end_time": "2024-12-16T00:05:57.684897",
     "exception": false,
     "start_time": "2024-12-16T00:05:57.680171",
     "status": "completed"
    },
    "tags": []
   },
   "source": [
    "%% [markdown]\n",
    "## Step 4: Data Analysis"
   ]
  },
  {
   "cell_type": "code",
   "execution_count": 20,
   "id": "d493a28b",
   "metadata": {
    "execution": {
     "iopub.execute_input": "2024-12-16T00:05:57.695238Z",
     "iopub.status.busy": "2024-12-16T00:05:57.695107Z",
     "iopub.status.idle": "2024-12-16T00:05:57.697007Z",
     "shell.execute_reply": "2024-12-16T00:05:57.696768Z"
    },
    "papermill": {
     "duration": 0.007761,
     "end_time": "2024-12-16T00:05:57.697797",
     "exception": false,
     "start_time": "2024-12-16T00:05:57.690036",
     "status": "completed"
    },
    "tags": []
   },
   "outputs": [
    {
     "name": "stdout",
     "output_type": "stream",
     "text": [
      "\n",
      "Step 4: Data Analysis\n",
      "--------------------------------------------------\n"
     ]
    }
   ],
   "source": [
    "# %%\n",
    "print(\"\\nStep 4: Data Analysis\")\n",
    "print(\"-\" * 50)"
   ]
  },
  {
   "cell_type": "code",
   "execution_count": 21,
   "id": "b0f3d829",
   "metadata": {
    "execution": {
     "iopub.execute_input": "2024-12-16T00:05:57.707847Z",
     "iopub.status.busy": "2024-12-16T00:05:57.707699Z",
     "iopub.status.idle": "2024-12-16T00:05:57.719512Z",
     "shell.execute_reply": "2024-12-16T00:05:57.719252Z"
    },
    "papermill": {
     "duration": 0.017872,
     "end_time": "2024-12-16T00:05:57.720324",
     "exception": false,
     "start_time": "2024-12-16T00:05:57.702452",
     "status": "completed"
    },
    "tags": []
   },
   "outputs": [
    {
     "name": "stderr",
     "output_type": "stream",
     "text": [
      "2024-12-16 00:05:57,717 - INFO - Successfully cleaned education data: 18394 rows remaining\n"
     ]
    },
    {
     "name": "stdout",
     "output_type": "stream",
     "text": [
      "\n",
      "Cleaned education data shape: (18394, 9)\n"
     ]
    }
   ],
   "source": [
    "# Clean and prepare data\n",
    "education_data_cleaned = cleaner.clean_education_data(education_data)\n",
    "print(f\"\\nCleaned education data shape: {education_data_cleaned.shape}\")"
   ]
  },
  {
   "cell_type": "markdown",
   "id": "0dbc6da2",
   "metadata": {
    "papermill": {
     "duration": 0.004573,
     "end_time": "2024-12-16T00:05:57.729833",
     "exception": false,
     "start_time": "2024-12-16T00:05:57.725260",
     "status": "completed"
    },
    "tags": []
   },
   "source": [
    "%% [markdown]\n",
    "### Analysis 1: Major EU Countries Investment Trends"
   ]
  },
  {
   "cell_type": "code",
   "execution_count": 22,
   "id": "c05566e4",
   "metadata": {
    "execution": {
     "iopub.execute_input": "2024-12-16T00:05:57.739927Z",
     "iopub.status.busy": "2024-12-16T00:05:57.739805Z",
     "iopub.status.idle": "2024-12-16T00:05:57.743962Z",
     "shell.execute_reply": "2024-12-16T00:05:57.743618Z"
    },
    "papermill": {
     "duration": 0.010112,
     "end_time": "2024-12-16T00:05:57.744798",
     "exception": false,
     "start_time": "2024-12-16T00:05:57.734686",
     "status": "completed"
    },
    "tags": []
   },
   "outputs": [
    {
     "name": "stdout",
     "output_type": "stream",
     "text": [
      "\n",
      "Analyzing major EU countries...\n"
     ]
    }
   ],
   "source": [
    "# %%\n",
    "print(\"\\nAnalyzing major EU countries...\")\n",
    "major_countries = ['DE', 'FR', 'IT', 'ES', 'PL']\n",
    "major_country_data = education_data_cleaned[\n",
    "    education_data_cleaned['geo_time_period'].isin(major_countries)\n",
    "]"
   ]
  },
  {
   "cell_type": "code",
   "execution_count": 23,
   "id": "c1d1eb85",
   "metadata": {
    "execution": {
     "iopub.execute_input": "2024-12-16T00:05:57.754990Z",
     "iopub.status.busy": "2024-12-16T00:05:57.754759Z",
     "iopub.status.idle": "2024-12-16T00:05:57.756657Z",
     "shell.execute_reply": "2024-12-16T00:05:57.756420Z"
    },
    "papermill": {
     "duration": 0.007817,
     "end_time": "2024-12-16T00:05:57.757492",
     "exception": false,
     "start_time": "2024-12-16T00:05:57.749675",
     "status": "completed"
    },
    "tags": []
   },
   "outputs": [],
   "source": [
    "country_names = {\n",
    "    'DE': 'Germany',\n",
    "    'FR': 'France',\n",
    "    'IT': 'Italy',\n",
    "    'ES': 'Spain',\n",
    "    'PL': 'Poland'\n",
    "}"
   ]
  },
  {
   "cell_type": "code",
   "execution_count": 24,
   "id": "7298adf9",
   "metadata": {
    "execution": {
     "iopub.execute_input": "2024-12-16T00:05:57.767641Z",
     "iopub.status.busy": "2024-12-16T00:05:57.767531Z",
     "iopub.status.idle": "2024-12-16T00:05:57.779103Z",
     "shell.execute_reply": "2024-12-16T00:05:57.778869Z"
    },
    "papermill": {
     "duration": 0.017653,
     "end_time": "2024-12-16T00:05:57.779829",
     "exception": false,
     "start_time": "2024-12-16T00:05:57.762176",
     "status": "completed"
    },
    "tags": []
   },
   "outputs": [
    {
     "data": {
      "text/plain": [
       "<Figure size 1500x800 with 0 Axes>"
      ]
     },
     "metadata": {},
     "output_type": "display_data"
    }
   ],
   "source": [
    "# Visualization 1: Investment Trends\n",
    "plt.figure(figsize=(15, 8))\n",
    "colors = {'DE': 'blue', 'FR': 'red', 'IT': 'green', 'ES': 'orange', 'PL': 'purple'}"
   ]
  },
  {
   "cell_type": "code",
   "execution_count": 25,
   "id": "237bd833",
   "metadata": {
    "execution": {
     "iopub.execute_input": "2024-12-16T00:05:57.790086Z",
     "iopub.status.busy": "2024-12-16T00:05:57.789853Z",
     "iopub.status.idle": "2024-12-16T00:05:57.956752Z",
     "shell.execute_reply": "2024-12-16T00:05:57.956127Z"
    },
    "papermill": {
     "duration": 0.173872,
     "end_time": "2024-12-16T00:05:57.958427",
     "exception": false,
     "start_time": "2024-12-16T00:05:57.784555",
     "status": "completed"
    },
    "tags": []
   },
   "outputs": [
    {
     "data": {
      "image/png": "[encoded data removed]",
      "text/plain": [
       "<Figure size 1200x600 with 1 Axes>"
      ]
     },
     "metadata": {},
     "output_type": "display_data"
    }
   ],
   "source": [
    "for country in major_countries:\n",
    "    country_data = major_country_data[major_country_data['geo_time_period'] == country]\n",
    "    if not country_data.empty:\n",
    "        country_data = country_data.sort_values('year')\n",
    "        plt.plot(country_data['year'], \n",
    "                country_data['value'], \n",
    "                label=country_names[country],\n",
    "                color=colors[country],\n",
    "                marker='o')"
   ]
  },
  {
   "cell_type": "code",
   "execution_count": 26,
   "id": "f95c0778",
   "metadata": {
    "execution": {
     "iopub.execute_input": "2024-12-16T00:05:57.974120Z",
     "iopub.status.busy": "2024-12-16T00:05:57.973978Z",
     "iopub.status.idle": "2024-12-16T00:05:58.094133Z",
     "shell.execute_reply": "2024-12-16T00:05:58.093691Z"
    },
    "papermill": {
     "duration": 0.127376,
     "end_time": "2024-12-16T00:05:58.095343",
     "exception": false,
     "start_time": "2024-12-16T00:05:57.967967",
     "status": "completed"
    },
    "tags": []
   },
   "outputs": [
    {
     "name": "stderr",
     "output_type": "stream",
     "text": [
      "2024-12-16 00:05:57,988 - WARNING - No artists with labels found to put in legend.  Note that artists whose label start with an underscore are ignored when legend() is called with no argument.\n"
     ]
    },
    {
     "data": {
      "image/png": "[encoded data removed]",
      "text/plain": [
       "<Figure size 1200x600 with 1 Axes>"
      ]
     },
     "metadata": {},
     "output_type": "display_data"
    }
   ],
   "source": [
    "plt.title('Education Investment Trends in Major EU Countries')\n",
    "plt.xlabel('Year')\n",
    "plt.ylabel('Investment Value')\n",
    "plt.legend()\n",
    "plt.grid(True, linestyle='--', alpha=0.7)\n",
    "plt.gca().spines['top'].set_visible(False)\n",
    "plt.gca().spines['right'].set_visible(False)\n",
    "plt.tight_layout()\n",
    "plt.show()"
   ]
  },
  {
   "cell_type": "code",
   "execution_count": 27,
   "id": "9b83cbf2",
   "metadata": {
    "execution": {
     "iopub.execute_input": "2024-12-16T00:05:58.107282Z",
     "iopub.status.busy": "2024-12-16T00:05:58.107143Z",
     "iopub.status.idle": "2024-12-16T00:05:58.109636Z",
     "shell.execute_reply": "2024-12-16T00:05:58.109312Z"
    },
    "papermill": {
     "duration": 0.009511,
     "end_time": "2024-12-16T00:05:58.110557",
     "exception": false,
     "start_time": "2024-12-16T00:05:58.101046",
     "status": "completed"
    },
    "tags": []
   },
   "outputs": [
    {
     "name": "stdout",
     "output_type": "stream",
     "text": [
      "\n",
      "Compound Annual Growth Rate (CAGR) by Country:\n",
      "----------------------------------------\n"
     ]
    }
   ],
   "source": [
    "# %%\n",
    "# Calculate and display CAGR\n",
    "print(\"\\nCompound Annual Growth Rate (CAGR) by Country:\")\n",
    "print(\"-\" * 40)"
   ]
  },
  {
   "cell_type": "code",
   "execution_count": 28,
   "id": "d92b22d1",
   "metadata": {
    "execution": {
     "iopub.execute_input": "2024-12-16T00:05:58.121248Z",
     "iopub.status.busy": "2024-12-16T00:05:58.121136Z",
     "iopub.status.idle": "2024-12-16T00:05:58.126820Z",
     "shell.execute_reply": "2024-12-16T00:05:58.126481Z"
    },
    "papermill": {
     "duration": 0.011986,
     "end_time": "2024-12-16T00:05:58.127579",
     "exception": false,
     "start_time": "2024-12-16T00:05:58.115593",
     "status": "completed"
    },
    "tags": []
   },
   "outputs": [
    {
     "name": "stdout",
     "output_type": "stream",
     "text": [
      "Germany: 3.86%\n",
      "France: -4.81%\n",
      "Italy: 2.04%\n",
      "Spain: 95.69%\n",
      "Poland: 7.70%\n"
     ]
    }
   ],
   "source": [
    "for country in major_countries:\n",
    "    country_data = major_country_data[major_country_data['geo_time_period'] == country]\n",
    "    if len(country_data) >= 2:\n",
    "        # Sort by year and get first and last values\n",
    "        country_data = country_data.sort_values('year')\n",
    "        first_year = country_data.iloc[0]\n",
    "        last_year = country_data.iloc[-1]\n",
    "        \n",
    "        # Calculate CAGR\n",
    "        years = last_year['year'] - first_year['year']\n",
    "        if years > 0:\n",
    "            cagr = (((last_year['value'] / first_year['value']) ** (1/years)) - 1) * 100\n",
    "            print(f\"{country_names[country]}: {cagr:.2f}%\")"
   ]
  },
  {
   "cell_type": "markdown",
   "id": "18846910",
   "metadata": {
    "papermill": {
     "duration": 0.005362,
     "end_time": "2024-12-16T00:05:58.138056",
     "exception": false,
     "start_time": "2024-12-16T00:05:58.132694",
     "status": "completed"
    },
    "tags": []
   },
   "source": [
    "%% [markdown]\n",
    "### Analysis 2: Economic Correlation Analysis"
   ]
  },
  {
   "cell_type": "code",
   "execution_count": 29,
   "id": "5b3052fb",
   "metadata": {
    "execution": {
     "iopub.execute_input": "2024-12-16T00:05:58.149514Z",
     "iopub.status.busy": "2024-12-16T00:05:58.149390Z",
     "iopub.status.idle": "2024-12-16T00:05:58.151161Z",
     "shell.execute_reply": "2024-12-16T00:05:58.150925Z"
    },
    "papermill": {
     "duration": 0.00872,
     "end_time": "2024-12-16T00:05:58.152059",
     "exception": false,
     "start_time": "2024-12-16T00:05:58.143339",
     "status": "completed"
    },
    "tags": []
   },
   "outputs": [
    {
     "name": "stdout",
     "output_type": "stream",
     "text": [
      "\n",
      "Analyzing correlation with economic indicators...\n",
      "----------------------------------------\n"
     ]
    }
   ],
   "source": [
    "# %%\n",
    "print(\"\\nAnalyzing correlation with economic indicators...\")\n",
    "print(\"-\" * 40)"
   ]
  },
  {
   "cell_type": "code",
   "execution_count": 30,
   "id": "dbd93f5e",
   "metadata": {
    "execution": {
     "iopub.execute_input": "2024-12-16T00:05:58.163349Z",
     "iopub.status.busy": "2024-12-16T00:05:58.163196Z",
     "iopub.status.idle": "2024-12-16T00:05:58.167894Z",
     "shell.execute_reply": "2024-12-16T00:05:58.167645Z"
    },
    "papermill": {
     "duration": 0.011148,
     "end_time": "2024-12-16T00:05:58.168655",
     "exception": false,
     "start_time": "2024-12-16T00:05:58.157507",
     "status": "completed"
    },
    "tags": []
   },
   "outputs": [],
   "source": [
    "# Merge education and economic data\n",
    "merged_data = pd.merge(\n",
    "    education_data_cleaned,\n",
    "    economic_data,\n",
    "    left_on=['geo_time_period', 'year'],\n",
    "    right_on=['country_code', 'year'],\n",
    "    how='inner'\n",
    ")"
   ]
  },
  {
   "cell_type": "code",
   "execution_count": 31,
   "id": "5ac64f1b",
   "metadata": {
    "execution": {
     "iopub.execute_input": "2024-12-16T00:05:58.180100Z",
     "iopub.status.busy": "2024-12-16T00:05:58.179984Z",
     "iopub.status.idle": "2024-12-16T00:05:58.183143Z",
     "shell.execute_reply": "2024-12-16T00:05:58.182444Z"
    },
    "papermill": {
     "duration": 0.010393,
     "end_time": "2024-12-16T00:05:58.184215",
     "exception": false,
     "start_time": "2024-12-16T00:05:58.173822",
     "status": "completed"
    },
    "tags": []
   },
   "outputs": [],
   "source": [
    "if not merged_data.empty:\n",
    "    # Calculate correlations\n",
    "    correlation_vars = ['value', 'gdp_growth', 'employment_rate', 'gdp_per_capita']\n",
    "    correlations = merged_data[correlation_vars].corr()\n",
    "    \n",
    "    # Plot correlation heatmap\n",
    "    plt.figure(figsize=(10, 8))\n",
    "    sns.heatmap(correlations, annot=True, cmap='coolwarm', center=0)\n",
    "    plt.title('Correlation between Education Investment and Economic Indicators')\n",
    "    plt.tight_layout()\n",
    "    plt.show()\n",
    "    \n",
    "    # Print key findings\n",
    "    edu_gdp_corr = correlations.loc['value', 'gdp_per_capita']\n",
    "    edu_emp_corr = correlations.loc['value', 'employment_rate']\n",
    "    print(f\"\\nKey Correlations:\")\n",
    "    print(f\"Education Investment vs GDP per capita: {edu_gdp_corr:.2f}\")\n",
    "    print(f\"Education Investment vs Employment Rate: {edu_emp_corr:.2f}\")"
   ]
  },
  {
   "cell_type": "markdown",
   "id": "23328c2c",
   "metadata": {
    "papermill": {
     "duration": 0.005304,
     "end_time": "2024-12-16T00:05:58.195099",
     "exception": false,
     "start_time": "2024-12-16T00:05:58.189795",
     "status": "completed"
    },
    "tags": []
   },
   "source": [
    "%% [markdown]\n",
    "### Analysis 3: Policy Impact Analysis"
   ]
  },
  {
   "cell_type": "code",
   "execution_count": 32,
   "id": "0af70f91",
   "metadata": {
    "execution": {
     "iopub.execute_input": "2024-12-16T00:05:58.207131Z",
     "iopub.status.busy": "2024-12-16T00:05:58.206975Z",
     "iopub.status.idle": "2024-12-16T00:05:58.210271Z",
     "shell.execute_reply": "2024-12-16T00:05:58.209837Z"
    },
    "papermill": {
     "duration": 0.010732,
     "end_time": "2024-12-16T00:05:58.211122",
     "exception": false,
     "start_time": "2024-12-16T00:05:58.200390",
     "status": "completed"
    },
    "tags": []
   },
   "outputs": [
    {
     "name": "stdout",
     "output_type": "stream",
     "text": [
      "\n",
      "Analyzing Policy Impact...\n",
      "----------------------------------------\n"
     ]
    }
   ],
   "source": [
    "# %%\n",
    "if policy_docs:\n",
    "    print(\"\\nAnalyzing Policy Impact...\")\n",
    "    print(\"-\" * 40)\n",
    "    \n",
    "    # Extract policy years and analyze investment changes\n",
    "    policy_years = []\n",
    "    policy_countries = []\n",
    "    \n",
    "    for doc in policy_docs:\n",
    "        if 'year' in doc and 'country' in doc:\n",
    "            policy_years.append(doc['year'])\n",
    "            policy_countries.append(doc['country'])\n",
    "    \n",
    "    if policy_years:\n",
    "        # Analyze investment changes around policy implementation\n",
    "        for country, year in zip(policy_countries, policy_years):\n",
    "            country_data = education_data_cleaned[\n",
    "                education_data_cleaned['geo_time_period'] == country\n",
    "            ]\n",
    "            \n",
    "            if not country_data.empty:\n",
    "                # Get investment before and after policy\n",
    "                before_policy = country_data[country_data['year'] < year]['value'].mean()\n",
    "                after_policy = country_data[country_data['year'] >= year]['value'].mean()\n",
    "                \n",
    "                change_pct = ((after_policy - before_policy) / before_policy) * 100\n",
    "                print(f\"\\nCountry: {country}\")\n",
    "                print(f\"Policy Year: {year}\")\n",
    "                print(f\"Average Investment Change: {change_pct:.2f}%\")"
   ]
  },
  {
   "cell_type": "markdown",
   "id": "fe41d27c",
   "metadata": {
    "papermill": {
     "duration": 0.005313,
     "end_time": "2024-12-16T00:05:58.222013",
     "exception": false,
     "start_time": "2024-12-16T00:05:58.216700",
     "status": "completed"
    },
    "tags": []
   },
   "source": [
    "%% [markdown]\n",
    "### Analysis 4: Investment Efficiency Analysis"
   ]
  },
  {
   "cell_type": "code",
   "execution_count": 33,
   "id": "74c4d0e8",
   "metadata": {
    "execution": {
     "iopub.execute_input": "2024-12-16T00:05:58.234053Z",
     "iopub.status.busy": "2024-12-16T00:05:58.233930Z",
     "iopub.status.idle": "2024-12-16T00:05:58.235750Z",
     "shell.execute_reply": "2024-12-16T00:05:58.235494Z"
    },
    "papermill": {
     "duration": 0.008974,
     "end_time": "2024-12-16T00:05:58.236552",
     "exception": false,
     "start_time": "2024-12-16T00:05:58.227578",
     "status": "completed"
    },
    "tags": []
   },
   "outputs": [
    {
     "name": "stdout",
     "output_type": "stream",
     "text": [
      "\n",
      "Analyzing Investment Efficiency...\n",
      "----------------------------------------\n"
     ]
    }
   ],
   "source": [
    "# %%\n",
    "print(\"\\nAnalyzing Investment Efficiency...\")\n",
    "print(\"-\" * 40)"
   ]
  },
  {
   "cell_type": "code",
   "execution_count": 34,
   "id": "6b00e02e",
   "metadata": {
    "execution": {
     "iopub.execute_input": "2024-12-16T00:05:58.249039Z",
     "iopub.status.busy": "2024-12-16T00:05:58.248875Z",
     "iopub.status.idle": "2024-12-16T00:05:58.252579Z",
     "shell.execute_reply": "2024-12-16T00:05:58.252263Z"
    },
    "papermill": {
     "duration": 0.011681,
     "end_time": "2024-12-16T00:05:58.253394",
     "exception": false,
     "start_time": "2024-12-16T00:05:58.241713",
     "status": "completed"
    },
    "tags": []
   },
   "outputs": [],
   "source": [
    "if not merged_data.empty:\n",
    "    # Calculate investment efficiency (GDP per capita / Education Investment)\n",
    "    merged_data['investment_efficiency'] = merged_data['gdp_per_capita'] / merged_data['value']\n",
    "    \n",
    "    # Get top 5 most efficient countries\n",
    "    latest_year = merged_data['year'].max()\n",
    "    latest_efficiency = merged_data[merged_data['year'] == latest_year]\n",
    "    top_efficient = latest_efficiency.nlargest(5, 'investment_efficiency')\n",
    "    \n",
    "    plt.figure(figsize=(12, 6))\n",
    "    sns.barplot(data=top_efficient, x='geo_time_period', y='investment_efficiency')\n",
    "    plt.title(f'Top 5 Countries by Investment Efficiency ({latest_year})')\n",
    "    plt.xlabel('Country')\n",
    "    plt.ylabel('Efficiency Ratio (GDP per capita / Investment)')\n",
    "    plt.xticks(rotation=45)\n",
    "    plt.tight_layout()\n",
    "    plt.show()\n",
    "    \n",
    "    print(\"\\nTop 5 Countries by Investment Efficiency:\")\n",
    "    for _, row in top_efficient.iterrows():\n",
    "        print(f\"{row['geo_time_period']}: {row['investment_efficiency']:.2f}\")"
   ]
  },
  {
   "cell_type": "markdown",
   "id": "2cf44829",
   "metadata": {
    "papermill": {
     "duration": 0.005353,
     "end_time": "2024-12-16T00:05:58.264573",
     "exception": false,
     "start_time": "2024-12-16T00:05:58.259220",
     "status": "completed"
    },
    "tags": []
   },
   "source": [
    "%% [markdown]\n",
    "## Step 5: Cleanup"
   ]
  },
  {
   "cell_type": "code",
   "execution_count": 35,
   "id": "8885cb8e",
   "metadata": {
    "execution": {
     "iopub.execute_input": "2024-12-16T00:05:58.276327Z",
     "iopub.status.busy": "2024-12-16T00:05:58.276214Z",
     "iopub.status.idle": "2024-12-16T00:05:58.278296Z",
     "shell.execute_reply": "2024-12-16T00:05:58.277986Z"
    },
    "papermill": {
     "duration": 0.009166,
     "end_time": "2024-12-16T00:05:58.279051",
     "exception": false,
     "start_time": "2024-12-16T00:05:58.269885",
     "status": "completed"
    },
    "tags": []
   },
   "outputs": [
    {
     "name": "stdout",
     "output_type": "stream",
     "text": [
      "\n",
      "Step 5: Cleanup\n",
      "--------------------------------------------------\n"
     ]
    }
   ],
   "source": [
    "# %%\n",
    "print(\"\\nStep 5: Cleanup\")\n",
    "print(\"-\" * 50)"
   ]
  },
  {
   "cell_type": "code",
   "execution_count": 36,
   "id": "34636d9f",
   "metadata": {
    "execution": {
     "iopub.execute_input": "2024-12-16T00:05:58.291409Z",
     "iopub.status.busy": "2024-12-16T00:05:58.291269Z",
     "iopub.status.idle": "2024-12-16T00:05:58.570624Z",
     "shell.execute_reply": "2024-12-16T00:05:58.570302Z"
    },
    "papermill": {
     "duration": 0.286684,
     "end_time": "2024-12-16T00:05:58.571667",
     "exception": false,
     "start_time": "2024-12-16T00:05:58.284983",
     "status": "completed"
    },
    "tags": []
   },
   "outputs": [
    {
     "name": "stdout",
     "output_type": "stream",
     "text": [
      "\n",
      "Closing database connections...\n"
     ]
    },
    {
     "name": "stderr",
     "output_type": "stream",
     "text": [
      "2024-12-16 00:05:58,568 - INFO - All database connections closed\n"
     ]
    }
   ],
   "source": [
    "# Close database connections\n",
    "print(\"\\nClosing database connections...\")\n",
    "db_manager.close_connections()"
   ]
  },
  {
   "cell_type": "code",
   "execution_count": 37,
   "id": "c0c414d5",
   "metadata": {
    "execution": {
     "iopub.execute_input": "2024-12-16T00:05:58.584478Z",
     "iopub.status.busy": "2024-12-16T00:05:58.584355Z",
     "iopub.status.idle": "2024-12-16T00:05:58.586149Z",
     "shell.execute_reply": "2024-12-16T00:05:58.585921Z"
    },
    "papermill": {
     "duration": 0.008931,
     "end_time": "2024-12-16T00:05:58.586986",
     "exception": false,
     "start_time": "2024-12-16T00:05:58.578055",
     "status": "completed"
    },
    "tags": []
   },
   "outputs": [
    {
     "name": "stdout",
     "output_type": "stream",
     "text": [
      "\n",
      "Analysis completed successfully!\n"
     ]
    }
   ],
   "source": [
    "print(\"\\nAnalysis completed successfully!\")"
   ]
  }
 ],
 "metadata": {
  "jupytext": {
   "cell_metadata_filter": "-all",
   "formats": "ipynb,py:light",
   "notebook_metadata_filter": "-all"
  },
  "kernelspec": {
   "display_name": "Python 3 (ipykernel)",
   "language": "python",
   "name": "python3"
  },
  "language_info": {
   "codemirror_mode": {
    "name": "ipython",
    "version": 3
   },
   "file_extension": ".py",
   "mimetype": "text/x-python",
   "name": "python",
   "nbconvert_exporter": "python",
   "pygments_lexer": "ipython3",
   "version": "3.11.2"
  },
  "papermill": {
   "default_parameters": {},
   "duration": 41.33609,
   "end_time": "2024-12-16T00:05:59.415684",
   "environment_variables": {},
   "exception": null,
   "input_path": "/Users/stark/item/nci/ProgrammingAI/education_analysis/notebooks/education_investment_analysis_v2.ipynb",
   "output_path": "/Users/stark/item/nci/ProgrammingAI/education_analysis/notebooks/education_investment_analysis_v2_output.ipynb",
   "parameters": {},
   "start_time": "2024-12-16T00:05:18.079594",
   "version": "2.6.0"
  }
 },
 "nbformat": 4,
 "nbformat_minor": 5
}