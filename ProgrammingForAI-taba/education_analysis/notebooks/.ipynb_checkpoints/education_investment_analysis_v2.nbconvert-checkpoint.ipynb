{
 "cells": [
  {
   "cell_type": "markdown",
   "id": "1ad165fd",
   "metadata": {},
   "source": [
    "%% [markdown]\n",
    "# Education Investment Analysis\n",
    "\n",
    "This notebook analyzes education investment data across EU countries, including economic indicators and policy impacts."
   ]
  },
  {
   "cell_type": "code",
   "execution_count": 1,
   "id": "b5acc50a",
   "metadata": {
    "execution": {
     "iopub.execute_input": "2024-12-16T23:04:31.176306Z",
     "iopub.status.busy": "2024-12-16T23:04:31.175989Z",
     "iopub.status.idle": "2024-12-16T23:04:32.259275Z",
     "shell.execute_reply": "2024-12-16T23:04:32.258828Z"
    }
   },
   "outputs": [
    {
     "name": "stdout",
     "output_type": "stream",
     "text": [
      "Requirement already satisfied: pandas in /Users/stark/.pyenv/versions/3.11.2/lib/python3.11/site-packages (2.1.3)\r\n",
      "Requirement already satisfied: numpy in /Users/stark/.pyenv/versions/3.11.2/lib/python3.11/site-packages (1.26.2)\r\n",
      "Requirement already satisfied: matplotlib in /Users/stark/.pyenv/versions/3.11.2/lib/python3.11/site-packages (3.8.2)\r\n",
      "Requirement already satisfied: seaborn in /Users/stark/.pyenv/versions/3.11.2/lib/python3.11/site-packages (0.13.0)\r\n",
      "Requirement already satisfied: plotly in /Users/stark/.pyenv/versions/3.11.2/lib/python3.11/site-packages (5.13.0)\r\n",
      "Requirement already satisfied: psycopg2-binary in /Users/stark/.pyenv/versions/3.11.2/lib/python3.11/site-packages (2.9.9)\r\n",
      "Requirement already satisfied: pymongo in /Users/stark/.pyenv/versions/3.11.2/lib/python3.11/site-packages (4.6.0)\r\n",
      "Requirement already satisfied: python-dotenv in /Users/stark/.pyenv/versions/3.11.2/lib/python3.11/site-packages (1.0.0)\r\n",
      "Requirement already satisfied: eurostat in /Users/stark/.pyenv/versions/3.11.2/lib/python3.11/site-packages (1.0.4)\r\n",
      "Requirement already satisfied: statsmodels in /Users/stark/.pyenv/versions/3.11.2/lib/python3.11/site-packages (0.14.4)\r\n",
      "Requirement already satisfied: python-dateutil>=2.8.2 in /Users/stark/.pyenv/versions/3.11.2/lib/python3.11/site-packages (from pandas) (2.9.0.post0)\r\n",
      "Requirement already satisfied: pytz>=2020.1 in /Users/stark/.pyenv/versions/3.11.2/lib/python3.11/site-packages (from pandas) (2023.4)\r\n",
      "Requirement already satisfied: tzdata>=2022.1 in /Users/stark/.pyenv/versions/3.11.2/lib/python3.11/site-packages (from pandas) (2024.1)\r\n",
      "Requirement already satisfied: contourpy>=1.0.1 in /Users/stark/.pyenv/versions/3.11.2/lib/python3.11/site-packages (from matplotlib) (1.2.1)\r\n",
      "Requirement already satisfied: cycler>=0.10 in /Users/stark/.pyenv/versions/3.11.2/lib/python3.11/site-packages (from matplotlib) (0.12.1)\r\n",
      "Requirement already satisfied: fonttools>=4.22.0 in /Users/stark/.pyenv/versions/3.11.2/lib/python3.11/site-packages (from matplotlib) (4.53.0)\r\n",
      "Requirement already satisfied: kiwisolver>=1.3.1 in /Users/stark/.pyenv/versions/3.11.2/lib/python3.11/site-packages (from matplotlib) (1.4.5)\r\n",
      "Requirement already satisfied: packaging>=20.0 in /Users/stark/.pyenv/versions/3.11.2/lib/python3.11/site-packages (from matplotlib) (24.0)\r\n",
      "Requirement already satisfied: pillow>=8 in /Users/stark/.pyenv/versions/3.11.2/lib/python3.11/site-packages (from matplotlib) (9.5.0)\r\n",
      "Requirement already satisfied: pyparsing>=2.3.1 in /Users/stark/.pyenv/versions/3.11.2/lib/python3.11/site-packages (from matplotlib) (3.1.2)\r\n",
      "Requirement already satisfied: tenacity>=6.2.0 in /Users/stark/.pyenv/versions/3.11.2/lib/python3.11/site-packages (from plotly) (8.2.3)\r\n",
      "Requirement already satisfied: dnspython<3.0.0,>=1.16.0 in /Users/stark/.pyenv/versions/3.11.2/lib/python3.11/site-packages (from pymongo) (2.6.1)\r\n",
      "Requirement already satisfied: requests in /Users/stark/.pyenv/versions/3.11.2/lib/python3.11/site-packages (from eurostat) (2.31.0)\r\n",
      "Requirement already satisfied: scipy!=1.9.2,>=1.8 in /Users/stark/.pyenv/versions/3.11.2/lib/python3.11/site-packages (from statsmodels) (1.10.0)\r\n",
      "Requirement already satisfied: patsy>=0.5.6 in /Users/stark/.pyenv/versions/3.11.2/lib/python3.11/site-packages (from statsmodels) (1.0.1)\r\n",
      "Requirement already satisfied: six>=1.5 in /Users/stark/.pyenv/versions/3.11.2/lib/python3.11/site-packages (from python-dateutil>=2.8.2->pandas) (1.16.0)\r\n"
     ]
    },
    {
     "name": "stdout",
     "output_type": "stream",
     "text": [
      "Requirement already satisfied: charset-normalizer<4,>=2 in /Users/stark/.pyenv/versions/3.11.2/lib/python3.11/site-packages (from requests->eurostat) (3.3.2)\r\n",
      "Requirement already satisfied: idna<4,>=2.5 in /Users/stark/.pyenv/versions/3.11.2/lib/python3.11/site-packages (from requests->eurostat) (3.6)\r\n",
      "Requirement already satisfied: urllib3<3,>=1.21.1 in /Users/stark/.pyenv/versions/3.11.2/lib/python3.11/site-packages (from requests->eurostat) (2.0.7)\r\n",
      "Requirement already satisfied: certifi>=2017.4.17 in /Users/stark/.pyenv/versions/3.11.2/lib/python3.11/site-packages (from requests->eurostat) (2024.2.2)\r\n"
     ]
    },
    {
     "name": "stdout",
     "output_type": "stream",
     "text": [
      "\r\n",
      "\u001b[1m[\u001b[0m\u001b[34;49mnotice\u001b[0m\u001b[1;39;49m]\u001b[0m\u001b[39;49m A new release of pip is available: \u001b[0m\u001b[31;49m24.2\u001b[0m\u001b[39;49m -> \u001b[0m\u001b[32;49m24.3.1\u001b[0m\r\n",
      "\u001b[1m[\u001b[0m\u001b[34;49mnotice\u001b[0m\u001b[1;39;49m]\u001b[0m\u001b[39;49m To update, run: \u001b[0m\u001b[32;49mpip install --upgrade pip\u001b[0m\r\n"
     ]
    }
   ],
   "source": [
    "!pip install pandas numpy matplotlib seaborn plotly psycopg2-binary pymongo python-dotenv eurostat statsmodels"
   ]
  },
  {
   "cell_type": "code",
   "execution_count": 2,
   "id": "80d142e2",
   "metadata": {
    "execution": {
     "iopub.execute_input": "2024-12-16T23:04:32.261377Z",
     "iopub.status.busy": "2024-12-16T23:04:32.261231Z",
     "iopub.status.idle": "2024-12-16T23:04:33.109868Z",
     "shell.execute_reply": "2024-12-16T23:04:33.109135Z"
    }
   },
   "outputs": [
    {
     "name": "stdout",
     "output_type": "stream",
     "text": [
      "Requirement already satisfied: pandas in /Users/stark/.pyenv/versions/3.11.2/lib/python3.11/site-packages (2.1.3)\r\n",
      "Requirement already satisfied: numpy in /Users/stark/.pyenv/versions/3.11.2/lib/python3.11/site-packages (1.26.2)\r\n",
      "Requirement already satisfied: matplotlib in /Users/stark/.pyenv/versions/3.11.2/lib/python3.11/site-packages (3.8.2)\r\n",
      "Requirement already satisfied: seaborn in /Users/stark/.pyenv/versions/3.11.2/lib/python3.11/site-packages (0.13.0)\r\n",
      "Requirement already satisfied: plotly in /Users/stark/.pyenv/versions/3.11.2/lib/python3.11/site-packages (5.13.0)\r\n",
      "Requirement already satisfied: psycopg2-binary in /Users/stark/.pyenv/versions/3.11.2/lib/python3.11/site-packages (2.9.9)\r\n",
      "Requirement already satisfied: pymongo in /Users/stark/.pyenv/versions/3.11.2/lib/python3.11/site-packages (4.6.0)\r\n",
      "Requirement already satisfied: python-dotenv in /Users/stark/.pyenv/versions/3.11.2/lib/python3.11/site-packages (1.0.0)\r\n",
      "Requirement already satisfied: eurostat in /Users/stark/.pyenv/versions/3.11.2/lib/python3.11/site-packages (1.0.4)\r\n",
      "Requirement already satisfied: statsmodels in /Users/stark/.pyenv/versions/3.11.2/lib/python3.11/site-packages (0.14.4)\r\n",
      "Requirement already satisfied: python-dateutil>=2.8.2 in /Users/stark/.pyenv/versions/3.11.2/lib/python3.11/site-packages (from pandas) (2.9.0.post0)\r\n",
      "Requirement already satisfied: pytz>=2020.1 in /Users/stark/.pyenv/versions/3.11.2/lib/python3.11/site-packages (from pandas) (2023.4)\r\n",
      "Requirement already satisfied: tzdata>=2022.1 in /Users/stark/.pyenv/versions/3.11.2/lib/python3.11/site-packages (from pandas) (2024.1)\r\n",
      "Requirement already satisfied: contourpy>=1.0.1 in /Users/stark/.pyenv/versions/3.11.2/lib/python3.11/site-packages (from matplotlib) (1.2.1)\r\n",
      "Requirement already satisfied: cycler>=0.10 in /Users/stark/.pyenv/versions/3.11.2/lib/python3.11/site-packages (from matplotlib) (0.12.1)\r\n",
      "Requirement already satisfied: fonttools>=4.22.0 in /Users/stark/.pyenv/versions/3.11.2/lib/python3.11/site-packages (from matplotlib) (4.53.0)\r\n",
      "Requirement already satisfied: kiwisolver>=1.3.1 in /Users/stark/.pyenv/versions/3.11.2/lib/python3.11/site-packages (from matplotlib) (1.4.5)\r\n",
      "Requirement already satisfied: packaging>=20.0 in /Users/stark/.pyenv/versions/3.11.2/lib/python3.11/site-packages (from matplotlib) (24.0)\r\n",
      "Requirement already satisfied: pillow>=8 in /Users/stark/.pyenv/versions/3.11.2/lib/python3.11/site-packages (from matplotlib) (9.5.0)\r\n",
      "Requirement already satisfied: pyparsing>=2.3.1 in /Users/stark/.pyenv/versions/3.11.2/lib/python3.11/site-packages (from matplotlib) (3.1.2)\r\n",
      "Requirement already satisfied: tenacity>=6.2.0 in /Users/stark/.pyenv/versions/3.11.2/lib/python3.11/site-packages (from plotly) (8.2.3)\r\n",
      "Requirement already satisfied: dnspython<3.0.0,>=1.16.0 in /Users/stark/.pyenv/versions/3.11.2/lib/python3.11/site-packages (from pymongo) (2.6.1)\r\n",
      "Requirement already satisfied: requests in /Users/stark/.pyenv/versions/3.11.2/lib/python3.11/site-packages (from eurostat) (2.31.0)\r\n"
     ]
    },
    {
     "name": "stdout",
     "output_type": "stream",
     "text": [
      "Requirement already satisfied: scipy!=1.9.2,>=1.8 in /Users/stark/.pyenv/versions/3.11.2/lib/python3.11/site-packages (from statsmodels) (1.10.0)\r\n",
      "Requirement already satisfied: patsy>=0.5.6 in /Users/stark/.pyenv/versions/3.11.2/lib/python3.11/site-packages (from statsmodels) (1.0.1)\r\n",
      "Requirement already satisfied: six>=1.5 in /Users/stark/.pyenv/versions/3.11.2/lib/python3.11/site-packages (from python-dateutil>=2.8.2->pandas) (1.16.0)\r\n",
      "Requirement already satisfied: charset-normalizer<4,>=2 in /Users/stark/.pyenv/versions/3.11.2/lib/python3.11/site-packages (from requests->eurostat) (3.3.2)\r\n",
      "Requirement already satisfied: idna<4,>=2.5 in /Users/stark/.pyenv/versions/3.11.2/lib/python3.11/site-packages (from requests->eurostat) (3.6)\r\n",
      "Requirement already satisfied: urllib3<3,>=1.21.1 in /Users/stark/.pyenv/versions/3.11.2/lib/python3.11/site-packages (from requests->eurostat) (2.0.7)\r\n",
      "Requirement already satisfied: certifi>=2017.4.17 in /Users/stark/.pyenv/versions/3.11.2/lib/python3.11/site-packages (from requests->eurostat) (2024.2.2)\r\n"
     ]
    },
    {
     "name": "stdout",
     "output_type": "stream",
     "text": [
      "\r\n",
      "\u001b[1m[\u001b[0m\u001b[34;49mnotice\u001b[0m\u001b[1;39;49m]\u001b[0m\u001b[39;49m A new release of pip is available: \u001b[0m\u001b[31;49m24.2\u001b[0m\u001b[39;49m -> \u001b[0m\u001b[32;49m24.3.1\u001b[0m\r\n",
      "\u001b[1m[\u001b[0m\u001b[34;49mnotice\u001b[0m\u001b[1;39;49m]\u001b[0m\u001b[39;49m To update, run: \u001b[0m\u001b[32;49mpip install --upgrade pip\u001b[0m\r\n"
     ]
    }
   ],
   "source": [
    "!pip install pandas numpy matplotlib seaborn plotly psycopg2-binary pymongo python-dotenv eurostat statsmodels"
   ]
  },
  {
   "cell_type": "code",
   "execution_count": 3,
   "id": "9d72a307",
   "metadata": {
    "execution": {
     "iopub.execute_input": "2024-12-16T23:04:33.112333Z",
     "iopub.status.busy": "2024-12-16T23:04:33.112182Z",
     "iopub.status.idle": "2024-12-16T23:04:33.959804Z",
     "shell.execute_reply": "2024-12-16T23:04:33.959217Z"
    }
   },
   "outputs": [
    {
     "name": "stdout",
     "output_type": "stream",
     "text": [
      "Requirement already satisfied: pandas in /Users/stark/.pyenv/versions/3.11.2/lib/python3.11/site-packages (2.1.3)\r\n",
      "Requirement already satisfied: numpy in /Users/stark/.pyenv/versions/3.11.2/lib/python3.11/site-packages (1.26.2)\r\n",
      "Requirement already satisfied: matplotlib in /Users/stark/.pyenv/versions/3.11.2/lib/python3.11/site-packages (3.8.2)\r\n",
      "Requirement already satisfied: seaborn in /Users/stark/.pyenv/versions/3.11.2/lib/python3.11/site-packages (0.13.0)\r\n",
      "Requirement already satisfied: plotly in /Users/stark/.pyenv/versions/3.11.2/lib/python3.11/site-packages (5.13.0)\r\n",
      "Requirement already satisfied: psycopg2-binary in /Users/stark/.pyenv/versions/3.11.2/lib/python3.11/site-packages (2.9.9)\r\n",
      "Requirement already satisfied: pymongo in /Users/stark/.pyenv/versions/3.11.2/lib/python3.11/site-packages (4.6.0)\r\n",
      "Requirement already satisfied: python-dotenv in /Users/stark/.pyenv/versions/3.11.2/lib/python3.11/site-packages (1.0.0)\r\n",
      "Requirement already satisfied: eurostat in /Users/stark/.pyenv/versions/3.11.2/lib/python3.11/site-packages (1.0.4)\r\n",
      "Requirement already satisfied: statsmodels in /Users/stark/.pyenv/versions/3.11.2/lib/python3.11/site-packages (0.14.4)\r\n",
      "Requirement already satisfied: python-dateutil>=2.8.2 in /Users/stark/.pyenv/versions/3.11.2/lib/python3.11/site-packages (from pandas) (2.9.0.post0)\r\n",
      "Requirement already satisfied: pytz>=2020.1 in /Users/stark/.pyenv/versions/3.11.2/lib/python3.11/site-packages (from pandas) (2023.4)\r\n",
      "Requirement already satisfied: tzdata>=2022.1 in /Users/stark/.pyenv/versions/3.11.2/lib/python3.11/site-packages (from pandas) (2024.1)\r\n",
      "Requirement already satisfied: contourpy>=1.0.1 in /Users/stark/.pyenv/versions/3.11.2/lib/python3.11/site-packages (from matplotlib) (1.2.1)\r\n",
      "Requirement already satisfied: cycler>=0.10 in /Users/stark/.pyenv/versions/3.11.2/lib/python3.11/site-packages (from matplotlib) (0.12.1)\r\n",
      "Requirement already satisfied: fonttools>=4.22.0 in /Users/stark/.pyenv/versions/3.11.2/lib/python3.11/site-packages (from matplotlib) (4.53.0)\r\n",
      "Requirement already satisfied: kiwisolver>=1.3.1 in /Users/stark/.pyenv/versions/3.11.2/lib/python3.11/site-packages (from matplotlib) (1.4.5)\r\n",
      "Requirement already satisfied: packaging>=20.0 in /Users/stark/.pyenv/versions/3.11.2/lib/python3.11/site-packages (from matplotlib) (24.0)\r\n",
      "Requirement already satisfied: pillow>=8 in /Users/stark/.pyenv/versions/3.11.2/lib/python3.11/site-packages (from matplotlib) (9.5.0)\r\n",
      "Requirement already satisfied: pyparsing>=2.3.1 in /Users/stark/.pyenv/versions/3.11.2/lib/python3.11/site-packages (from matplotlib) (3.1.2)\r\n",
      "Requirement already satisfied: tenacity>=6.2.0 in /Users/stark/.pyenv/versions/3.11.2/lib/python3.11/site-packages (from plotly) (8.2.3)\r\n",
      "Requirement already satisfied: dnspython<3.0.0,>=1.16.0 in /Users/stark/.pyenv/versions/3.11.2/lib/python3.11/site-packages (from pymongo) (2.6.1)\r\n"
     ]
    },
    {
     "name": "stdout",
     "output_type": "stream",
     "text": [
      "Requirement already satisfied: requests in /Users/stark/.pyenv/versions/3.11.2/lib/python3.11/site-packages (from eurostat) (2.31.0)\r\n",
      "Requirement already satisfied: scipy!=1.9.2,>=1.8 in /Users/stark/.pyenv/versions/3.11.2/lib/python3.11/site-packages (from statsmodels) (1.10.0)\r\n",
      "Requirement already satisfied: patsy>=0.5.6 in /Users/stark/.pyenv/versions/3.11.2/lib/python3.11/site-packages (from statsmodels) (1.0.1)\r\n",
      "Requirement already satisfied: six>=1.5 in /Users/stark/.pyenv/versions/3.11.2/lib/python3.11/site-packages (from python-dateutil>=2.8.2->pandas) (1.16.0)\r\n",
      "Requirement already satisfied: charset-normalizer<4,>=2 in /Users/stark/.pyenv/versions/3.11.2/lib/python3.11/site-packages (from requests->eurostat) (3.3.2)\r\n",
      "Requirement already satisfied: idna<4,>=2.5 in /Users/stark/.pyenv/versions/3.11.2/lib/python3.11/site-packages (from requests->eurostat) (3.6)\r\n",
      "Requirement already satisfied: urllib3<3,>=1.21.1 in /Users/stark/.pyenv/versions/3.11.2/lib/python3.11/site-packages (from requests->eurostat) (2.0.7)\r\n",
      "Requirement already satisfied: certifi>=2017.4.17 in /Users/stark/.pyenv/versions/3.11.2/lib/python3.11/site-packages (from requests->eurostat) (2024.2.2)\r\n"
     ]
    },
    {
     "name": "stdout",
     "output_type": "stream",
     "text": [
      "\r\n",
      "\u001b[1m[\u001b[0m\u001b[34;49mnotice\u001b[0m\u001b[1;39;49m]\u001b[0m\u001b[39;49m A new release of pip is available: \u001b[0m\u001b[31;49m24.2\u001b[0m\u001b[39;49m -> \u001b[0m\u001b[32;49m24.3.1\u001b[0m\r\n",
      "\u001b[1m[\u001b[0m\u001b[34;49mnotice\u001b[0m\u001b[1;39;49m]\u001b[0m\u001b[39;49m To update, run: \u001b[0m\u001b[32;49mpip install --upgrade pip\u001b[0m\r\n"
     ]
    }
   ],
   "source": [
    "!pip install pandas numpy matplotlib seaborn plotly psycopg2-binary pymongo python-dotenv eurostat statsmodels"
   ]
  },
  {
   "cell_type": "code",
   "execution_count": 4,
   "id": "a8a24452",
   "metadata": {
    "execution": {
     "iopub.execute_input": "2024-12-16T23:04:33.962457Z",
     "iopub.status.busy": "2024-12-16T23:04:33.962175Z",
     "iopub.status.idle": "2024-12-16T23:04:34.773924Z",
     "shell.execute_reply": "2024-12-16T23:04:34.773530Z"
    }
   },
   "outputs": [],
   "source": [
    "# %%\n",
    "# Import required libraries\n",
    "import sys\n",
    "import os\n",
    "import json\n",
    "from pathlib import Path\n",
    "import pandas as pd\n",
    "import numpy as np\n",
    "import matplotlib.pyplot as plt\n",
    "import seaborn as sns\n",
    "from dotenv import load_dotenv\n",
    "import matplotlib"
   ]
  },
  {
   "cell_type": "code",
   "execution_count": 5,
   "id": "f482aa4d",
   "metadata": {
    "execution": {
     "iopub.execute_input": "2024-12-16T23:04:34.775711Z",
     "iopub.status.busy": "2024-12-16T23:04:34.775518Z",
     "iopub.status.idle": "2024-12-16T23:04:34.779285Z",
     "shell.execute_reply": "2024-12-16T23:04:34.779083Z"
    }
   },
   "outputs": [
    {
     "data": {
      "text/plain": [
       "True"
      ]
     },
     "execution_count": 5,
     "metadata": {},
     "output_type": "execute_result"
    }
   ],
   "source": [
    "# %%\n",
    "# Load environment variables from .env file\n",
    "load_dotenv(Path('..').resolve() / '.env')"
   ]
  },
  {
   "cell_type": "code",
   "execution_count": 6,
   "id": "a1b4bee2",
   "metadata": {
    "execution": {
     "iopub.execute_input": "2024-12-16T23:04:34.780415Z",
     "iopub.status.busy": "2024-12-16T23:04:34.780337Z",
     "iopub.status.idle": "2024-12-16T23:04:34.781976Z",
     "shell.execute_reply": "2024-12-16T23:04:34.781754Z"
    }
   },
   "outputs": [],
   "source": [
    "# %%\n",
    "# Add project root to Python path\n",
    "project_root = Path('..').resolve()\n",
    "sys.path.append(str(project_root))"
   ]
  },
  {
   "cell_type": "code",
   "execution_count": 7,
   "id": "04133396",
   "metadata": {
    "execution": {
     "iopub.execute_input": "2024-12-16T23:04:34.783156Z",
     "iopub.status.busy": "2024-12-16T23:04:34.783076Z",
     "iopub.status.idle": "2024-12-16T23:04:35.178606Z",
     "shell.execute_reply": "2024-12-16T23:04:35.178368Z"
    }
   },
   "outputs": [],
   "source": [
    "# %%\n",
    "# Import project modules\n",
    "from src.data_processing.db_manager import DatabaseManager\n",
    "from src.data_processing.data_cleaner import DataCleaner\n",
    "from src.data_collection.eurostat_collector import EurostatCollector"
   ]
  },
  {
   "cell_type": "code",
   "execution_count": 8,
   "id": "c12b8fac",
   "metadata": {
    "execution": {
     "iopub.execute_input": "2024-12-16T23:04:35.180098Z",
     "iopub.status.busy": "2024-12-16T23:04:35.179947Z",
     "iopub.status.idle": "2024-12-16T23:04:35.182123Z",
     "shell.execute_reply": "2024-12-16T23:04:35.181870Z"
    }
   },
   "outputs": [],
   "source": [
    "# %%\n",
    "# Set plotting style\n",
    "plt.style.use('seaborn-v0_8')  # Use the v0.8 compatible style\n",
    "sns.set_theme()  # Use seaborn's default theme\n",
    "plt.rcParams['figure.figsize'] = [12, 6]\n",
    "plt.rcParams['font.size'] = 12\n",
    "plt.rcParams['font.sans-serif'] = ['Arial Unicode MS']"
   ]
  },
  {
   "cell_type": "markdown",
   "id": "e1989916",
   "metadata": {},
   "source": [
    "%% [markdown]\n",
    "## Step 1: Data Collection and Storage"
   ]
  },
  {
   "cell_type": "code",
   "execution_count": 9,
   "id": "ff382554",
   "metadata": {
    "execution": {
     "iopub.execute_input": "2024-12-16T23:04:35.183380Z",
     "iopub.status.busy": "2024-12-16T23:04:35.183297Z",
     "iopub.status.idle": "2024-12-16T23:04:35.185016Z",
     "shell.execute_reply": "2024-12-16T23:04:35.184816Z"
    }
   },
   "outputs": [
    {
     "name": "stdout",
     "output_type": "stream",
     "text": [
      "Step 1: Data Collection\n",
      "--------------------------------------------------\n"
     ]
    }
   ],
   "source": [
    "# %%\n",
    "print(\"Step 1: Data Collection\")\n",
    "print(\"-\" * 50)"
   ]
  },
  {
   "cell_type": "code",
   "execution_count": 10,
   "id": "00a538fc",
   "metadata": {
    "execution": {
     "iopub.execute_input": "2024-12-16T23:04:35.186135Z",
     "iopub.status.busy": "2024-12-16T23:04:35.186051Z",
     "iopub.status.idle": "2024-12-16T23:04:35.188426Z",
     "shell.execute_reply": "2024-12-16T23:04:35.188174Z"
    }
   },
   "outputs": [],
   "source": [
    "# Initialize collectors and managers\n",
    "collector = EurostatCollector()\n",
    "db_manager = DatabaseManager()\n",
    "cleaner = DataCleaner()"
   ]
  },
  {
   "cell_type": "code",
   "execution_count": 11,
   "id": "fe65fc6a",
   "metadata": {
    "execution": {
     "iopub.execute_input": "2024-12-16T23:04:35.189572Z",
     "iopub.status.busy": "2024-12-16T23:04:35.189502Z",
     "iopub.status.idle": "2024-12-16T23:04:35.194955Z",
     "shell.execute_reply": "2024-12-16T23:04:35.194758Z"
    }
   },
   "outputs": [
    {
     "name": "stderr",
     "output_type": "stream",
     "text": [
      "2024-12-16 23:04:35,189 - INFO - Getting education investment data...\n"
     ]
    },
    {
     "name": "stderr",
     "output_type": "stream",
     "text": [
      "2024-12-16 23:04:35,193 - INFO - Using cached education investment data\n"
     ]
    },
    {
     "name": "stdout",
     "output_type": "stream",
     "text": [
      "\n",
      "Collecting education investment data...\n",
      "Collected 2585 education investment records\n"
     ]
    }
   ],
   "source": [
    "# Collect fresh data\n",
    "print(\"\\nCollecting education investment data...\")\n",
    "education_data_raw = collector.get_education_investment_data()\n",
    "print(f\"Collected {len(education_data_raw)} education investment records\")"
   ]
  },
  {
   "cell_type": "code",
   "execution_count": 12,
   "id": "d49643b5",
   "metadata": {
    "execution": {
     "iopub.execute_input": "2024-12-16T23:04:35.196112Z",
     "iopub.status.busy": "2024-12-16T23:04:35.196037Z",
     "iopub.status.idle": "2024-12-16T23:04:35.198992Z",
     "shell.execute_reply": "2024-12-16T23:04:35.198791Z"
    }
   },
   "outputs": [
    {
     "name": "stderr",
     "output_type": "stream",
     "text": [
      "2024-12-16 23:04:35,196 - INFO - Getting economic indicators data...\n"
     ]
    },
    {
     "name": "stderr",
     "output_type": "stream",
     "text": [
      "2024-12-16 23:04:35,197 - INFO - Using cached economic indicators data\n"
     ]
    },
    {
     "name": "stdout",
     "output_type": "stream",
     "text": [
      "\n",
      "Collecting economic indicators...\n",
      "Collected 378 economic indicator records\n"
     ]
    }
   ],
   "source": [
    "print(\"\\nCollecting economic indicators...\")\n",
    "economic_data_raw = collector.get_economic_indicators()\n",
    "print(f\"Collected {len(economic_data_raw)} economic indicator records\")"
   ]
  },
  {
   "cell_type": "code",
   "execution_count": 13,
   "id": "5f464a06",
   "metadata": {
    "execution": {
     "iopub.execute_input": "2024-12-16T23:04:35.200118Z",
     "iopub.status.busy": "2024-12-16T23:04:35.200058Z",
     "iopub.status.idle": "2024-12-16T23:04:35.202121Z",
     "shell.execute_reply": "2024-12-16T23:04:35.201946Z"
    }
   },
   "outputs": [
    {
     "name": "stderr",
     "output_type": "stream",
     "text": [
      "2024-12-16 23:04:35,200 - INFO - Getting education policy documents...\n"
     ]
    },
    {
     "name": "stdout",
     "output_type": "stream",
     "text": [
      "\n",
      "Collecting education policies...\n",
      "Collected 1 policy documents\n"
     ]
    }
   ],
   "source": [
    "print(\"\\nCollecting education policies...\")\n",
    "policy_docs = collector.get_education_policies()\n",
    "print(f\"Collected {len(policy_docs)} policy documents\")"
   ]
  },
  {
   "cell_type": "markdown",
   "id": "9f1d4cff",
   "metadata": {},
   "source": [
    "%% [markdown]\n",
    "## Step 2: Database Storage"
   ]
  },
  {
   "cell_type": "code",
   "execution_count": 14,
   "id": "4288e889",
   "metadata": {
    "execution": {
     "iopub.execute_input": "2024-12-16T23:04:35.203266Z",
     "iopub.status.busy": "2024-12-16T23:04:35.203193Z",
     "iopub.status.idle": "2024-12-16T23:04:35.204648Z",
     "shell.execute_reply": "2024-12-16T23:04:35.204425Z"
    }
   },
   "outputs": [
    {
     "name": "stdout",
     "output_type": "stream",
     "text": [
      "\n",
      "Step 2: Data Storage\n",
      "--------------------------------------------------\n"
     ]
    }
   ],
   "source": [
    "# %%\n",
    "print(\"\\nStep 2: Data Storage\")\n",
    "print(\"-\" * 50)"
   ]
  },
  {
   "cell_type": "code",
   "execution_count": 15,
   "id": "3a8c2b7c",
   "metadata": {
    "execution": {
     "iopub.execute_input": "2024-12-16T23:04:35.205736Z",
     "iopub.status.busy": "2024-12-16T23:04:35.205669Z",
     "iopub.status.idle": "2024-12-16T23:04:38.692421Z",
     "shell.execute_reply": "2024-12-16T23:04:38.691839Z"
    }
   },
   "outputs": [
    {
     "name": "stdout",
     "output_type": "stream",
     "text": [
      "\n",
      "Connecting to databases...\n"
     ]
    },
    {
     "name": "stderr",
     "output_type": "stream",
     "text": [
      "2024-12-16 23:04:38,689 - INFO - Successfully connected to PostgreSQL\n"
     ]
    },
    {
     "name": "stdout",
     "output_type": "stream",
     "text": [
      "Successfully connected to PostgreSQL\n"
     ]
    }
   ],
   "source": [
    "# Store data in databases\n",
    "print(\"\\nConnecting to databases...\")\n",
    "try:\n",
    "    db_manager.connect_postgres()\n",
    "    print(\"Successfully connected to PostgreSQL\")\n",
    "except Exception as e:\n",
    "    print(f\"Error connecting to PostgreSQL: {str(e)}\")\n",
    "    print(\"Cannot proceed without PostgreSQL connection\")\n",
    "    sys.exit(1)"
   ]
  },
  {
   "cell_type": "code",
   "execution_count": 16,
   "id": "84c95674",
   "metadata": {
    "execution": {
     "iopub.execute_input": "2024-12-16T23:04:38.695460Z",
     "iopub.status.busy": "2024-12-16T23:04:38.695277Z",
     "iopub.status.idle": "2024-12-16T23:04:40.114714Z",
     "shell.execute_reply": "2024-12-16T23:04:40.114027Z"
    }
   },
   "outputs": [
    {
     "name": "stderr",
     "output_type": "stream",
     "text": [
      "2024-12-16 23:04:38,696 - INFO - Attempting to connect to MongoDB at 47.91.31.227:27017\n"
     ]
    },
    {
     "name": "stderr",
     "output_type": "stream",
     "text": [
      "2024-12-16 23:04:40,112 - INFO - Successfully connected to MongoDB\n"
     ]
    },
    {
     "name": "stdout",
     "output_type": "stream",
     "text": [
      "Successfully connected to MongoDB\n"
     ]
    }
   ],
   "source": [
    "try:\n",
    "    db_manager.connect_mongo()\n",
    "    print(\"Successfully connected to MongoDB\")\n",
    "except Exception as e:\n",
    "    print(f\"Warning: MongoDB connection failed: {str(e)}\")\n",
    "    print(\"Continuing without MongoDB...\")"
   ]
  },
  {
   "cell_type": "code",
   "execution_count": 17,
   "id": "b28a08c4",
   "metadata": {
    "execution": {
     "iopub.execute_input": "2024-12-16T23:04:40.117531Z",
     "iopub.status.busy": "2024-12-16T23:04:40.117344Z",
     "iopub.status.idle": "2024-12-16T23:04:42.828361Z",
     "shell.execute_reply": "2024-12-16T23:04:42.827850Z"
    }
   },
   "outputs": [
    {
     "name": "stdout",
     "output_type": "stream",
     "text": [
      "\n",
      "Setting up database tables...\n"
     ]
    },
    {
     "name": "stderr",
     "output_type": "stream",
     "text": [
      "2024-12-16 23:04:42,825 - INFO - Tables created successfully\n"
     ]
    },
    {
     "name": "stdout",
     "output_type": "stream",
     "text": [
      "Successfully set up PostgreSQL tables\n"
     ]
    }
   ],
   "source": [
    "# %%\n",
    "print(\"\\nSetting up database tables...\")\n",
    "try:\n",
    "    db_manager.create_tables()\n",
    "    print(\"Successfully set up PostgreSQL tables\")\n",
    "except Exception as e:\n",
    "    print(f\"Error setting up tables: {str(e)}\")\n",
    "    sys.exit(1)"
   ]
  },
  {
   "cell_type": "code",
   "execution_count": 18,
   "id": "a6ef0e4f",
   "metadata": {
    "execution": {
     "iopub.execute_input": "2024-12-16T23:04:42.831285Z",
     "iopub.status.busy": "2024-12-16T23:04:42.831066Z",
     "iopub.status.idle": "2024-12-16T23:05:04.677475Z",
     "shell.execute_reply": "2024-12-16T23:05:04.676815Z"
    }
   },
   "outputs": [
    {
     "name": "stdout",
     "output_type": "stream",
     "text": [
      "\n",
      "Saving data to PostgreSQL...\n"
     ]
    },
    {
     "name": "stderr",
     "output_type": "stream",
     "text": [
      "2024-12-16 23:04:45,107 - INFO - Saved batch 1 (1000 rows)\n"
     ]
    },
    {
     "name": "stderr",
     "output_type": "stream",
     "text": [
      "2024-12-16 23:04:46,384 - INFO - Saved batch 2 (1000 rows)\n"
     ]
    },
    {
     "name": "stderr",
     "output_type": "stream",
     "text": [
      "2024-12-16 23:04:47,403 - INFO - Saved batch 3 (1000 rows)\n"
     ]
    },
    {
     "name": "stderr",
     "output_type": "stream",
     "text": [
      "2024-12-16 23:04:48,428 - INFO - Saved batch 4 (1000 rows)\n"
     ]
    },
    {
     "name": "stderr",
     "output_type": "stream",
     "text": [
      "2024-12-16 23:04:49,448 - INFO - Saved batch 5 (1000 rows)\n"
     ]
    },
    {
     "name": "stderr",
     "output_type": "stream",
     "text": [
      "2024-12-16 23:04:50,485 - INFO - Saved batch 6 (1000 rows)\n"
     ]
    },
    {
     "name": "stderr",
     "output_type": "stream",
     "text": [
      "2024-12-16 23:04:51,528 - INFO - Saved batch 7 (1000 rows)\n"
     ]
    },
    {
     "name": "stderr",
     "output_type": "stream",
     "text": [
      "2024-12-16 23:04:52,568 - INFO - Saved batch 8 (1000 rows)\n"
     ]
    },
    {
     "name": "stderr",
     "output_type": "stream",
     "text": [
      "2024-12-16 23:04:53,600 - INFO - Saved batch 9 (1000 rows)\n"
     ]
    },
    {
     "name": "stderr",
     "output_type": "stream",
     "text": [
      "2024-12-16 23:04:54,629 - INFO - Saved batch 10 (1000 rows)\n"
     ]
    },
    {
     "name": "stderr",
     "output_type": "stream",
     "text": [
      "2024-12-16 23:04:55,664 - INFO - Saved batch 11 (1000 rows)\n"
     ]
    },
    {
     "name": "stderr",
     "output_type": "stream",
     "text": [
      "2024-12-16 23:04:56,699 - INFO - Saved batch 12 (1000 rows)\n"
     ]
    },
    {
     "name": "stderr",
     "output_type": "stream",
     "text": [
      "2024-12-16 23:04:57,745 - INFO - Saved batch 13 (1000 rows)\n"
     ]
    },
    {
     "name": "stderr",
     "output_type": "stream",
     "text": [
      "2024-12-16 23:04:58,777 - INFO - Saved batch 14 (1000 rows)\n"
     ]
    },
    {
     "name": "stderr",
     "output_type": "stream",
     "text": [
      "2024-12-16 23:04:59,809 - INFO - Saved batch 15 (1000 rows)\n"
     ]
    },
    {
     "name": "stderr",
     "output_type": "stream",
     "text": [
      "2024-12-16 23:05:00,845 - INFO - Saved batch 16 (1000 rows)\n"
     ]
    },
    {
     "name": "stderr",
     "output_type": "stream",
     "text": [
      "2024-12-16 23:05:01,881 - INFO - Saved batch 17 (1000 rows)\n"
     ]
    },
    {
     "name": "stderr",
     "output_type": "stream",
     "text": [
      "2024-12-16 23:05:02,930 - INFO - Saved batch 18 (756 rows)\n"
     ]
    },
    {
     "name": "stderr",
     "output_type": "stream",
     "text": [
      "2024-12-16 23:05:02,931 - INFO - Successfully saved 17756 rows to education_data\n"
     ]
    },
    {
     "name": "stderr",
     "output_type": "stream",
     "text": [
      "2024-12-16 23:05:02,932 - INFO - Successfully inserted 2585 rows of education data\n"
     ]
    },
    {
     "name": "stderr",
     "output_type": "stream",
     "text": [
      "2024-12-16 23:05:04,672 - INFO - Saved batch 1 (378 rows)\n"
     ]
    },
    {
     "name": "stderr",
     "output_type": "stream",
     "text": [
      "2024-12-16 23:05:04,673 - INFO - Successfully saved 378 rows to economic_data\n"
     ]
    },
    {
     "name": "stderr",
     "output_type": "stream",
     "text": [
      "2024-12-16 23:05:04,674 - INFO - Successfully inserted 378 rows of economic data\n"
     ]
    },
    {
     "name": "stdout",
     "output_type": "stream",
     "text": [
      "Successfully saved data to PostgreSQL\n"
     ]
    }
   ],
   "source": [
    "# %%\n",
    "print(\"\\nSaving data to PostgreSQL...\")\n",
    "try:\n",
    "    # Insert data using the specific insert methods\n",
    "    db_manager.insert_education_data(education_data_raw)\n",
    "    db_manager.insert_economic_data(economic_data_raw)\n",
    "    print(\"Successfully saved data to PostgreSQL\")\n",
    "except Exception as e:\n",
    "    print(f\"Error saving to PostgreSQL: {str(e)}\")\n",
    "    sys.exit(1)"
   ]
  },
  {
   "cell_type": "code",
   "execution_count": 19,
   "id": "765edade",
   "metadata": {
    "execution": {
     "iopub.execute_input": "2024-12-16T23:05:04.680580Z",
     "iopub.status.busy": "2024-12-16T23:05:04.680390Z",
     "iopub.status.idle": "2024-12-16T23:05:04.919877Z",
     "shell.execute_reply": "2024-12-16T23:05:04.919392Z"
    }
   },
   "outputs": [
    {
     "name": "stdout",
     "output_type": "stream",
     "text": [
      "\n",
      "Saving policy documents to MongoDB...\n"
     ]
    },
    {
     "name": "stderr",
     "output_type": "stream",
     "text": [
      "2024-12-16 23:05:04,917 - INFO - Successfully saved 1 documents to education_policies\n"
     ]
    },
    {
     "name": "stdout",
     "output_type": "stream",
     "text": [
      "Successfully saved policy documents to MongoDB\n"
     ]
    }
   ],
   "source": [
    "# %%\n",
    "print(\"\\nSaving policy documents to MongoDB...\")\n",
    "if db_manager.mongo_db is not None:\n",
    "    try:\n",
    "        db_manager.save_to_mongo('education_policies', policy_docs)\n",
    "        print(\"Successfully saved policy documents to MongoDB\")\n",
    "    except Exception as e:\n",
    "        print(f\"Warning: Failed to save to MongoDB: {str(e)}\")\n",
    "        print(\"Continuing without policy data...\")\n",
    "else:\n",
    "    print(\"Skipping MongoDB storage as connection is not available\")"
   ]
  },
  {
   "cell_type": "markdown",
   "id": "bb7fde66",
   "metadata": {},
   "source": [
    "%% [markdown]\n",
    "## Step 3: Data Retrieval and Analysis"
   ]
  },
  {
   "cell_type": "code",
   "execution_count": 20,
   "id": "3f20af2d",
   "metadata": {
    "execution": {
     "iopub.execute_input": "2024-12-16T23:05:04.922348Z",
     "iopub.status.busy": "2024-12-16T23:05:04.922195Z",
     "iopub.status.idle": "2024-12-16T23:05:04.924830Z",
     "shell.execute_reply": "2024-12-16T23:05:04.924458Z"
    }
   },
   "outputs": [
    {
     "name": "stdout",
     "output_type": "stream",
     "text": [
      "\n",
      "Step 3: Data Retrieval and Analysis\n",
      "--------------------------------------------------\n"
     ]
    }
   ],
   "source": [
    "# %%\n",
    "print(\"\\nStep 3: Data Retrieval and Analysis\")\n",
    "print(\"-\" * 50)"
   ]
  },
  {
   "cell_type": "code",
   "execution_count": 21,
   "id": "49831333",
   "metadata": {
    "execution": {
     "iopub.execute_input": "2024-12-16T23:05:04.927183Z",
     "iopub.status.busy": "2024-12-16T23:05:04.926913Z",
     "iopub.status.idle": "2024-12-16T23:05:08.183431Z",
     "shell.execute_reply": "2024-12-16T23:05:08.182677Z"
    }
   },
   "outputs": [
    {
     "name": "stdout",
     "output_type": "stream",
     "text": [
      "\n",
      "Retrieving data from databases...\n"
     ]
    },
    {
     "name": "stderr",
     "output_type": "stream",
     "text": [
      "2024-12-16 23:05:07,442 - INFO - Retrieved 17756 rows of education data\n"
     ]
    },
    {
     "name": "stdout",
     "output_type": "stream",
     "text": [
      "Retrieved 17756 education investment records\n"
     ]
    },
    {
     "name": "stdout",
     "output_type": "stream",
     "text": [
      "Retrieved 378 economic indicator records\n"
     ]
    }
   ],
   "source": [
    "# Get education investment data from PostgreSQL\n",
    "print(\"\\nRetrieving data from databases...\")\n",
    "try:\n",
    "    education_data = db_manager.get_education_data()\n",
    "    print(f\"Retrieved {len(education_data)} education investment records\")\n",
    "\n",
    "    economic_data = db_manager.get_economic_data()\n",
    "    print(f\"Retrieved {len(economic_data)} economic indicator records\")\n",
    "except Exception as e:\n",
    "    print(f\"Error retrieving data from PostgreSQL: {str(e)}\")\n",
    "    sys.exit(1)"
   ]
  },
  {
   "cell_type": "code",
   "execution_count": 22,
   "id": "214291b0",
   "metadata": {
    "execution": {
     "iopub.execute_input": "2024-12-16T23:05:08.186361Z",
     "iopub.status.busy": "2024-12-16T23:05:08.186037Z",
     "iopub.status.idle": "2024-12-16T23:05:08.426142Z",
     "shell.execute_reply": "2024-12-16T23:05:08.425285Z"
    }
   },
   "outputs": [
    {
     "name": "stdout",
     "output_type": "stream",
     "text": [
      "Retrieved 18 education policy documents\n"
     ]
    }
   ],
   "source": [
    "# Try to get policy data from MongoDB\n",
    "policy_docs = []\n",
    "if db_manager.mongo_db is not None:\n",
    "    try:\n",
    "        policy_data = db_manager.query_mongo('education_policies')\n",
    "        policy_docs = list(policy_data)\n",
    "        print(f\"Retrieved {len(policy_docs)} education policy documents\")\n",
    "    except Exception as e:\n",
    "        print(f\"Warning: Could not retrieve MongoDB data: {str(e)}\")\n",
    "        print(\"Continuing without policy data...\")"
   ]
  },
  {
   "cell_type": "markdown",
   "id": "9c7c6ac5",
   "metadata": {},
   "source": [
    "%% [markdown]\n",
    "## Step 4: Data Analysis"
   ]
  },
  {
   "cell_type": "code",
   "execution_count": 23,
   "id": "d493a28b",
   "metadata": {
    "execution": {
     "iopub.execute_input": "2024-12-16T23:05:08.428542Z",
     "iopub.status.busy": "2024-12-16T23:05:08.428424Z",
     "iopub.status.idle": "2024-12-16T23:05:08.430201Z",
     "shell.execute_reply": "2024-12-16T23:05:08.429973Z"
    }
   },
   "outputs": [
    {
     "name": "stdout",
     "output_type": "stream",
     "text": [
      "\n",
      "Step 4: Data Analysis\n",
      "--------------------------------------------------\n"
     ]
    }
   ],
   "source": [
    "# %%\n",
    "print(\"\\nStep 4: Data Analysis\")\n",
    "print(\"-\" * 50)"
   ]
  },
  {
   "cell_type": "code",
   "execution_count": 24,
   "id": "b0f3d829",
   "metadata": {
    "execution": {
     "iopub.execute_input": "2024-12-16T23:05:08.431392Z",
     "iopub.status.busy": "2024-12-16T23:05:08.431320Z",
     "iopub.status.idle": "2024-12-16T23:05:08.439904Z",
     "shell.execute_reply": "2024-12-16T23:05:08.439635Z"
    }
   },
   "outputs": [
    {
     "name": "stderr",
     "output_type": "stream",
     "text": [
      "2024-12-16 23:05:08,438 - INFO - Successfully cleaned education data: 16743 rows remaining\n"
     ]
    },
    {
     "name": "stdout",
     "output_type": "stream",
     "text": [
      "\n",
      "Cleaned education data shape: (16743, 9)\n"
     ]
    }
   ],
   "source": [
    "# Clean and prepare data\n",
    "education_data_cleaned = cleaner.clean_education_data(education_data)\n",
    "print(f\"\\nCleaned education data shape: {education_data_cleaned.shape}\")"
   ]
  },
  {
   "cell_type": "markdown",
   "id": "0dbc6da2",
   "metadata": {},
   "source": [
    "%% [markdown]\n",
    "### Analysis 1: Major EU Countries Investment Trends"
   ]
  },
  {
   "cell_type": "code",
   "execution_count": 25,
   "id": "c05566e4",
   "metadata": {
    "execution": {
     "iopub.execute_input": "2024-12-16T23:05:08.441374Z",
     "iopub.status.busy": "2024-12-16T23:05:08.441291Z",
     "iopub.status.idle": "2024-12-16T23:05:08.444277Z",
     "shell.execute_reply": "2024-12-16T23:05:08.444054Z"
    }
   },
   "outputs": [
    {
     "name": "stdout",
     "output_type": "stream",
     "text": [
      "\n",
      "Analyzing major EU countries...\n"
     ]
    }
   ],
   "source": [
    "# %%\n",
    "print(\"\\nAnalyzing major EU countries...\")\n",
    "major_countries = ['DE', 'FR', 'IT', 'ES', 'PL']\n",
    "major_country_data = education_data_cleaned[\n",
    "    education_data_cleaned['geo_time_period'].isin(major_countries)\n",
    "]"
   ]
  },
  {
   "cell_type": "code",
   "execution_count": 26,
   "id": "c1d1eb85",
   "metadata": {
    "execution": {
     "iopub.execute_input": "2024-12-16T23:05:08.445450Z",
     "iopub.status.busy": "2024-12-16T23:05:08.445375Z",
     "iopub.status.idle": "2024-12-16T23:05:08.446912Z",
     "shell.execute_reply": "2024-12-16T23:05:08.446681Z"
    }
   },
   "outputs": [],
   "source": [
    "country_names = {\n",
    "    'DE': 'Germany',\n",
    "    'FR': 'France',\n",
    "    'IT': 'Italy',\n",
    "    'ES': 'Spain',\n",
    "    'PL': 'Poland'\n",
    "}"
   ]
  },
  {
   "cell_type": "code",
   "execution_count": 27,
   "id": "7298adf9",
   "metadata": {
    "execution": {
     "iopub.execute_input": "2024-12-16T23:05:08.448680Z",
     "iopub.status.busy": "2024-12-16T23:05:08.448546Z",
     "iopub.status.idle": "2024-12-16T23:05:08.458098Z",
     "shell.execute_reply": "2024-12-16T23:05:08.457835Z"
    }
   },
   "outputs": [
    {
     "data": {
      "text/plain": [
       "<Figure size 1500x800 with 0 Axes>"
      ]
     },
     "metadata": {},
     "output_type": "display_data"
    }
   ],
   "source": [
    "# Visualization 1: Investment Trends\n",
    "plt.figure(figsize=(15, 8))\n",
    "colors = {'DE': 'blue', 'FR': 'red', 'IT': 'green', 'ES': 'orange', 'PL': 'purple'}"
   ]
  },
  {
   "cell_type": "code",
   "execution_count": 28,
   "id": "237bd833",
   "metadata": {
    "execution": {
     "iopub.execute_input": "2024-12-16T23:05:08.459518Z",
     "iopub.status.busy": "2024-12-16T23:05:08.459433Z",
     "iopub.status.idle": "2024-12-16T23:05:08.599894Z",
     "shell.execute_reply": "2024-12-16T23:05:08.598453Z"
    }
   },
   "outputs": [
    {
     "data": {
      "image/png": "[encoded data removed]",
      "text/plain": [
       "<Figure size 1200x600 with 1 Axes>"
      ]
     },
     "metadata": {},
     "output_type": "display_data"
    }
   ],
   "source": [
    "for country in major_countries:\n",
    "    country_data = major_country_data[major_country_data['geo_time_period'] == country]\n",
    "    if not country_data.empty:\n",
    "        country_data = country_data.sort_values('year')\n",
    "        plt.plot(country_data['year'], \n",
    "                country_data['value'], \n",
    "                label=country_names[country],\n",
    "                color=colors[country],\n",
    "                marker='o')"
   ]
  },
  {
   "cell_type": "code",
   "execution_count": 29,
   "id": "f95c0778",
   "metadata": {
    "execution": {
     "iopub.execute_input": "2024-12-16T23:05:08.605071Z",
     "iopub.status.busy": "2024-12-16T23:05:08.604808Z",
     "iopub.status.idle": "2024-12-16T23:05:08.745073Z",
     "shell.execute_reply": "2024-12-16T23:05:08.744807Z"
    }
   },
   "outputs": [
    {
     "name": "stderr",
     "output_type": "stream",
     "text": [
      "2024-12-16 23:05:08,615 - WARNING - No artists with labels found to put in legend.  Note that artists whose label start with an underscore are ignored when legend() is called with no argument.\n"
     ]
    },
    {
     "data": {
      "image/png": "[encoded data removed]",
      "text/plain": [
       "<Figure size 1200x600 with 1 Axes>"
      ]
     },
     "metadata": {},
     "output_type": "display_data"
    }
   ],
   "source": [
    "plt.title('Education Investment Trends in Major EU Countries')\n",
    "plt.xlabel('Year')\n",
    "plt.ylabel('Investment Value')\n",
    "plt.legend()\n",
    "plt.grid(True, linestyle='--', alpha=0.7)\n",
    "plt.gca().spines['top'].set_visible(False)\n",
    "plt.gca().spines['right'].set_visible(False)\n",
    "plt.tight_layout()\n",
    "plt.show()"
   ]
  },
  {
   "cell_type": "code",
   "execution_count": 30,
   "id": "9b83cbf2",
   "metadata": {
    "execution": {
     "iopub.execute_input": "2024-12-16T23:05:08.746482Z",
     "iopub.status.busy": "2024-12-16T23:05:08.746388Z",
     "iopub.status.idle": "2024-12-16T23:05:08.748071Z",
     "shell.execute_reply": "2024-12-16T23:05:08.747826Z"
    }
   },
   "outputs": [
    {
     "name": "stdout",
     "output_type": "stream",
     "text": [
      "\n",
      "Compound Annual Growth Rate (CAGR) by Country:\n",
      "----------------------------------------\n"
     ]
    }
   ],
   "source": [
    "# %%\n",
    "# Calculate and display CAGR\n",
    "print(\"\\nCompound Annual Growth Rate (CAGR) by Country:\")\n",
    "print(\"-\" * 40)"
   ]
  },
  {
   "cell_type": "code",
   "execution_count": 31,
   "id": "d92b22d1",
   "metadata": {
    "execution": {
     "iopub.execute_input": "2024-12-16T23:05:08.749389Z",
     "iopub.status.busy": "2024-12-16T23:05:08.749313Z",
     "iopub.status.idle": "2024-12-16T23:05:08.754768Z",
     "shell.execute_reply": "2024-12-16T23:05:08.754531Z"
    }
   },
   "outputs": [
    {
     "name": "stdout",
     "output_type": "stream",
     "text": [
      "Germany: 96.74%\n",
      "France: 0.87%\n",
      "Italy: -1.55%\n",
      "Spain: 95.17%\n",
      "Poland: -6.19%\n"
     ]
    }
   ],
   "source": [
    "for country in major_countries:\n",
    "    country_data = major_country_data[major_country_data['geo_time_period'] == country]\n",
    "    if len(country_data) >= 2:\n",
    "        # Sort by year and get first and last values\n",
    "        country_data = country_data.sort_values('year')\n",
    "        first_year = country_data.iloc[0]\n",
    "        last_year = country_data.iloc[-1]\n",
    "        \n",
    "        # Calculate CAGR\n",
    "        years = last_year['year'] - first_year['year']\n",
    "        if years > 0:\n",
    "            cagr = (((last_year['value'] / first_year['value']) ** (1/years)) - 1) * 100\n",
    "            print(f\"{country_names[country]}: {cagr:.2f}%\")"
   ]
  },
  {
   "cell_type": "markdown",
   "id": "18846910",
   "metadata": {},
   "source": [
    "%% [markdown]\n",
    "### Analysis 2: Economic Correlation Analysis"
   ]
  },
  {
   "cell_type": "code",
   "execution_count": 32,
   "id": "5b3052fb",
   "metadata": {
    "execution": {
     "iopub.execute_input": "2024-12-16T23:05:08.756099Z",
     "iopub.status.busy": "2024-12-16T23:05:08.756022Z",
     "iopub.status.idle": "2024-12-16T23:05:08.757659Z",
     "shell.execute_reply": "2024-12-16T23:05:08.757357Z"
    }
   },
   "outputs": [
    {
     "name": "stdout",
     "output_type": "stream",
     "text": [
      "\n",
      "Analyzing correlation with economic indicators...\n",
      "----------------------------------------\n"
     ]
    }
   ],
   "source": [
    "# %%\n",
    "print(\"\\nAnalyzing correlation with economic indicators...\")\n",
    "print(\"-\" * 40)"
   ]
  },
  {
   "cell_type": "code",
   "execution_count": 33,
   "id": "dbd93f5e",
   "metadata": {
    "execution": {
     "iopub.execute_input": "2024-12-16T23:05:08.759074Z",
     "iopub.status.busy": "2024-12-16T23:05:08.758983Z",
     "iopub.status.idle": "2024-12-16T23:05:08.762834Z",
     "shell.execute_reply": "2024-12-16T23:05:08.762623Z"
    }
   },
   "outputs": [],
   "source": [
    "# Merge education and economic data\n",
    "merged_data = pd.merge(\n",
    "    education_data_cleaned,\n",
    "    economic_data,\n",
    "    left_on=['geo_time_period', 'year'],\n",
    "    right_on=['country_code', 'year'],\n",
    "    how='inner'\n",
    ")"
   ]
  },
  {
   "cell_type": "code",
   "execution_count": 34,
   "id": "5ac64f1b",
   "metadata": {
    "execution": {
     "iopub.execute_input": "2024-12-16T23:05:08.764094Z",
     "iopub.status.busy": "2024-12-16T23:05:08.764001Z",
     "iopub.status.idle": "2024-12-16T23:05:08.766384Z",
     "shell.execute_reply": "2024-12-16T23:05:08.766052Z"
    }
   },
   "outputs": [],
   "source": [
    "if not merged_data.empty:\n",
    "    # Calculate correlations\n",
    "    correlation_vars = ['value', 'gdp_growth', 'employment_rate', 'gdp_per_capita']\n",
    "    correlations = merged_data[correlation_vars].corr()\n",
    "    \n",
    "    # Plot correlation heatmap\n",
    "    plt.figure(figsize=(10, 8))\n",
    "    sns.heatmap(correlations, annot=True, cmap='coolwarm', center=0)\n",
    "    plt.title('Correlation between Education Investment and Economic Indicators')\n",
    "    plt.tight_layout()\n",
    "    plt.show()\n",
    "    \n",
    "    # Print key findings\n",
    "    edu_gdp_corr = correlations.loc['value', 'gdp_per_capita']\n",
    "    edu_emp_corr = correlations.loc['value', 'employment_rate']\n",
    "    print(f\"\\nKey Correlations:\")\n",
    "    print(f\"Education Investment vs GDP per capita: {edu_gdp_corr:.2f}\")\n",
    "    print(f\"Education Investment vs Employment Rate: {edu_emp_corr:.2f}\")"
   ]
  },
  {
   "cell_type": "markdown",
   "id": "23328c2c",
   "metadata": {},
   "source": [
    "%% [markdown]\n",
    "### Analysis 3: Policy Impact Analysis"
   ]
  },
  {
   "cell_type": "code",
   "execution_count": 35,
   "id": "0af70f91",
   "metadata": {
    "execution": {
     "iopub.execute_input": "2024-12-16T23:05:08.767744Z",
     "iopub.status.busy": "2024-12-16T23:05:08.767665Z",
     "iopub.status.idle": "2024-12-16T23:05:08.770373Z",
     "shell.execute_reply": "2024-12-16T23:05:08.770154Z"
    }
   },
   "outputs": [
    {
     "name": "stdout",
     "output_type": "stream",
     "text": [
      "\n",
      "Analyzing Policy Impact...\n",
      "----------------------------------------\n"
     ]
    }
   ],
   "source": [
    "# %%\n",
    "if policy_docs:\n",
    "    print(\"\\nAnalyzing Policy Impact...\")\n",
    "    print(\"-\" * 40)\n",
    "    \n",
    "    # Extract policy years and analyze investment changes\n",
    "    policy_years = []\n",
    "    policy_countries = []\n",
    "    \n",
    "    for doc in policy_docs:\n",
    "        if 'year' in doc and 'country' in doc:\n",
    "            policy_years.append(doc['year'])\n",
    "            policy_countries.append(doc['country'])\n",
    "    \n",
    "    if policy_years:\n",
    "        # Analyze investment changes around policy implementation\n",
    "        for country, year in zip(policy_countries, policy_years):\n",
    "            country_data = education_data_cleaned[\n",
    "                education_data_cleaned['geo_time_period'] == country\n",
    "            ]\n",
    "            \n",
    "            if not country_data.empty:\n",
    "                # Get investment before and after policy\n",
    "                before_policy = country_data[country_data['year'] < year]['value'].mean()\n",
    "                after_policy = country_data[country_data['year'] >= year]['value'].mean()\n",
    "                \n",
    "                change_pct = ((after_policy - before_policy) / before_policy) * 100\n",
    "                print(f\"\\nCountry: {country}\")\n",
    "                print(f\"Policy Year: {year}\")\n",
    "                print(f\"Average Investment Change: {change_pct:.2f}%\")"
   ]
  },
  {
   "cell_type": "markdown",
   "id": "fe41d27c",
   "metadata": {},
   "source": [
    "%% [markdown]\n",
    "### Analysis 4: Investment Efficiency Analysis"
   ]
  },
  {
   "cell_type": "code",
   "execution_count": 36,
   "id": "74c4d0e8",
   "metadata": {
    "execution": {
     "iopub.execute_input": "2024-12-16T23:05:08.771555Z",
     "iopub.status.busy": "2024-12-16T23:05:08.771485Z",
     "iopub.status.idle": "2024-12-16T23:05:08.773112Z",
     "shell.execute_reply": "2024-12-16T23:05:08.772904Z"
    }
   },
   "outputs": [
    {
     "name": "stdout",
     "output_type": "stream",
     "text": [
      "\n",
      "Analyzing Investment Efficiency...\n",
      "----------------------------------------\n"
     ]
    }
   ],
   "source": [
    "# %%\n",
    "print(\"\\nAnalyzing Investment Efficiency...\")\n",
    "print(\"-\" * 40)"
   ]
  },
  {
   "cell_type": "code",
   "execution_count": 37,
   "id": "6b00e02e",
   "metadata": {
    "execution": {
     "iopub.execute_input": "2024-12-16T23:05:08.774290Z",
     "iopub.status.busy": "2024-12-16T23:05:08.774221Z",
     "iopub.status.idle": "2024-12-16T23:05:08.776629Z",
     "shell.execute_reply": "2024-12-16T23:05:08.776405Z"
    }
   },
   "outputs": [],
   "source": [
    "if not merged_data.empty:\n",
    "    # Calculate investment efficiency (GDP per capita / Education Investment)\n",
    "    merged_data['investment_efficiency'] = merged_data['gdp_per_capita'] / merged_data['value']\n",
    "    \n",
    "    # Get top 5 most efficient countries\n",
    "    latest_year = merged_data['year'].max()\n",
    "    latest_efficiency = merged_data[merged_data['year'] == latest_year]\n",
    "    top_efficient = latest_efficiency.nlargest(5, 'investment_efficiency')\n",
    "    \n",
    "    plt.figure(figsize=(12, 6))\n",
    "    sns.barplot(data=top_efficient, x='geo_time_period', y='investment_efficiency')\n",
    "    plt.title(f'Top 5 Countries by Investment Efficiency ({latest_year})')\n",
    "    plt.xlabel('Country')\n",
    "    plt.ylabel('Efficiency Ratio (GDP per capita / Investment)')\n",
    "    plt.xticks(rotation=45)\n",
    "    plt.tight_layout()\n",
    "    plt.show()\n",
    "    \n",
    "    print(\"\\nTop 5 Countries by Investment Efficiency:\")\n",
    "    for _, row in top_efficient.iterrows():\n",
    "        print(f\"{row['geo_time_period']}: {row['investment_efficiency']:.2f}\")"
   ]
  },
  {
   "cell_type": "markdown",
   "id": "2cf44829",
   "metadata": {},
   "source": [
    "%% [markdown]\n",
    "## Step 5: Cleanup"
   ]
  },
  {
   "cell_type": "code",
   "execution_count": 38,
   "id": "8885cb8e",
   "metadata": {
    "execution": {
     "iopub.execute_input": "2024-12-16T23:05:08.777842Z",
     "iopub.status.busy": "2024-12-16T23:05:08.777776Z",
     "iopub.status.idle": "2024-12-16T23:05:08.779337Z",
     "shell.execute_reply": "2024-12-16T23:05:08.779096Z"
    }
   },
   "outputs": [
    {
     "name": "stdout",
     "output_type": "stream",
     "text": [
      "\n",
      "Step 5: Cleanup\n",
      "--------------------------------------------------\n"
     ]
    }
   ],
   "source": [
    "# %%\n",
    "print(\"\\nStep 5: Cleanup\")\n",
    "print(\"-\" * 50)"
   ]
  },
  {
   "cell_type": "code",
   "execution_count": 39,
   "id": "34636d9f",
   "metadata": {
    "execution": {
     "iopub.execute_input": "2024-12-16T23:05:08.780470Z",
     "iopub.status.busy": "2024-12-16T23:05:08.780397Z",
     "iopub.status.idle": "2024-12-16T23:05:09.015286Z",
     "shell.execute_reply": "2024-12-16T23:05:09.014920Z"
    }
   },
   "outputs": [
    {
     "name": "stdout",
     "output_type": "stream",
     "text": [
      "\n",
      "Closing database connections...\n"
     ]
    },
    {
     "name": "stderr",
     "output_type": "stream",
     "text": [
      "2024-12-16 23:05:09,013 - INFO - All database connections closed\n"
     ]
    }
   ],
   "source": [
    "# Close database connections\n",
    "print(\"\\nClosing database connections...\")\n",
    "db_manager.close_connections()"
   ]
  },
  {
   "cell_type": "code",
   "execution_count": 40,
   "id": "c0c414d5",
   "metadata": {
    "execution": {
     "iopub.execute_input": "2024-12-16T23:05:09.017091Z",
     "iopub.status.busy": "2024-12-16T23:05:09.016963Z",
     "iopub.status.idle": "2024-12-16T23:05:09.018942Z",
     "shell.execute_reply": "2024-12-16T23:05:09.018646Z"
    }
   },
   "outputs": [
    {
     "name": "stdout",
     "output_type": "stream",
     "text": [
      "\n",
      "Analysis completed successfully!\n"
     ]
    }
   ],
   "source": [
    "print(\"\\nAnalysis completed successfully!\")"
   ]
  }
 ],
 "metadata": {
  "jupytext": {
   "cell_metadata_filter": "-all",
   "formats": "ipynb,py:light",
   "notebook_metadata_filter": "-all"
  },
  "kernelspec": {
   "display_name": "Python 3 (ipykernel)",
   "language": "python",
   "name": "python3"
  },
  "language_info": {
   "codemirror_mode": {
    "name": "ipython",
    "version": 3
   },
   "file_extension": ".py",
   "mimetype": "text/x-python",
   "name": "python",
   "nbconvert_exporter": "python",
   "pygments_lexer": "ipython3",
   "version": "3.11.2"
  }
 },
 "nbformat": 4,
 "nbformat_minor": 5
}
