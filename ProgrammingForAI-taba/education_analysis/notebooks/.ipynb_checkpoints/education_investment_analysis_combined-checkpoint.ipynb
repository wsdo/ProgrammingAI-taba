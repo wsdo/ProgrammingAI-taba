{
 "cells": [
  {
   "cell_type": "markdown",
   "id": "07b02e31",
   "metadata": {},
   "source": [
    "# Comprehensive Education Investment Analysis\n",
    "\n",
    "This notebook provides a comprehensive analysis of education investment data across EU countries, including:\n",
    "1. Data Collection and Processing\n",
    "2. Basic Statistics and Overview\n",
    "3. Time Series Analysis\n",
    "4. Country Comparisons\n",
    "5. Investment Trend Analysis\n",
    "6. Economic Impact Assessment\n",
    "7. Policy Analysis"
   ]
  },
  {
   "cell_type": "code",
   "execution_count": null,
   "id": "c3a232fb",
   "metadata": {},
   "outputs": [],
   "source": [
    "# Import required libraries\n",
    "import sys\n",
    "import os\n",
    "from pathlib import Path\n",
    "import pandas as pd\n",
    "import numpy as np\n",
    "import matplotlib.pyplot as plt\n",
    "import seaborn as sns\n",
    "from dotenv import load_dotenv\n",
    "import matplotlib\n",
    "\n",
    "# Add project root to Python path\n",
    "project_root = Path('..').resolve()\n",
    "sys.path.append(str(project_root))\n",
    "\n",
    "# Import project modules\n",
    "from src.data_processing.db_manager import DatabaseManager\n",
    "from src.data_processing.data_cleaner import DataCleaner\n",
    "\n",
    "# Set plotting style\n",
    "plt.style.use('seaborn-v0_8')  # Use the v0.8 compatible style\n",
    "sns.set_theme()  # Use seaborn's default theme\n",
    "plt.rcParams['figure.figsize'] = [12, 6]\n",
    "plt.rcParams['font.size'] = 12\n",
    "plt.rcParams['font.sans-serif'] = ['Arial Unicode MS']\n",
    "plt.rcParams['axes.unicode_minus'] = False"
   ]
  },
  {
   "cell_type": "markdown",
   "id": "d8243d00",
   "metadata": {},
   "source": [
    "## 1. Data Collection and Processing"
   ]
  },
  {
   "cell_type": "code",
   "execution_count": null,
   "id": "f8eccaec",
   "metadata": {},
   "outputs": [],
   "source": [
    "# Initialize database connections and utilities\n",
    "db_manager = DatabaseManager()\n",
    "cleaner = DataCleaner()\n",
    "\n",
    "# Get education investment data from PostgreSQL\n",
    "education_data = db_manager.query_postgres(\"\"\"\n",
    "    SELECT *\n",
    "    FROM education_data\n",
    "    ORDER BY year, geo_time_period\n",
    "\"\"\")\n",
    "\n",
    "# Get economic indicators from PostgreSQL\n",
    "economic_data = db_manager.query_postgres(\"\"\"\n",
    "    SELECT *\n",
    "    FROM economic_data\n",
    "    ORDER BY year, country_code\n",
    "\"\"\")\n",
    "\n",
    "# Get education policies from MongoDB\n",
    "policy_data = db_manager.mongo_client['education']['education_policies'].find()\n",
    "policy_docs = list(policy_data)\n",
    "\n",
    "print(f\"Retrieved {len(education_data)} education investment records\")\n",
    "print(f\"Retrieved {len(economic_data)} economic indicator records\")\n",
    "print(f\"Retrieved {len(policy_docs)} education policy documents\")\n",
    "\n",
    "# Display sample of education data\n",
    "print(\"\\nSample of education investment data:\")\n",
    "display(education_data.head())"
   ]
  },
  {
   "cell_type": "markdown",
   "id": "9756e081",
   "metadata": {},
   "source": [
    "## 2. Data Cleaning and Preparation"
   ]
  },
  {
   "cell_type": "code",
   "execution_count": null,
   "id": "4eb6ad78",
   "metadata": {},
   "outputs": [],
   "source": [
    "# Clean education investment data\n",
    "education_data_cleaned = cleaner.clean_education_data(education_data)\n",
    "\n",
    "print(\"Data cleaning results:\")\n",
    "print(\"Raw data shape:\", education_data.shape)\n",
    "print(\"Cleaned data shape:\", education_data_cleaned.shape)\n",
    "\n",
    "# Display available countries\n",
    "print(\"\\nAvailable country codes:\")\n",
    "print(sorted(education_data_cleaned['geo_time_period'].unique()))"
   ]
  },
  {
   "cell_type": "markdown",
   "id": "7d650fa5",
   "metadata": {},
   "source": [
    "## 3. Investment Trend Analysis"
   ]
  },
  {
   "cell_type": "code",
   "execution_count": null,
   "id": "440de0c8",
   "metadata": {},
   "outputs": [],
   "source": [
    "# Select major EU countries for analysis\n",
    "major_countries = ['DE', 'FR', 'IT', 'ES', 'PL']\n",
    "major_country_data = education_data_cleaned[\n",
    "    education_data_cleaned['geo_time_period'].isin(major_countries)\n",
    "]\n",
    "\n",
    "# Country name mapping\n",
    "country_names = {\n",
    "    'DE': 'Germany',\n",
    "    'FR': 'France',\n",
    "    'IT': 'Italy',\n",
    "    'ES': 'Spain',\n",
    "    'PL': 'Poland'\n",
    "}\n",
    "\n",
    "# Create investment trends visualization\n",
    "if not major_country_data.empty:\n",
    "    plt.figure(figsize=(15, 8))\n",
    "    colors = {'DE': 'blue', 'FR': 'red', 'IT': 'green', 'ES': 'orange', 'PL': 'purple'}\n",
    "    \n",
    "    for country in major_countries:\n",
    "        country_data = major_country_data[major_country_data['geo_time_period'] == country]\n",
    "        if not country_data.empty:\n",
    "            country_data = country_data.sort_values('year')\n",
    "            plt.plot(country_data['year'], \n",
    "                    country_data['value'], \n",
    "                    label=country_names[country],\n",
    "                    color=colors[country],\n",
    "                    marker='o')\n",
    "    \n",
    "    plt.title('Education Investment Trends in Major EU Countries')\n",
    "    plt.xlabel('Year')\n",
    "    plt.ylabel('Investment Value (PPS)')\n",
    "    plt.legend()\n",
    "    plt.grid(True, linestyle='--', alpha=0.7)\n",
    "    plt.gca().spines['top'].set_visible(False)\n",
    "    plt.gca().spines['right'].set_visible(False)\n",
    "    plt.tight_layout()\n",
    "    plt.show()"
   ]
  },
  {
   "cell_type": "markdown",
   "id": "7bbe6683",
   "metadata": {},
   "source": [
    "## 4. Growth Rate Analysis"
   ]
  },
  {
   "cell_type": "code",
   "execution_count": null,
   "id": "dc691897",
   "metadata": {},
   "outputs": [],
   "source": [
    "# Calculate Compound Annual Growth Rate (CAGR)\n",
    "print(\"Compound Annual Growth Rate (CAGR) by Country:\")\n",
    "print(\"-\" * 40)\n",
    "\n",
    "for country in major_countries:\n",
    "    country_data = major_country_data[major_country_data['geo_time_period'] == country]\n",
    "    if len(country_data) >= 2:\n",
    "        country_data = country_data.sort_values('year')\n",
    "        start_value = country_data.iloc[0]['value']\n",
    "        end_value = country_data.iloc[-1]['value']\n",
    "        years = country_data.iloc[-1]['year'] - country_data.iloc[0]['year']\n",
    "        \n",
    "        if years > 0 and start_value > 0:\n",
    "            cagr = (end_value/start_value)**(1/years) - 1\n",
    "            start_year = country_data.iloc[0]['year']\n",
    "            end_year = country_data.iloc[-1]['year']\n",
    "            print(f\"{country_names[country]} ({country}): {cagr*100:.2f}% ({start_year}-{end_year})\")\n",
    "    else:\n",
    "        print(f\"{country_names[country]} ({country}): Insufficient data points\")"
   ]
  },
  {
   "cell_type": "markdown",
   "id": "2af7fa07",
   "metadata": {},
   "source": [
    "## 5. Statistical Analysis"
   ]
  },
  {
   "cell_type": "code",
   "execution_count": null,
   "id": "6b2efc4b",
   "metadata": {},
   "outputs": [],
   "source": [
    "# Generate statistical summary by country\n",
    "print(\"Statistical Summary by Country:\")\n",
    "print(\"-\" * 40)\n",
    "summary_stats = major_country_data.groupby('geo_time_period').agg({\n",
    "    'value': ['count', 'mean', 'std', 'min', 'max']\n",
    "}).round(2)\n",
    "print(summary_stats)\n",
    "\n",
    "# Calculate yearly averages\n",
    "yearly_avg = education_data_cleaned.groupby('year')['value'].mean().reset_index()\n",
    "\n",
    "# Plot yearly average investment trend\n",
    "plt.figure(figsize=(12, 6))\n",
    "plt.plot(yearly_avg['year'], yearly_avg['value'], marker='o')\n",
    "plt.title('Average Education Investment Trend Across All Countries')\n",
    "plt.xlabel('Year')\n",
    "plt.ylabel('Average Investment Value (PPS)')\n",
    "plt.grid(True, linestyle='--', alpha=0.7)\n",
    "plt.gca().spines['top'].set_visible(False)\n",
    "plt.gca().spines['right'].set_visible(False)\n",
    "plt.tight_layout()\n",
    "plt.show()"
   ]
  },
  {
   "cell_type": "markdown",
   "id": "86c3f65e",
   "metadata": {},
   "source": [
    "## 6. Economic Impact Analysis"
   ]
  },
  {
   "cell_type": "code",
   "execution_count": null,
   "id": "7f9b8eeb",
   "metadata": {},
   "outputs": [],
   "source": [
    "# Merge education and economic data\n",
    "merged_data = pd.merge(\n",
    "    education_data_cleaned,\n",
    "    economic_data,\n",
    "    left_on=['geo_time_period', 'year'],\n",
    "    right_on=['country_code', 'year'],\n",
    "    how='inner'\n",
    ")\n",
    "\n",
    "# Calculate correlation between education investment and economic indicators\n",
    "correlations = merged_data.groupby('geo_time_period').apply(\n",
    "    lambda x: x['value'].corr(x['gdp_growth'])\n",
    ").round(3)\n",
    "\n",
    "print(\"Correlation between Education Investment and GDP Growth by Country:\")\n",
    "print(\"-\" * 60)\n",
    "for country in correlations.index:\n",
    "    if country in country_names:\n",
    "        print(f\"{country_names[country]} ({country}): {correlations[country]}\")\n",
    "\n",
    "# Visualize relationship\n",
    "plt.figure(figsize=(10, 6))\n",
    "sns.scatterplot(data=merged_data, x='value', y='gdp_growth', hue='geo_time_period')\n",
    "plt.title('Education Investment vs GDP Growth')\n",
    "plt.xlabel('Education Investment (PPS)')\n",
    "plt.ylabel('GDP Growth Rate (%)')\n",
    "plt.legend(title='Country')\n",
    "plt.tight_layout()\n",
    "plt.show()"
   ]
  },
  {
   "cell_type": "markdown",
   "id": "492eab31",
   "metadata": {},
   "source": [
    "## 7. Policy Analysis"
   ]
  },
  {
   "cell_type": "code",
   "execution_count": null,
   "id": "d92c985e",
   "metadata": {},
   "outputs": [],
   "source": [
    "# Analyze policy documents from MongoDB\n",
    "if policy_docs:\n",
    "    print(\"Policy Analysis Summary:\")\n",
    "    print(\"-\" * 40)\n",
    "    for doc in policy_docs[:5]:  # Display first 5 policies\n",
    "        print(f\"Country: {doc.get('country', 'N/A')}\")\n",
    "        print(f\"Year: {doc.get('year', 'N/A')}\")\n",
    "        print(f\"Policy Type: {doc.get('policy_type', 'N/A')}\")\n",
    "        print(f\"Description: {doc.get('description', 'N/A')[:200]}...\")\n",
    "        print(\"-\" * 40)\n",
    "\n",
    "# Clean up database connections\n",
    "db_manager.close_connections()\n",
    "print(\"\\nDatabase connections closed\")"
   ]
  }
 ],
 "metadata": {
  "jupytext": {
   "cell_metadata_filter": "-all",
   "main_language": "python",
   "notebook_metadata_filter": "-all"
  }
 },
 "nbformat": 4,
 "nbformat_minor": 5
}
