{
 "cells": [
  {
   "cell_type": "markdown",
   "id": "44281ea9",
   "metadata": {},
   "source": [
    "# 教育投资分析\n",
    "\n",
    "本笔记本分析欧盟国家的教育投资数据，包括：\n",
    "1. 投资趋势分析\n",
    "2. 经济指标相关性\n",
    "3. 政策影响评估\n",
    "4. 投资效率评估"
   ]
  },
  {
   "cell_type": "code",
   "execution_count": 28,
   "id": "22728c26",
   "metadata": {},
   "outputs": [],
   "source": [
    "# 导入所需库\n",
    "import sys\n",
    "import os\n",
    "import json\n",
    "import logging\n",
    "from pathlib import Path\n",
    "import pandas as pd\n",
    "import numpy as np\n",
    "import matplotlib.pyplot as plt\n",
    "import seaborn as sns\n",
    "from dotenv import load_dotenv\n",
    "import matplotlib\n",
    "from tqdm import tqdm\n",
    "import plotly.express as px\n",
    "import plotly.graph_objects as go\n",
    "from plotly.subplots import make_subplots"
   ]
  },
  {
   "cell_type": "code",
   "execution_count": 29,
   "id": "b2f9ccbc",
   "metadata": {},
   "outputs": [],
   "source": [
    "# 设置日志记录\n",
    "logging.basicConfig(\n",
    "    filename='analysis.log',\n",
    "    level=logging.INFO,\n",
    "    format='%(asctime)s - %(levelname)s - %(message)s'\n",
    ")"
   ]
  },
  {
   "cell_type": "code",
   "execution_count": 30,
   "id": "d78d005f",
   "metadata": {},
   "outputs": [],
   "source": [
    "# 加载环境变量和设置路径\n",
    "load_dotenv(Path('..').resolve() / '.env')\n",
    "project_root = Path('..').resolve()\n",
    "sys.path.append(str(project_root))"
   ]
  },
  {
   "cell_type": "code",
   "execution_count": 31,
   "id": "39d675a6",
   "metadata": {},
   "outputs": [],
   "source": [
    "# 导入项目模块\n",
    "from src.data_processing.db_manager import DatabaseManager\n",
    "from src.data_processing.data_cleaner import DataCleaner\n",
    "from src.data_collection.eurostat_collector import EurostatCollector"
   ]
  },
  {
   "cell_type": "code",
   "execution_count": 32,
   "id": "83bb4a8b",
   "metadata": {
    "lines_to_next_cell": 1
   },
   "outputs": [],
   "source": [
    "# 设置绘图风格\n",
    "plt.style.use('seaborn-v0_8')\n",
    "sns.set_theme(style=\"whitegrid\")\n",
    "plt.rcParams['figure.figsize'] = [12, 6]\n",
    "plt.rcParams['font.size'] = 12\n",
    "plt.rcParams['font.sans-serif'] = ['Arial Unicode MS']"
   ]
  },
  {
   "cell_type": "code",
   "execution_count": 33,
   "id": "b59f2d59",
   "metadata": {
    "lines_to_next_cell": 1
   },
   "outputs": [],
   "source": [
    "def check_data_quality(df, name):\n",
    "    \"\"\"检查数据质量并记录结果\"\"\"\n",
    "    logging.info(f\"开始检查{name}数据质量\")\n",
    "    results = {\n",
    "        \"总行数\": len(df),\n",
    "        \"缺失值\": df.isnull().sum().to_dict(),\n",
    "        \"数据类型\": df.dtypes.to_dict()\n",
    "    }\n",
    "    logging.info(f\"{name}数据质量检查结果: {results}\")\n",
    "    return results"
   ]
  },
  {
   "cell_type": "code",
   "execution_count": 34,
   "id": "16c09381",
   "metadata": {
    "lines_to_next_cell": 1
   },
   "outputs": [],
   "source": [
    "def create_interactive_trend_plot(data, countries, country_names):\n",
    "    \"\"\"创建交互式趋势图\"\"\"\n",
    "    fig = go.Figure()\n",
    "    \n",
    "    for country in countries:\n",
    "        country_data = data[data['geo_time_period'] == country]\n",
    "        if not country_data.empty:\n",
    "            fig.add_trace(go.Scatter(\n",
    "                x=country_data['year'],\n",
    "                y=country_data['value'],\n",
    "                name=country_names[country],\n",
    "                mode='lines+markers'\n",
    "            ))\n",
    "    \n",
    "    fig.update_layout(\n",
    "        title='欧盟主要国家教育投资趋势 (2010-2020)',\n",
    "        xaxis_title='年份',\n",
    "        yaxis_title='投资值 (占GDP百分比)',\n",
    "        hovermode='x unified'\n",
    "    )\n",
    "    \n",
    "    return fig"
   ]
  },
  {
   "cell_type": "code",
   "execution_count": 35,
   "id": "d21643a7",
   "metadata": {
    "lines_to_next_cell": 1
   },
   "outputs": [],
   "source": [
    "def analyze_policy_impact(policy_docs, education_data):\n",
    "    \"\"\"分析政策影响\"\"\"\n",
    "    impact_results = []\n",
    "    \n",
    "    for doc in policy_docs:\n",
    "        if 'year' in doc and 'country' in doc:\n",
    "            country_data = education_data[\n",
    "                education_data['geo_time_period'] == doc['country']\n",
    "            ]\n",
    "            \n",
    "            if not country_data.empty:\n",
    "                before_policy = country_data[country_data['year'] < doc['year']]['value'].mean()\n",
    "                after_policy = country_data[country_data['year'] >= doc['year']]['value'].mean()\n",
    "                change_pct = ((after_policy - before_policy) / before_policy) * 100\n",
    "                \n",
    "                impact_results.append({\n",
    "                    'country': doc['country'],\n",
    "                    'policy_year': doc['year'],\n",
    "                    'before_avg': before_policy,\n",
    "                    'after_avg': after_policy,\n",
    "                    'change_pct': change_pct\n",
    "                })\n",
    "    \n",
    "    return pd.DataFrame(impact_results)"
   ]
  },
  {
   "cell_type": "code",
   "execution_count": 36,
   "id": "abe0a61d",
   "metadata": {},
   "outputs": [],
   "source": [
    "# 初始化数据收集器和管理器\n",
    "collector = EurostatCollector()\n",
    "db_manager = DatabaseManager()\n",
    "cleaner = DataCleaner()"
   ]
  },
  {
   "cell_type": "code",
   "execution_count": 37,
   "id": "085024c0",
   "metadata": {},
   "outputs": [
    {
     "name": "stdout",
     "output_type": "stream",
     "text": [
      "步骤 1: 数据收集\n",
      "--------------------------------------------------\n"
     ]
    },
    {
     "name": "stderr",
     "output_type": "stream",
     "text": [
      "\n",
      "集数据: 100%|██████████| 3/3 [00:00<00:00, 139.74it/s]"
     ]
    }
   ],
   "source": [
    "# 收集数据\n",
    "print(\"步骤 1: 数据收集\")\n",
    "print(\"-\" * 50)\n",
    "\n",
    "with tqdm(total=3, desc=\"收集数据\") as pbar:\n",
    "    education_data_raw = collector.get_education_investment_data()\n",
    "    pbar.update(1)\n",
    "    \n",
    "    economic_data_raw = collector.get_economic_indicators()\n",
    "    pbar.update(1)\n",
    "    \n",
    "    policy_docs = collector.get_education_policies()\n",
    "    pbar.update(1)"
   ]
  },
  {
   "cell_type": "code",
   "execution_count": 38,
   "id": "35972fe7",
   "metadata": {},
   "outputs": [
    {
     "name": "stdout",
     "output_type": "stream",
     "text": [
      "\n",
      "步骤 2: 数据存储\n",
      "--------------------------------------------------\n"
     ]
    },
    {
     "ename": "NotImplementedError",
     "evalue": "Database objects do not implement truth value testing or bool(). Please compare with None instead: database is not None",
     "output_type": "error",
     "traceback": [
      "\u001b[0;31m---------------------------------------------------------------------------\u001b[0m",
      "\u001b[0;31mNotImplementedError\u001b[0m                       Traceback (most recent call last)",
      "Cell \u001b[0;32mIn[38], line 13\u001b[0m\n\u001b[1;32m     11\u001b[0m     db_manager\u001b[38;5;241m.\u001b[39minsert_education_data(education_data_raw)\n\u001b[1;32m     12\u001b[0m     db_manager\u001b[38;5;241m.\u001b[39minsert_economic_data(economic_data_raw)\n\u001b[0;32m---> 13\u001b[0m     \u001b[38;5;28;01mif\u001b[39;00m db_manager\u001b[38;5;241m.\u001b[39mmongo_db:\n\u001b[1;32m     14\u001b[0m         db_manager\u001b[38;5;241m.\u001b[39msave_to_mongo(\u001b[38;5;124m'\u001b[39m\u001b[38;5;124meducation_policies\u001b[39m\u001b[38;5;124m'\u001b[39m, policy_docs)\n\u001b[1;32m     15\u001b[0m \u001b[38;5;28;01mexcept\u001b[39;00m \u001b[38;5;167;01mException\u001b[39;00m \u001b[38;5;28;01mas\u001b[39;00m e:\n",
      "File \u001b[0;32m~/.pyenv/versions/3.11.2/lib/python3.11/site-packages/pymongo/database.py:1337\u001b[0m, in \u001b[0;36mDatabase.__bool__\u001b[0;34m(self)\u001b[0m\n\u001b[1;32m   1336\u001b[0m \u001b[38;5;28;01mdef\u001b[39;00m \u001b[38;5;21m__bool__\u001b[39m(\u001b[38;5;28mself\u001b[39m) \u001b[38;5;241m-\u001b[39m\u001b[38;5;241m>\u001b[39m NoReturn:\n\u001b[0;32m-> 1337\u001b[0m     \u001b[38;5;28;01mraise\u001b[39;00m \u001b[38;5;167;01mNotImplementedError\u001b[39;00m(\n\u001b[1;32m   1338\u001b[0m         \u001b[38;5;124m\"\u001b[39m\u001b[38;5;124mDatabase objects do not implement truth \u001b[39m\u001b[38;5;124m\"\u001b[39m\n\u001b[1;32m   1339\u001b[0m         \u001b[38;5;124m\"\u001b[39m\u001b[38;5;124mvalue testing or bool(). Please compare \u001b[39m\u001b[38;5;124m\"\u001b[39m\n\u001b[1;32m   1340\u001b[0m         \u001b[38;5;124m\"\u001b[39m\u001b[38;5;124mwith None instead: database is not None\u001b[39m\u001b[38;5;124m\"\u001b[39m\n\u001b[1;32m   1341\u001b[0m     )\n",
      "\u001b[0;31mNotImplementedError\u001b[0m: Database objects do not implement truth value testing or bool(). Please compare with None instead: database is not None"
     ]
    }
   ],
   "source": [
    "# 数据库操作\n",
    "print(\"\\n步骤 2: 数据存储\")\n",
    "print(\"-\" * 50)\n",
    "\n",
    "try:\n",
    "    db_manager.connect_postgres()\n",
    "    db_manager.connect_mongo()\n",
    "    db_manager.create_tables()\n",
    "    \n",
    "    # 保存数据\n",
    "    db_manager.insert_education_data(education_data_raw)\n",
    "    db_manager.insert_economic_data(economic_data_raw)\n",
    "    if db_manager.mongo_db:\n",
    "        db_manager.save_to_mongo('education_policies', policy_docs)\n",
    "except Exception as e:\n",
    "    logging.error(f\"数据库操作失败: {str(e)}\")\n",
    "    raise"
   ]
  },
  {
   "cell_type": "code",
   "execution_count": null,
   "id": "7c62302a",
   "metadata": {},
   "outputs": [],
   "source": [
    "# 数据检索\n",
    "print(\"\\n步骤 3: 数据分析\")\n",
    "print(\"-\" * 50)\n",
    "\n",
    "education_data = db_manager.get_education_data()\n",
    "economic_data = db_manager.get_economic_data()"
   ]
  },
  {
   "cell_type": "code",
   "execution_count": null,
   "id": "160917bf",
   "metadata": {},
   "outputs": [],
   "source": [
    "# 数据质量检查\n",
    "quality_results = {\n",
    "    'education': check_data_quality(education_data, \"教育投资数据\"),\n",
    "    'economic': check_data_quality(economic_data, \"经济指标数据\")\n",
    "}"
   ]
  },
  {
   "cell_type": "code",
   "execution_count": null,
   "id": "ef2dfe70",
   "metadata": {},
   "outputs": [],
   "source": [
    "# 数据清理和合并\n",
    "education_data_cleaned = cleaner.clean_education_data(education_data)\n",
    "\n",
    "merged_data = pd.merge(\n",
    "    education_data_cleaned,\n",
    "    economic_data,\n",
    "    left_on=['geo_time_period', 'year'],\n",
    "    right_on=['country_code', 'year'],\n",
    "    how='inner'\n",
    ")"
   ]
  },
  {
   "cell_type": "code",
   "execution_count": null,
   "id": "f6150daf",
   "metadata": {},
   "outputs": [],
   "source": [
    "# 设置分析参数\n",
    "major_countries = ['DE', 'FR', 'IT', 'ES', 'PL']\n",
    "country_names = {\n",
    "    'DE': '德国',\n",
    "    'FR': '法国',\n",
    "    'IT': '意大利',\n",
    "    'ES': '西班牙',\n",
    "    'PL': '波兰'\n",
    "}"
   ]
  },
  {
   "cell_type": "code",
   "execution_count": null,
   "id": "94ca4095",
   "metadata": {},
   "outputs": [],
   "source": [
    "# 创建输出目录\n",
    "output_dir = Path('output')\n",
    "output_dir.mkdir(exist_ok=True)"
   ]
  },
  {
   "cell_type": "code",
   "execution_count": null,
   "id": "53aebe1a",
   "metadata": {},
   "outputs": [],
   "source": [
    "# 1. 投资趋势分析\n",
    "trend_fig = create_interactive_trend_plot(\n",
    "    education_data_cleaned, \n",
    "    major_countries, \n",
    "    country_names\n",
    ")\n",
    "trend_fig.write_html(output_dir / 'investment_trends.html')"
   ]
  },
  {
   "cell_type": "code",
   "execution_count": null,
   "id": "e53091ad",
   "metadata": {},
   "outputs": [],
   "source": [
    "# 2. CAGR分析\n",
    "cagr_results = {}\n",
    "for country in major_countries:\n",
    "    country_data = education_data_cleaned[\n",
    "        education_data_cleaned['geo_time_period'] == country\n",
    "    ]\n",
    "    if len(country_data) >= 2:\n",
    "        country_data = country_data.sort_values('year')\n",
    "        first_year = country_data.iloc[0]\n",
    "        last_year = country_data.iloc[-1]\n",
    "        years = last_year['year'] - first_year['year']\n",
    "        if years > 0:\n",
    "            cagr = (((last_year['value'] / first_year['value']) ** (1/years)) - 1) * 100\n",
    "            cagr_results[country] = cagr"
   ]
  },
  {
   "cell_type": "code",
   "execution_count": null,
   "id": "d85db1c1",
   "metadata": {},
   "outputs": [],
   "source": [
    "# 3. 相关性分析\n",
    "correlation_vars = ['value', 'gdp_growth', 'employment_rate', 'gdp_per_capita']\n",
    "correlations = merged_data[correlation_vars].corr()\n",
    "\n",
    "plt.figure(figsize=(10, 8))\n",
    "sns.heatmap(correlations, annot=True, cmap='coolwarm', center=0)\n",
    "plt.title('教育投资与经济指标的相关性')\n",
    "plt.tight_layout()\n",
    "plt.savefig(output_dir / 'correlation_heatmap.png', dpi=300, bbox_inches='tight')\n",
    "plt.close()"
   ]
  },
  {
   "cell_type": "code",
   "execution_count": null,
   "id": "f36d923f",
   "metadata": {},
   "outputs": [],
   "source": [
    "# 4. 政策影响分析\n",
    "if policy_docs:\n",
    "    policy_impact = analyze_policy_impact(policy_docs, education_data_cleaned)\n",
    "    policy_impact.to_csv(output_dir / 'policy_impact.csv', index=False)"
   ]
  },
  {
   "cell_type": "code",
   "execution_count": null,
   "id": "f0bdd4bb",
   "metadata": {},
   "outputs": [],
   "source": [
    "# 5. 投资效率分析\n",
    "if not merged_data.empty:\n",
    "    merged_data['investment_efficiency'] = merged_data['gdp_per_capita'] / merged_data['value']\n",
    "    latest_year = merged_data['year'].max()\n",
    "    efficiency_fig = px.bar(\n",
    "        merged_data[merged_data['year'] == latest_year].nlargest(5, 'investment_efficiency'),\n",
    "        x='geo_time_period',\n",
    "        y='investment_efficiency',\n",
    "        title=f'各国投资效率对比 ({latest_year})'\n",
    "    )\n",
    "    efficiency_fig.write_html(output_dir / 'investment_efficiency.html')"
   ]
  },
  {
   "cell_type": "code",
   "execution_count": null,
   "id": "0acb0883",
   "metadata": {},
   "outputs": [],
   "source": [
    "# 导出分析结果\n",
    "analysis_results = {\n",
    "    'data_quality': quality_results,\n",
    "    'cagr_analysis': cagr_results,\n",
    "    'correlations': correlations.to_dict(),\n",
    "    'investment_efficiency': merged_data['investment_efficiency'].describe().to_dict()\n",
    "}\n",
    "\n",
    "with open(output_dir / 'analysis_results.json', 'w', encoding='utf-8') as f:\n",
    "    json.dump(analysis_results, f, ensure_ascii=False, indent=2)\n",
    "\n",
    "logging.info(\"分析完成\")\n",
    "print(\"\\n分析已完成！结果保存在 output 目录中。\")"
   ]
  },
  {
   "cell_type": "code",
   "execution_count": null,
   "id": "ba9386e4",
   "metadata": {},
   "outputs": [],
   "source": [
    "# 清理工作\n",
    "print(\"\\n步骤 4: 清理\")\n",
    "print(\"-\" * 50)\n",
    "db_manager.close_connections()"
   ]
  },
  {
   "cell_type": "code",
   "execution_count": null,
   "id": "77909787-ee08-41dd-81af-dd5faaef70ff",
   "metadata": {},
   "outputs": [],
   "source": []
  },
  {
   "cell_type": "code",
   "execution_count": null,
   "id": "fb987e61-ad37-4fbf-95ba-a2ed296b64ab",
   "metadata": {},
   "outputs": [],
   "source": []
  },
  {
   "cell_type": "code",
   "execution_count": null,
   "id": "36f385b5-d433-40c2-a8dc-67ad219476d2",
   "metadata": {},
   "outputs": [],
   "source": []
  },
  {
   "cell_type": "code",
   "execution_count": null,
   "id": "6393ca20-c733-483e-aabe-d29f49be554a",
   "metadata": {},
   "outputs": [],
   "source": []
  },
  {
   "cell_type": "code",
   "execution_count": null,
   "id": "e2cac881-c9a6-4d04-b115-3681f89acb02",
   "metadata": {},
   "outputs": [],
   "source": []
  }
 ],
 "metadata": {
  "jupytext": {
   "cell_metadata_filter": "-all",
   "main_language": "python",
   "notebook_metadata_filter": "-all"
  },
  "kernelspec": {
   "display_name": "Python 3 (ipykernel)",
   "language": "python",
   "name": "python3"
  },
  "language_info": {
   "codemirror_mode": {
    "name": "ipython",
    "version": 3
   },
   "file_extension": ".py",
   "mimetype": "text/x-python",
   "name": "python",
   "nbconvert_exporter": "python",
   "pygments_lexer": "ipython3",
   "version": "3.11.2"
  }
 },
 "nbformat": 4,
 "nbformat_minor": 5
}
