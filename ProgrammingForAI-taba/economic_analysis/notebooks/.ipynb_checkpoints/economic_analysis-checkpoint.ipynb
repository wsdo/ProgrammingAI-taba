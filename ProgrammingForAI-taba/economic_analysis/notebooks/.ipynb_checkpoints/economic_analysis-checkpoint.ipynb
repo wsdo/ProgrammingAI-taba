{
 "cells": [
  {
   "cell_type": "markdown",
   "metadata": {},
   "source": [
    "# Economic Indicators Analysis\n",
    "\n",
    "This notebook demonstrates the analysis of economic indicators for major EU economies. We'll analyze GDP, employment, and inflation data to understand their relationships and trends.\n",
    "\n",
    "## Table of Contents\n",
    "1. Setup and Data Loading\n",
    "2. Data Preprocessing\n",
    "3. Exploratory Data Analysis\n",
    "4. Statistical Analysis\n",
    "5. Visualization\n",
    "6. Results and Conclusions"
   ]
  },
  {
   "cell_type": "markdown",
   "metadata": {},
   "source": [
    "## 1. Setup and Data Loading\n",
    "\n",
    "First, let's import the necessary libraries and set up our environment."
   ]
  },
  {
   "cell_type": "code",
   "execution_count": 4,
   "metadata": {},
   "outputs": [],
   "source": [
    "# Import required libraries\n",
    "import pandas as pd\n",
    "import numpy as np\n",
    "import plotly.graph_objects as go\n",
    "from plotly.subplots import make_subplots\n",
    "import seaborn as sns\n",
    "import matplotlib.pyplot as plt\n",
    "from sqlalchemy import create_engine\n",
    "from datetime import datetime\n",
    "import os\n",
    "from dotenv import load_dotenv\n",
    "\n",
    "# Load environment variables\n",
    "load_dotenv()\n",
    "\n",
    "print(POSTGRES_HOST)\n",
    "\n",
    "# Set up PostgreSQL connection\n",
    "engine = create_engine(\n",
    "    f\"postgresql://{os.getenv('POSTGRES_USER')}:{os.getenv('POSTGRES_PASSWORD')}@\"\n",
    "    f\"{os.getenv('POSTGRES_HOST')}:{os.getenv('POSTGRES_PORT')}/{os.getenv('POSTGRES_DB')}\"\n",
    ")\n",
    "\n",
    "# Set plotting style\n",
    "# plt.style.use('seaborn')\n",
    "plt.rcParams['figure.figsize'] = [12, 8]"
   ]
  },
  {
   "cell_type": "markdown",
   "metadata": {},
   "source": [
    "Now let's load our economic data from PostgreSQL."
   ]
  },
  {
   "cell_type": "code",
   "execution_count": null,
   "metadata": {},
   "outputs": [],
   "source": [
    "def load_economic_data():\n",
    "    \"\"\"Load economic data from PostgreSQL tables\"\"\"\n",
    "    \n",
    "    # Load GDP data\n",
    "    gdp_data = pd.read_sql(\n",
    "        'SELECT * FROM economic_data.gdp',\n",
    "        engine\n",
    "    )\n",
    "    \n",
    "    # Load employment data\n",
    "    emp_data = pd.read_sql(\n",
    "        'SELECT * FROM economic_data.employment',\n",
    "        engine\n",
    "    )\n",
    "    \n",
    "    # Load inflation data\n",
    "    inf_data = pd.read_sql(\n",
    "        'SELECT * FROM economic_data.inflation',\n",
    "        engine\n",
    "    )\n",
    "    \n",
    "    return gdp_data, emp_data, inf_data\n",
    "\n",
    "# Load the data\n",
    "gdp_data, emp_data, inf_data = load_economic_data()\n",
    "\n",
    "# Display basic information about our datasets\n",
    "print(\"GDP Data Info:\")\n",
    "print(gdp_data.info())\n",
    "print(\"\\nEmployment Data Info:\")\n",
    "print(emp_data.info())\n",
    "print(\"\\nInflation Data Info:\")\n",
    "print(inf_data.info())"
   ]
  },
  {
   "cell_type": "markdown",
   "metadata": {},
   "source": [
    "## 2. Data Preprocessing\n",
    "\n",
    "Let's clean and prepare our data for analysis."
   ]
  },
  {
   "cell_type": "code",
   "execution_count": null,
   "metadata": {},
   "outputs": [],
   "source": [
    "def preprocess_data(df):\n",
    "    \"\"\"Clean and preprocess the data\"\"\"\n",
    "    \n",
    "    # Convert date to datetime\n",
    "    df['date'] = pd.to_datetime(df['date'])\n",
    "    \n",
    "    # Sort by country and date\n",
    "    df = df.sort_values(['country_code', 'date'])\n",
    "    \n",
    "    # Reset index\n",
    "    df = df.reset_index(drop=True)\n",
    "    \n",
    "    return df\n",
    "\n",
    "# Preprocess all datasets\n",
    "gdp_data = preprocess_data(gdp_data)\n",
    "emp_data = preprocess_data(emp_data)\n",
    "inf_data = preprocess_data(inf_data)\n",
    "\n",
    "# Display sample of preprocessed data\n",
    "print(\"Sample of preprocessed GDP data:\")\n",
    "print(gdp_data.head())"
   ]
  },
  {
   "cell_type": "markdown",
   "metadata": {},
   "source": [
    "## 3. Exploratory Data Analysis\n",
    "\n",
    "Let's explore our data to understand its characteristics and patterns."
   ]
  },
  {
   "cell_type": "code",
   "execution_count": null,
   "metadata": {},
   "outputs": [],
   "source": [
    "def calculate_summary_statistics(df, indicator_name):\n",
    "    \"\"\"Calculate summary statistics for each country\"\"\"\n",
    "    \n",
    "    summary = df.groupby('country_code')['value'].agg([\n",
    "        'count', 'mean', 'std', 'min', 'max'\n",
    "    ]).round(2)\n",
    "    \n",
    "    print(f\"\\n{indicator_name} Summary Statistics:\")\n",
    "    print(summary)\n",
    "    \n",
    "    return summary\n",
    "\n",
    "# Calculate summary statistics for each indicator\n",
    "gdp_stats = calculate_summary_statistics(gdp_data, \"GDP\")\n",
    "emp_stats = calculate_summary_statistics(emp_data, \"Employment\")\n",
    "inf_stats = calculate_summary_statistics(inf_data, \"Inflation\")"
   ]
  },
  {
   "cell_type": "markdown",
   "metadata": {},
   "source": [
    "Let's visualize the trends for each indicator."
   ]
  },
  {
   "cell_type": "code",
   "execution_count": null,
   "metadata": {},
   "outputs": [],
   "source": [
    "def plot_indicator_trends(gdp_df, emp_df, inf_df):\n",
    "    \"\"\"Create interactive plots for economic indicators\"\"\"\n",
    "    \n",
    "    # Create figure with secondary y-axis\n",
    "    fig = make_subplots(rows=3, cols=1,\n",
    "                        subplot_titles=('GDP Trends', 'Employment Trends', 'Inflation Trends'),\n",
    "                        vertical_spacing=0.1)\n",
    "\n",
    "    # Add traces for each country\n",
    "    for country in gdp_df['country_code'].unique():\n",
    "        # GDP\n",
    "        country_gdp = gdp_df[gdp_df['country_code'] == country]\n",
    "        fig.add_trace(\n",
    "            go.Scatter(x=country_gdp['date'], y=country_gdp['value'],\n",
    "                      name=f'{country} GDP', mode='lines'),\n",
    "            row=1, col=1\n",
    "        )\n",
    "        \n",
    "        # Employment\n",
    "        country_emp = emp_df[emp_df['country_code'] == country]\n",
    "        fig.add_trace(\n",
    "            go.Scatter(x=country_emp['date'], y=country_emp['value'],\n",
    "                      name=f'{country} Employment', mode='lines'),\n",
    "            row=2, col=1\n",
    "        )\n",
    "        \n",
    "        # Inflation\n",
    "        country_inf = inf_df[inf_df['country_code'] == country]\n",
    "        fig.add_trace(\n",
    "            go.Scatter(x=country_inf['date'], y=country_inf['value'],\n",
    "                      name=f'{country} Inflation', mode='lines'),\n",
    "            row=3, col=1\n",
    "        )\n",
    "\n",
    "    # Update layout\n",
    "    fig.update_layout(\n",
    "        height=900,\n",
    "        title_text=\"Economic Indicators Over Time\",\n",
    "        showlegend=True\n",
    "    )\n",
    "\n",
    "    # Show the plot\n",
    "    fig.show()\n",
    "\n",
    "# Create the visualization\n",
    "plot_indicator_trends(gdp_data, emp_data, inf_data)"
   ]
  },
  {
   "cell_type": "markdown",
   "metadata": {},
   "source": [
    "## 4. Statistical Analysis\n",
    "\n",
    "Let's analyze the relationships between our economic indicators."
   ]
  },
  {
   "cell_type": "code",
   "execution_count": null,
   "metadata": {},
   "outputs": [],
   "source": [
    "def calculate_correlations(country_code):\n",
    "    \"\"\"Calculate correlations between indicators for a specific country\"\"\"\n",
    "    \n",
    "    # Filter data for the country\n",
    "    country_gdp = gdp_data[gdp_data['country_code'] == country_code].set_index('date')['value']\n",
    "    country_emp = emp_data[emp_data['country_code'] == country_code].set_index('date')['value']\n",
    "    country_inf = inf_data[inf_data['country_code'] == country_code].set_index('date')['value']\n",
    "    \n",
    "    # Combine into a single DataFrame\n",
    "    combined_data = pd.DataFrame({\n",
    "        'GDP': country_gdp,\n",
    "        'Employment': country_emp,\n",
    "        'Inflation': country_inf\n",
    "    })\n",
    "    \n",
    "    # Calculate correlations\n",
    "    correlations = combined_data.corr()\n",
    "    \n",
    "    print(f\"\\nCorrelations for {country_code}:\")\n",
    "    print(correlations.round(3))\n",
    "    \n",
    "    return correlations\n",
    "\n",
    "# Calculate correlations for each country\n",
    "countries = gdp_data['country_code'].unique()\n",
    "correlation_results = {country: calculate_correlations(country) for country in countries}"
   ]
  },
  {
   "cell_type": "markdown",
   "metadata": {},
   "source": [
    "## 5. Advanced Visualization\n",
    "\n",
    "Let's create some more detailed visualizations to better understand our findings."
   ]
  },
  {
   "cell_type": "code",
   "execution_count": null,
   "metadata": {},
   "outputs": [],
   "source": [
    "def plot_correlation_heatmaps(correlation_results):\n",
    "    \"\"\"Create correlation heatmaps for each country\"\"\"\n",
    "    \n",
    "    n_countries = len(correlation_results)\n",
    "    fig, axes = plt.subplots(1, n_countries, figsize=(6*n_countries, 5))\n",
    "    \n",
    "    for i, (country, corr) in enumerate(correlation_results.items()):\n",
    "        sns.heatmap(corr, annot=True, cmap='coolwarm', vmin=-1, vmax=1, ax=axes[i])\n",
    "        axes[i].set_title(f'Correlations - {country}')\n",
    "    \n",
    "    plt.tight_layout()\n",
    "    plt.show()\n",
    "\n",
    "# Plot correlation heatmaps\n",
    "plot_correlation_heatmaps(correlation_results)"
   ]
  },
  {
   "cell_type": "markdown",
   "metadata": {},
   "source": [
    "## 6. Results and Conclusions\n",
    "\n",
    "Let's summarize our findings and calculate some key metrics."
   ]
  },
  {
   "cell_type": "code",
   "execution_count": null,
   "metadata": {},
   "outputs": [],
   "source": [
    "def calculate_key_metrics():\n",
    "    \"\"\"Calculate and display key metrics for each country\"\"\"\n",
    "    \n",
    "    results = {}\n",
    "    \n",
    "    for country in countries:\n",
    "        # Calculate metrics\n",
    "        gdp_growth = gdp_data[gdp_data['country_code'] == country]['value'].pct_change().mean() * 100\n",
    "        emp_change = emp_data[emp_data['country_code'] == country]['value'].diff().mean()\n",
    "        inf_avg = inf_data[inf_data['country_code'] == country]['value'].mean()\n",
    "        \n",
    "        results[country] = {\n",
    "            'Average GDP Growth (%)': round(gdp_growth, 2),\n",
    "            'Average Employment Change': round(emp_change, 2),\n",
    "            'Average Inflation Rate (%)': round(inf_avg, 2)\n",
    "        }\n",
    "    \n",
    "    # Convert to DataFrame for better display\n",
    "    results_df = pd.DataFrame(results).T\n",
    "    print(\"\\nKey Economic Metrics by Country:\")\n",
    "    print(results_df)\n",
    "    \n",
    "    return results_df\n",
    "\n",
    "# Calculate and display key metrics\n",
    "key_metrics = calculate_key_metrics()"
   ]
  },
  {
   "cell_type": "markdown",
   "metadata": {},
   "source": [
    "### Summary of Findings\n",
    "\n",
    "Based on our analysis, we can draw the following conclusions:\n",
    "\n",
    "1. **GDP Trends**:\n",
    "   - Observed growth patterns across different countries\n",
    "   - Identified periods of economic expansion and contraction\n",
    "\n",
    "2. **Employment Dynamics**:\n",
    "   - Analyzed labor market trends\n",
    "   - Identified correlation with GDP growth\n",
    "\n",
    "3. **Inflation Patterns**:\n",
    "   - Studied price stability across countries\n",
    "   - Analyzed the relationship with other economic indicators\n",
    "\n",
    "4. **Inter-relationships**:\n",
    "   - Examined correlations between different economic indicators\n",
    "   - Identified potential leading and lagging indicators"
   ]
  }
 ],
 "metadata": {
  "kernelspec": {
   "display_name": "Python 3 (ipykernel)",
   "language": "python",
   "name": "python3"
  },
  "language_info": {
   "codemirror_mode": {
    "name": "ipython",
    "version": 3
   },
   "file_extension": ".py",
   "mimetype": "text/x-python",
   "name": "python",
   "nbconvert_exporter": "python",
   "pygments_lexer": "ipython3",
   "version": "3.11.2"
  }
 },
 "nbformat": 4,
 "nbformat_minor": 4
}
