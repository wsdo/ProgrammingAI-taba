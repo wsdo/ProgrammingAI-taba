{
 "cells": [
  {
   "cell_type": "markdown",
   "metadata": {},
   "source": [
    "# 教育投资与经济增长分析\n",
    "\n",
    "本notebook展示了如何使用我们的分析和可视化模块来研究教育投资与经济增长之间的关系。"
   ]
  },
  {
   "cell_type": "code",
   "execution_count": 5,
   "metadata": {},
   "outputs": [
    {
     "data": {
      "text/plain": [
       "True"
      ]
     },
     "execution_count": 5,
     "metadata": {},
     "output_type": "execute_result"
    }
   ],
   "source": [
    "# 导入必要的库\n",
    "import sys\n",
    "import os\n",
    "import pandas as pd\n",
    "import numpy as np\n",
    "from dotenv import load_dotenv\n",
    "\n",
    "# 添加项目根目录到Python路径\n",
    "project_root = os.path.abspath(os.path.join(os.getcwd(), '..'))\n",
    "sys.path.append(project_root)\n",
    "\n",
    "# 导入自定义模块\n",
    "from src.data_collection.eurostat_collector import EurostatCollector\n",
    "from src.data_processing.data_processor import DataProcessor\n",
    "from src.analysis.education_analyzer import EducationAnalyzer\n",
    "from src.visualization.data_visualizer import DataVisualizer\n",
    "\n",
    "# 加载环境变量\n",
    "load_dotenv()"
   ]
  },
  {
   "cell_type": "code",
   "execution_count": null,
   "metadata": {},
   "outputs": [
    {
     "name": "stdout",
     "output_type": "stream",
     "text": [
      "Requirement already satisfied: pandas in /Users/stark/.pyenv/versions/3.11.2/lib/python3.11/site-packages (2.1.3)\n",
      "Requirement already satisfied: numpy in /Users/stark/.pyenv/versions/3.11.2/lib/python3.11/site-packages (1.24.3)\n",
      "Requirement already satisfied: matplotlib in /Users/stark/.pyenv/versions/3.11.2/lib/python3.11/site-packages (3.9.1)\n",
      "Requirement already satisfied: seaborn in /Users/stark/.pyenv/versions/3.11.2/lib/python3.11/site-packages (0.13.2)\n",
      "Requirement already satisfied: plotly in /Users/stark/.pyenv/versions/3.11.2/lib/python3.11/site-packages (5.24.1)\n",
      "Requirement already satisfied: psycopg2-binary in /Users/stark/.pyenv/versions/3.11.2/lib/python3.11/site-packages (2.9.10)\n",
      "Requirement already satisfied: pymongo in /Users/stark/.pyenv/versions/3.11.2/lib/python3.11/site-packages (4.6.0)\n",
      "Requirement already satisfied: python-dotenv in /Users/stark/.pyenv/versions/3.11.2/lib/python3.11/site-packages (1.0.0)\n",
      "Requirement already satisfied: eurostat in /Users/stark/.pyenv/versions/3.11.2/lib/python3.11/site-packages (1.0.4)\n",
      "Requirement already satisfied: statsmodels in /Users/stark/.pyenv/versions/3.11.2/lib/python3.11/site-packages (0.14.4)\n",
      "Requirement already satisfied: python-dateutil>=2.8.2 in /Users/stark/.pyenv/versions/3.11.2/lib/python3.11/site-packages (from pandas) (2.9.0.post0)\n",
      "Requirement already satisfied: pytz>=2020.1 in /Users/stark/.pyenv/versions/3.11.2/lib/python3.11/site-packages (from pandas) (2023.4)\n",
      "Requirement already satisfied: tzdata>=2022.1 in /Users/stark/.pyenv/versions/3.11.2/lib/python3.11/site-packages (from pandas) (2024.1)\n",
      "Requirement already satisfied: contourpy>=1.0.1 in /Users/stark/.pyenv/versions/3.11.2/lib/python3.11/site-packages (from matplotlib) (1.2.1)\n",
      "Requirement already satisfied: cycler>=0.10 in /Users/stark/.pyenv/versions/3.11.2/lib/python3.11/site-packages (from matplotlib) (0.12.1)\n",
      "Requirement already satisfied: fonttools>=4.22.0 in /Users/stark/.pyenv/versions/3.11.2/lib/python3.11/site-packages (from matplotlib) (4.53.0)\n",
      "Requirement already satisfied: kiwisolver>=1.3.1 in /Users/stark/.pyenv/versions/3.11.2/lib/python3.11/site-packages (from matplotlib) (1.4.5)\n",
      "Requirement already satisfied: packaging>=20.0 in /Users/stark/.pyenv/versions/3.11.2/lib/python3.11/site-packages (from matplotlib) (24.0)\n",
      "Requirement already satisfied: pillow>=8 in /Users/stark/.pyenv/versions/3.11.2/lib/python3.11/site-packages (from matplotlib) (9.5.0)\n",
      "Requirement already satisfied: pyparsing>=2.3.1 in /Users/stark/.pyenv/versions/3.11.2/lib/python3.11/site-packages (from matplotlib) (3.1.2)\n",
      "Requirement already satisfied: tenacity>=6.2.0 in /Users/stark/.pyenv/versions/3.11.2/lib/python3.11/site-packages (from plotly) (8.2.3)\n",
      "Requirement already satisfied: dnspython<3.0.0,>=1.16.0 in /Users/stark/.pyenv/versions/3.11.2/lib/python3.11/site-packages (from pymongo) (2.6.1)\n",
      "Requirement already satisfied: requests in /Users/stark/.pyenv/versions/3.11.2/lib/python3.11/site-packages (from eurostat) (2.31.0)\n",
      "Requirement already satisfied: scipy!=1.9.2,>=1.8 in /Users/stark/.pyenv/versions/3.11.2/lib/python3.11/site-packages (from statsmodels) (1.14.0)\n",
      "Requirement already satisfied: patsy>=0.5.6 in /Users/stark/.pyenv/versions/3.11.2/lib/python3.11/site-packages (from statsmodels) (1.0.1)\n",
      "Requirement already satisfied: six>=1.5 in /Users/stark/.pyenv/versions/3.11.2/lib/python3.11/site-packages (from python-dateutil>=2.8.2->pandas) (1.16.0)\n",
      "Requirement already satisfied: charset-normalizer<4,>=2 in /Users/stark/.pyenv/versions/3.11.2/lib/python3.11/site-packages (from requests->eurostat) (3.3.2)\n",
      "Requirement already satisfied: idna<4,>=2.5 in /Users/stark/.pyenv/versions/3.11.2/lib/python3.11/site-packages (from requests->eurostat) (3.6)\n",
      "Requirement already satisfied: urllib3<3,>=1.21.1 in /Users/stark/.pyenv/versions/3.11.2/lib/python3.11/site-packages (from requests->eurostat) (2.0.7)\n",
      "Requirement already satisfied: certifi>=2017.4.17 in /Users/stark/.pyenv/versions/3.11.2/lib/python3.11/site-packages (from requests->eurostat) (2024.2.2)\n",
      "\n",
      "\u001b[1m[\u001b[0m\u001b[34;49mnotice\u001b[0m\u001b[1;39;49m]\u001b[0m\u001b[39;49m A new release of pip is available: \u001b[0m\u001b[31;49m24.2\u001b[0m\u001b[39;49m -> \u001b[0m\u001b[32;49m24.3.1\u001b[0m\n",
      "\u001b[1m[\u001b[0m\u001b[34;49mnotice\u001b[0m\u001b[1;39;49m]\u001b[0m\u001b[39;49m To update, run: \u001b[0m\u001b[32;49mpip install --upgrade pip\u001b[0m\n"
     ]
    }
   ],
   "source": [
    "!pip install pandas numpy matplotlib seaborn plotly psycopg2-binary pymongo python-dotenv eurostat statsmodels"
   ]
  },
  {
   "cell_type": "markdown",
   "metadata": {},
   "source": [
    "## 1. 数据收集\n",
    "\n",
    "首先，我们从Eurostat收集教育投资数据和经济指标数据。"
   ]
  },
  {
   "cell_type": "code",
   "execution_count": 6,
   "metadata": {},
   "outputs": [
    {
     "ename": "AttributeError",
     "evalue": "'EurostatCollector' object has no attribute 'collect_education_data'",
     "output_type": "error",
     "traceback": [
      "\u001b[0;31m---------------------------------------------------------------------------\u001b[0m",
      "\u001b[0;31mAttributeError\u001b[0m                            Traceback (most recent call last)",
      "Cell \u001b[0;32mIn[6], line 5\u001b[0m\n\u001b[1;32m      2\u001b[0m collector \u001b[38;5;241m=\u001b[39m EurostatCollector()\n\u001b[1;32m      4\u001b[0m \u001b[38;5;66;03m# 收集教育投资数据\u001b[39;00m\n\u001b[0;32m----> 5\u001b[0m education_data \u001b[38;5;241m=\u001b[39m \u001b[43mcollector\u001b[49m\u001b[38;5;241;43m.\u001b[39;49m\u001b[43mcollect_education_data\u001b[49m()\n\u001b[1;32m      7\u001b[0m \u001b[38;5;66;03m# 收集经济指标数据\u001b[39;00m\n\u001b[1;32m      8\u001b[0m economic_data \u001b[38;5;241m=\u001b[39m collector\u001b[38;5;241m.\u001b[39mcollect_economic_data()\n",
      "\u001b[0;31mAttributeError\u001b[0m: 'EurostatCollector' object has no attribute 'collect_education_data'"
     ]
    }
   ],
   "source": [
    "# 初始化数据收集器\n",
    "collector = EurostatCollector()\n",
    "\n",
    "# 收集教育投资数据\n",
    "education_data = collector.collect_education_data()\n",
    "\n",
    "# 收集经济指标数据\n",
    "economic_data = collector.collect_economic_data()\n",
    "\n",
    "print(\"Education data shape:\", education_data.shape)\n",
    "print(\"Economic data shape:\", economic_data.shape)"
   ]
  },
  {
   "cell_type": "markdown",
   "metadata": {},
   "source": [
    "## 2. 数据处理\n",
    "\n",
    "对收集到的数据进行清洗和预处理。"
   ]
  },
  {
   "cell_type": "code",
   "execution_count": 7,
   "metadata": {},
   "outputs": [
    {
     "ename": "NameError",
     "evalue": "name 'education_data' is not defined",
     "output_type": "error",
     "traceback": [
      "\u001b[0;31m---------------------------------------------------------------------------\u001b[0m",
      "\u001b[0;31mNameError\u001b[0m                                 Traceback (most recent call last)",
      "Cell \u001b[0;32mIn[7], line 5\u001b[0m\n\u001b[1;32m      2\u001b[0m processor \u001b[38;5;241m=\u001b[39m DataProcessor()\n\u001b[1;32m      4\u001b[0m \u001b[38;5;66;03m# 处理教育数据\u001b[39;00m\n\u001b[0;32m----> 5\u001b[0m education_data_cleaned \u001b[38;5;241m=\u001b[39m processor\u001b[38;5;241m.\u001b[39mclean_data(\u001b[43meducation_data\u001b[49m)\n\u001b[1;32m      7\u001b[0m \u001b[38;5;66;03m# 处理经济数据\u001b[39;00m\n\u001b[1;32m      8\u001b[0m economic_data_cleaned \u001b[38;5;241m=\u001b[39m processor\u001b[38;5;241m.\u001b[39mclean_data(economic_data)\n",
      "\u001b[0;31mNameError\u001b[0m: name 'education_data' is not defined"
     ]
    }
   ],
   "source": [
    "# 初始化数据处理器\n",
    "processor = DataProcessor()\n",
    "\n",
    "# 处理教育数据\n",
    "education_data_cleaned = processor.clean_data(education_data)\n",
    "\n",
    "# 处理经济数据\n",
    "economic_data_cleaned = processor.clean_data(economic_data)\n",
    "\n",
    "# 显示基本统计信息\n",
    "print(\"\\nEducation Data Summary:\")\n",
    "print(education_data_cleaned.describe())\n",
    "print(\"\\nEconomic Data Summary:\")\n",
    "print(economic_data_cleaned.describe())"
   ]
  },
  {
   "cell_type": "markdown",
   "metadata": {},
   "source": [
    "## 3. 数据分析\n",
    "\n",
    "使用我们的分析模块来研究教育投资与经济增长之间的关系。"
   ]
  },
  {
   "cell_type": "code",
   "execution_count": 8,
   "metadata": {},
   "outputs": [
    {
     "ename": "NameError",
     "evalue": "name 'education_data_cleaned' is not defined",
     "output_type": "error",
     "traceback": [
      "\u001b[0;31m---------------------------------------------------------------------------\u001b[0m",
      "\u001b[0;31mNameError\u001b[0m                                 Traceback (most recent call last)",
      "Cell \u001b[0;32mIn[8], line 6\u001b[0m\n\u001b[1;32m      2\u001b[0m analyzer \u001b[38;5;241m=\u001b[39m EducationAnalyzer()\n\u001b[1;32m      4\u001b[0m \u001b[38;5;66;03m# 分析教育投资趋势\u001b[39;00m\n\u001b[1;32m      5\u001b[0m trend_results \u001b[38;5;241m=\u001b[39m analyzer\u001b[38;5;241m.\u001b[39manalyze_trends(\n\u001b[0;32m----> 6\u001b[0m     \u001b[43meducation_data_cleaned\u001b[49m,\n\u001b[1;32m      7\u001b[0m     \u001b[38;5;124m'\u001b[39m\u001b[38;5;124meducation_investment\u001b[39m\u001b[38;5;124m'\u001b[39m,\n\u001b[1;32m      8\u001b[0m     \u001b[38;5;124m'\u001b[39m\u001b[38;5;124myear\u001b[39m\u001b[38;5;124m'\u001b[39m\n\u001b[1;32m      9\u001b[0m )\n\u001b[1;32m     11\u001b[0m \u001b[38;5;28mprint\u001b[39m(\u001b[38;5;124m\"\u001b[39m\u001b[38;5;130;01m\\n\u001b[39;00m\u001b[38;5;124mTrend Analysis Results:\u001b[39m\u001b[38;5;124m\"\u001b[39m)\n\u001b[1;32m     12\u001b[0m \u001b[38;5;28mprint\u001b[39m(\u001b[38;5;124m\"\u001b[39m\u001b[38;5;124mAverage YoY Growth:\u001b[39m\u001b[38;5;124m\"\u001b[39m, trend_results[\u001b[38;5;124m'\u001b[39m\u001b[38;5;124myoy_growth_stats\u001b[39m\u001b[38;5;124m'\u001b[39m][\u001b[38;5;124m'\u001b[39m\u001b[38;5;124mmean\u001b[39m\u001b[38;5;124m'\u001b[39m])\n",
      "\u001b[0;31mNameError\u001b[0m: name 'education_data_cleaned' is not defined"
     ]
    }
   ],
   "source": [
    "# 初始化分析器\n",
    "analyzer = EducationAnalyzer()\n",
    "\n",
    "# 分析教育投资趋势\n",
    "trend_results = analyzer.analyze_trends(\n",
    "    education_data_cleaned,\n",
    "    'education_investment',\n",
    "    'year'\n",
    ")\n",
    "\n",
    "print(\"\\nTrend Analysis Results:\")\n",
    "print(\"Average YoY Growth:\", trend_results['yoy_growth_stats']['mean'])\n",
    "print(\"CAGR by Country:\")\n",
    "print(trend_results['cagr_by_country'])"
   ]
  },
  {
   "cell_type": "code",
   "execution_count": 9,
   "metadata": {},
   "outputs": [
    {
     "ename": "NameError",
     "evalue": "name 'education_data_cleaned' is not defined",
     "output_type": "error",
     "traceback": [
      "\u001b[0;31m---------------------------------------------------------------------------\u001b[0m",
      "\u001b[0;31mNameError\u001b[0m                                 Traceback (most recent call last)",
      "Cell \u001b[0;32mIn[9], line 3\u001b[0m\n\u001b[1;32m      1\u001b[0m \u001b[38;5;66;03m# 分析教育投资对经济的影响\u001b[39;00m\n\u001b[1;32m      2\u001b[0m impact_results \u001b[38;5;241m=\u001b[39m analyzer\u001b[38;5;241m.\u001b[39manalyze_education_impact(\n\u001b[0;32m----> 3\u001b[0m     \u001b[43meducation_data_cleaned\u001b[49m,\n\u001b[1;32m      4\u001b[0m     economic_data_cleaned\n\u001b[1;32m      5\u001b[0m )\n\u001b[1;32m      7\u001b[0m \u001b[38;5;28mprint\u001b[39m(\u001b[38;5;124m\"\u001b[39m\u001b[38;5;130;01m\\n\u001b[39;00m\u001b[38;5;124mEducation Impact Analysis:\u001b[39m\u001b[38;5;124m\"\u001b[39m)\n\u001b[1;32m      8\u001b[0m \u001b[38;5;28mprint\u001b[39m(\u001b[38;5;124m\"\u001b[39m\u001b[38;5;130;01m\\n\u001b[39;00m\u001b[38;5;124mSignificant Correlations:\u001b[39m\u001b[38;5;124m\"\u001b[39m)\n",
      "\u001b[0;31mNameError\u001b[0m: name 'education_data_cleaned' is not defined"
     ]
    }
   ],
   "source": [
    "# 分析教育投资对经济的影响\n",
    "impact_results = analyzer.analyze_education_impact(\n",
    "    education_data_cleaned,\n",
    "    economic_data_cleaned\n",
    ")\n",
    "\n",
    "print(\"\\nEducation Impact Analysis:\")\n",
    "print(\"\\nSignificant Correlations:\")\n",
    "for pair, details in impact_results['correlation_analysis'].items():\n",
    "    print(f\"{pair}: {details['correlation']:.3f} ({details['strength']})\")\n",
    "\n",
    "print(\"\\nRegression Analysis:\")\n",
    "print(f\"R² Score: {impact_results['regression_analysis']['r2_score']:.3f}\")\n",
    "print(\"Coefficients:\")\n",
    "for var, coef in impact_results['regression_analysis']['coefficients'].items():\n",
    "    print(f\"{var}: {coef:.3f}\")"
   ]
  },
  {
   "cell_type": "markdown",
   "metadata": {},
   "source": [
    "## 4. 数据可视化\n",
    "\n",
    "使用我们的可视化模块来创建各种图表，展示分析结果。"
   ]
  },
  {
   "cell_type": "code",
   "execution_count": 10,
   "metadata": {},
   "outputs": [
    {
     "ename": "NameError",
     "evalue": "name 'education_data_cleaned' is not defined",
     "output_type": "error",
     "traceback": [
      "\u001b[0;31m---------------------------------------------------------------------------\u001b[0m",
      "\u001b[0;31mNameError\u001b[0m                                 Traceback (most recent call last)",
      "Cell \u001b[0;32mIn[10], line 6\u001b[0m\n\u001b[1;32m      2\u001b[0m visualizer \u001b[38;5;241m=\u001b[39m DataVisualizer()\n\u001b[1;32m      4\u001b[0m \u001b[38;5;66;03m# 创建时间序列图\u001b[39;00m\n\u001b[1;32m      5\u001b[0m time_series_fig \u001b[38;5;241m=\u001b[39m visualizer\u001b[38;5;241m.\u001b[39mcreate_time_series_plot(\n\u001b[0;32m----> 6\u001b[0m     \u001b[43meducation_data_cleaned\u001b[49m,\n\u001b[1;32m      7\u001b[0m     \u001b[38;5;124m'\u001b[39m\u001b[38;5;124myear\u001b[39m\u001b[38;5;124m'\u001b[39m,\n\u001b[1;32m      8\u001b[0m     \u001b[38;5;124m'\u001b[39m\u001b[38;5;124meducation_investment\u001b[39m\u001b[38;5;124m'\u001b[39m,\n\u001b[1;32m      9\u001b[0m     \u001b[38;5;124m'\u001b[39m\u001b[38;5;124mcountry_code\u001b[39m\u001b[38;5;124m'\u001b[39m,\n\u001b[1;32m     10\u001b[0m     \u001b[38;5;124m'\u001b[39m\u001b[38;5;124mEducation Investment Over Time\u001b[39m\u001b[38;5;124m'\u001b[39m\n\u001b[1;32m     11\u001b[0m )\n\u001b[1;32m     12\u001b[0m time_series_fig\u001b[38;5;241m.\u001b[39mshow()\n",
      "\u001b[0;31mNameError\u001b[0m: name 'education_data_cleaned' is not defined"
     ]
    }
   ],
   "source": [
    "# 初始化可视化器\n",
    "visualizer = DataVisualizer()\n",
    "\n",
    "# 创建时间序列图\n",
    "time_series_fig = visualizer.create_time_series_plot(\n",
    "    education_data_cleaned,\n",
    "    'year',\n",
    "    'education_investment',\n",
    "    'country_code',\n",
    "    'Education Investment Over Time'\n",
    ")\n",
    "time_series_fig.show()"
   ]
  },
  {
   "cell_type": "code",
   "execution_count": 11,
   "metadata": {},
   "outputs": [
    {
     "ename": "NameError",
     "evalue": "name 'education_data_cleaned' is not defined",
     "output_type": "error",
     "traceback": [
      "\u001b[0;31m---------------------------------------------------------------------------\u001b[0m",
      "\u001b[0;31mNameError\u001b[0m                                 Traceback (most recent call last)",
      "Cell \u001b[0;32mIn[11], line 3\u001b[0m\n\u001b[1;32m      1\u001b[0m \u001b[38;5;66;03m# 创建相关性热图\u001b[39;00m\n\u001b[1;32m      2\u001b[0m merged_data \u001b[38;5;241m=\u001b[39m pd\u001b[38;5;241m.\u001b[39mmerge(\n\u001b[0;32m----> 3\u001b[0m     \u001b[43meducation_data_cleaned\u001b[49m,\n\u001b[1;32m      4\u001b[0m     economic_data_cleaned,\n\u001b[1;32m      5\u001b[0m     on\u001b[38;5;241m=\u001b[39m[\u001b[38;5;124m'\u001b[39m\u001b[38;5;124mcountry_code\u001b[39m\u001b[38;5;124m'\u001b[39m, \u001b[38;5;124m'\u001b[39m\u001b[38;5;124myear\u001b[39m\u001b[38;5;124m'\u001b[39m]\n\u001b[1;32m      6\u001b[0m )\n\u001b[1;32m      8\u001b[0m corr_matrix \u001b[38;5;241m=\u001b[39m merged_data[[\n\u001b[1;32m      9\u001b[0m     \u001b[38;5;124m'\u001b[39m\u001b[38;5;124meducation_investment\u001b[39m\u001b[38;5;124m'\u001b[39m,\n\u001b[1;32m     10\u001b[0m     \u001b[38;5;124m'\u001b[39m\u001b[38;5;124mgdp_growth\u001b[39m\u001b[38;5;124m'\u001b[39m,\n\u001b[1;32m     11\u001b[0m     \u001b[38;5;124m'\u001b[39m\u001b[38;5;124memployment_rate\u001b[39m\u001b[38;5;124m'\u001b[39m\n\u001b[1;32m     12\u001b[0m ]]\u001b[38;5;241m.\u001b[39mcorr()\n\u001b[1;32m     14\u001b[0m heatmap_fig \u001b[38;5;241m=\u001b[39m visualizer\u001b[38;5;241m.\u001b[39mcreate_correlation_heatmap(\n\u001b[1;32m     15\u001b[0m     corr_matrix,\n\u001b[1;32m     16\u001b[0m     \u001b[38;5;124m'\u001b[39m\u001b[38;5;124mCorrelation between Education and Economic Indicators\u001b[39m\u001b[38;5;124m'\u001b[39m\n\u001b[1;32m     17\u001b[0m )\n",
      "\u001b[0;31mNameError\u001b[0m: name 'education_data_cleaned' is not defined"
     ]
    }
   ],
   "source": [
    "# 创建相关性热图\n",
    "merged_data = pd.merge(\n",
    "    education_data_cleaned,\n",
    "    economic_data_cleaned,\n",
    "    on=['country_code', 'year']\n",
    ")\n",
    "\n",
    "corr_matrix = merged_data[[\n",
    "    'education_investment',\n",
    "    'gdp_growth',\n",
    "    'employment_rate'\n",
    "]].corr()\n",
    "\n",
    "heatmap_fig = visualizer.create_correlation_heatmap(\n",
    "    corr_matrix,\n",
    "    'Correlation between Education and Economic Indicators'\n",
    ")\n",
    "heatmap_fig.show()"
   ]
  },
  {
   "cell_type": "code",
   "execution_count": 12,
   "metadata": {},
   "outputs": [
    {
     "ename": "NameError",
     "evalue": "name 'merged_data' is not defined",
     "output_type": "error",
     "traceback": [
      "\u001b[0;31m---------------------------------------------------------------------------\u001b[0m",
      "\u001b[0;31mNameError\u001b[0m                                 Traceback (most recent call last)",
      "Cell \u001b[0;32mIn[12], line 3\u001b[0m\n\u001b[1;32m      1\u001b[0m \u001b[38;5;66;03m# 创建散点图\u001b[39;00m\n\u001b[1;32m      2\u001b[0m scatter_fig \u001b[38;5;241m=\u001b[39m visualizer\u001b[38;5;241m.\u001b[39mcreate_scatter_plot(\n\u001b[0;32m----> 3\u001b[0m     \u001b[43mmerged_data\u001b[49m,\n\u001b[1;32m      4\u001b[0m     \u001b[38;5;124m'\u001b[39m\u001b[38;5;124meducation_investment\u001b[39m\u001b[38;5;124m'\u001b[39m,\n\u001b[1;32m      5\u001b[0m     \u001b[38;5;124m'\u001b[39m\u001b[38;5;124mgdp_growth\u001b[39m\u001b[38;5;124m'\u001b[39m,\n\u001b[1;32m      6\u001b[0m     \u001b[38;5;124m'\u001b[39m\u001b[38;5;124mcountry_code\u001b[39m\u001b[38;5;124m'\u001b[39m,\n\u001b[1;32m      7\u001b[0m     \u001b[38;5;124m'\u001b[39m\u001b[38;5;124mEducation Investment vs GDP Growth\u001b[39m\u001b[38;5;124m'\u001b[39m,\n\u001b[1;32m      8\u001b[0m     add_trendline\u001b[38;5;241m=\u001b[39m\u001b[38;5;28;01mTrue\u001b[39;00m\n\u001b[1;32m      9\u001b[0m )\n\u001b[1;32m     10\u001b[0m scatter_fig\u001b[38;5;241m.\u001b[39mshow()\n",
      "\u001b[0;31mNameError\u001b[0m: name 'merged_data' is not defined"
     ]
    }
   ],
   "source": [
    "# 创建散点图\n",
    "scatter_fig = visualizer.create_scatter_plot(\n",
    "    merged_data,\n",
    "    'education_investment',\n",
    "    'gdp_growth',\n",
    "    'country_code',\n",
    "    'Education Investment vs GDP Growth',\n",
    "    add_trendline=True\n",
    ")\n",
    "scatter_fig.show()"
   ]
  },
  {
   "cell_type": "code",
   "execution_count": 13,
   "metadata": {},
   "outputs": [
    {
     "ename": "NameError",
     "evalue": "name 'education_data_cleaned' is not defined",
     "output_type": "error",
     "traceback": [
      "\u001b[0;31m---------------------------------------------------------------------------\u001b[0m",
      "\u001b[0;31mNameError\u001b[0m                                 Traceback (most recent call last)",
      "Cell \u001b[0;32mIn[13], line 3\u001b[0m\n\u001b[1;32m      1\u001b[0m \u001b[38;5;66;03m# 创建综合仪表板\u001b[39;00m\n\u001b[1;32m      2\u001b[0m dashboard \u001b[38;5;241m=\u001b[39m visualizer\u001b[38;5;241m.\u001b[39mcreate_education_dashboard(\n\u001b[0;32m----> 3\u001b[0m     \u001b[43meducation_data_cleaned\u001b[49m,\n\u001b[1;32m      4\u001b[0m     economic_data_cleaned\n\u001b[1;32m      5\u001b[0m )\n\u001b[1;32m      6\u001b[0m dashboard\u001b[38;5;241m.\u001b[39mshow()\n",
      "\u001b[0;31mNameError\u001b[0m: name 'education_data_cleaned' is not defined"
     ]
    }
   ],
   "source": [
    "# 创建综合仪表板\n",
    "dashboard = visualizer.create_education_dashboard(\n",
    "    education_data_cleaned,\n",
    "    economic_data_cleaned\n",
    ")\n",
    "dashboard.show()"
   ]
  },
  {
   "cell_type": "markdown",
   "metadata": {},
   "source": [
    "## 5. 结论\n",
    "\n",
    "基于上述分析，我们可以得出以下结论：\n",
    "\n",
    "1. **教育投资趋势**：\n",
    "   - 观察各国教育投资的年度变化\n",
    "   - 识别投资增长最快的国家\n",
    "\n",
    "2. **教育与经济关系**：\n",
    "   - 分析教育投资与GDP增长的相关性\n",
    "   - 研究教育投资对就业率的影响\n",
    "\n",
    "3. **政策建议**：\n",
    "   - 基于数据分析结果提出建议\n",
    "   - 确定最佳的教育投资策略"
   ]
  },
  {
   "cell_type": "code",
   "execution_count": null,
   "metadata": {},
   "outputs": [],
   "source": []
  },
  {
   "cell_type": "code",
   "execution_count": null,
   "metadata": {},
   "outputs": [],
   "source": []
  },
  {
   "cell_type": "code",
   "execution_count": null,
   "metadata": {},
   "outputs": [],
   "source": []
  }
 ],
 "metadata": {
  "kernelspec": {
   "display_name": "Python 3 (ipykernel)",
   "language": "python",
   "name": "python3"
  },
  "language_info": {
   "codemirror_mode": {
    "name": "ipython",
    "version": 3
   },
   "file_extension": ".py",
   "mimetype": "text/x-python",
   "name": "python",
   "nbconvert_exporter": "python",
   "pygments_lexer": "ipython3",
   "version": "3.11.2"
  }
 },
 "nbformat": 4,
 "nbformat_minor": 4
}
