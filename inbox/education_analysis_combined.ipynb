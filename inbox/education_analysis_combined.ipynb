{
 "cells": [
  {
   "cell_type": "markdown",
   "id": "ca032f9b",
   "metadata": {},
   "source": [
    "# Comprehensive Education Investment Analysis\n",
    "\n",
    "This notebook provides a complete pipeline for:\n",
    "1. Data Collection from Multiple Sources\n",
    "2. Data Processing and Storage\n",
    "3. Comprehensive Analysis and Visualization\n",
    "4. Trend Analysis and Statistical Insights"
   ]
  },
  {
   "cell_type": "markdown",
   "id": "8534f779",
   "metadata": {},
   "source": [
    "Import required libraries\n",
    "import sys\n",
    "import os\n",
    "from pathlib import Path\n",
    "import pandas as pd\n",
    "import matplotlib.pyplot as plt\n",
    "import seaborn as sns\n",
    "from dotenv import load_dotenv\n",
    "import matplotlib\n",
    "\n",
    "Add project root to Python path\n",
    "project_root = Path('..').resolve()\n",
    "sys.path.append(str(project_root))\n",
    "\n",
    "Import project modules\n",
    "from src.data_collection.eurostat_collector import EurostatCollector\n",
    "from src.data_processing.db_manager import DatabaseManager\n",
    "from src.data_processing.data_cleaner import DataCleaner\n",
    "\n",
    "Set plotting style\n",
    "plt.style.use('seaborn')\n",
    "sns.set_palette('husl')\n",
    "plt.rcParams['figure.figsize'] = [12, 6]\n",
    "plt.rcParams['font.size'] = 12\n",
    "plt.rcParams['font.sans-serif'] = ['Arial Unicode MS']\n",
    "plt.rcParams['axes.unicode_minus'] = False"
   ]
  },
  {
   "cell_type": "markdown",
   "id": "966f86dc",
   "metadata": {},
   "source": [
    "## 1. Data Collection and Storage"
   ]
  },
  {
   "cell_type": "markdown",
   "id": "354ba798",
   "metadata": {},
   "source": [
    "Initialize objects\n",
    "collector = EurostatCollector()\n",
    "db_manager = DatabaseManager()\n",
    "cleaner = DataCleaner()\n",
    "\n",
    "Collect education investment data\n",
    "education_data = collector.get_education_investment_data()\n",
    "print(f\"Education data shape: {education_data.shape}\")\n",
    "display(education_data.head())\n",
    "\n",
    "Collect economic indicators\n",
    "try:\n",
    "    economic_data = collector.get_economic_indicators()\n",
    "    print(f\"Economic data shape: {economic_data.shape}\")\n",
    "    display(economic_data.head())\n",
    "except Exception as e:\n",
    "    print(f\"Error getting economic data: {str(e)}\")\n",
    "\n",
    "Collect education policies\n",
    "policy_docs = collector.get_education_policies()\n",
    "print(f\"Collected {len(policy_docs)} policy documents\\n\")\n",
    "print(\"Example document:\")\n",
    "print(policy_docs[0] if policy_docs else \"No documents found\")"
   ]
  },
  {
   "cell_type": "markdown",
   "id": "2a609b02",
   "metadata": {},
   "source": [
    "## 2. Data Storage and Processing"
   ]
  },
  {
   "cell_type": "markdown",
   "id": "aa8f97ea",
   "metadata": {},
   "source": [
    "Connect to databases\n",
    "db_manager.connect_postgres()\n",
    "db_manager.connect_mongo()\n",
    "\n",
    "Reset and setup database structure\n",
    "db_manager.drop_tables()\n",
    "db_manager.setup_postgres_tables()\n",
    "\n",
    "Save data to databases\n",
    "db_manager.save_to_postgres(education_data, 'education_data')\n",
    "db_manager.save_to_postgres(economic_data, 'economic_data')\n",
    "db_manager.save_to_mongo('education_policies', policy_docs)\n",
    "\n",
    "print(\"Data storage completed!\")\n",
    "\n",
    "Clean the education data\n",
    "education_data_cleaned = cleaner.clean_education_data(education_data)\n",
    "print(\"\\nData cleaning results:\")\n",
    "print(\"Raw data shape:\", education_data.shape)\n",
    "print(\"Cleaned data shape:\", education_data_cleaned.shape)"
   ]
  },
  {
   "cell_type": "markdown",
   "id": "93029690",
   "metadata": {},
   "source": [
    "## 3. Investment Trend Analysis"
   ]
  },
  {
   "cell_type": "markdown",
   "id": "1faf35bd",
   "metadata": {},
   "source": [
    "Display available country codes\n",
    "print(\"\\nAvailable country codes:\")\n",
    "print(sorted(education_data_cleaned['geo_time_period'].unique()))\n",
    "\n",
    "Select major countries for analysis\n",
    "major_countries = ['DE', 'FR', 'IT', 'ES', 'PL']\n",
    "major_country_data = education_data_cleaned[\n",
    "    education_data_cleaned['geo_time_period'].isin(major_countries)\n",
    "]\n",
    "\n",
    "Country name mapping\n",
    "country_names = {\n",
    "    'DE': 'Germany',\n",
    "    'FR': 'France',\n",
    "    'IT': 'Italy',\n",
    "    'ES': 'Spain',\n",
    "    'PL': 'Poland'\n",
    "}\n",
    "\n",
    "Create visualization\n",
    "if not major_country_data.empty:\n",
    "    plt.figure(figsize=(15, 8))\n",
    "    colors = {'DE': 'blue', 'FR': 'red', 'IT': 'green', 'ES': 'orange', 'PL': 'purple'}\n",
    "    \n",
    "    for country in major_countries:\n",
    "        country_data = major_country_data[major_country_data['geo_time_period'] == country]\n",
    "        if not country_data.empty:\n",
    "            country_data = country_data.sort_values('year')\n",
    "            plt.plot(country_data['year'], \n",
    "                    country_data['value'], \n",
    "                    label=country_names[country],\n",
    "                    color=colors[country],\n",
    "                    marker='o')\n",
    "    \n",
    "    plt.title('Education Investment Trends in Major EU Countries')\n",
    "    plt.xlabel('Year')\n",
    "    plt.ylabel('Investment Value')\n",
    "    plt.legend()\n",
    "    plt.grid(True, linestyle='--', alpha=0.7)\n",
    "    plt.gca().spines['top'].set_visible(False)\n",
    "    plt.gca().spines['right'].set_visible(False)\n",
    "    plt.tight_layout()\n",
    "    plt.show()"
   ]
  },
  {
   "cell_type": "markdown",
   "id": "d29a2bb2",
   "metadata": {},
   "source": [
    "## 4. Growth Rate Analysis"
   ]
  },
  {
   "cell_type": "markdown",
   "id": "5b60364f",
   "metadata": {},
   "source": [
    "Calculate Compound Annual Growth Rate (CAGR)\n",
    "print(\"\\nCompound Annual Growth Rate (CAGR) by Country:\")\n",
    "print(\"-\" * 40)\n",
    "\n",
    "for country in major_countries:\n",
    "    country_data = major_country_data[major_country_data['geo_time_period'] == country]\n",
    "    if len(country_data) >= 2:\n",
    "        country_data = country_data.sort_values('year')\n",
    "        start_value = country_data.iloc[0]['value']\n",
    "        end_value = country_data.iloc[-1]['value']\n",
    "        years = country_data.iloc[-1]['year'] - country_data.iloc[0]['year']\n",
    "        \n",
    "        if years > 0 and start_value > 0:\n",
    "            cagr = (end_value/start_value)**(1/years) - 1\n",
    "            start_year = country_data.iloc[0]['year']\n",
    "            end_year = country_data.iloc[-1]['year']\n",
    "            print(f\"{country_names[country]} ({country}): {cagr*100:.2f}% ({start_year}-{end_year})\")\n",
    "    else:\n",
    "        print(f\"{country_names[country]} ({country}): Insufficient data points\")"
   ]
  },
  {
   "cell_type": "markdown",
   "id": "57962330",
   "metadata": {},
   "source": [
    "## 5. Statistical Analysis"
   ]
  },
  {
   "cell_type": "markdown",
   "id": "d8847b8d",
   "metadata": {},
   "source": [
    "Statistical summary by country\n",
    "print(\"\\nStatistical Summary by Country:\")\n",
    "print(\"-\" * 40)\n",
    "summary_stats = major_country_data.groupby('geo_time_period').agg({\n",
    "    'value': ['count', 'mean', 'std', 'min', 'max']\n",
    "}).round(2)\n",
    "print(summary_stats)"
   ]
  },
  {
   "cell_type": "markdown",
   "id": "d79c1236",
   "metadata": {},
   "source": [
    "## 6. Economic Impact Analysis"
   ]
  },
  {
   "cell_type": "markdown",
   "id": "63953309",
   "metadata": {},
   "source": [
    "Analyze relationship between education investment and GDP growth\n",
    "with db_manager.pg_conn.cursor() as cur:\n",
    "    cur.execute(\"\"\"\n",
    "        WITH edu_data AS (\n",
    "            SELECT geo_time_period as country, year, value as investment\n",
    "            FROM education_data\n",
    "            WHERE isced11 = 'ED0'\n",
    "        )\n",
    "        SELECT \n",
    "            e.country,\n",
    "            e.year,\n",
    "            e.investment,\n",
    "            c.gdp_growth\n",
    "        FROM edu_data e\n",
    "        JOIN economic_data c ON e.country = c.country_code \n",
    "            AND e.year = c.year\n",
    "        WHERE e.investment IS NOT NULL \n",
    "            AND c.gdp_growth IS NOT NULL\n",
    "    \"\"\")\n",
    "    correlation_data = pd.DataFrame(\n",
    "        cur.fetchall(), \n",
    "        columns=['country', 'year', 'investment', 'gdp_growth']\n",
    "    )\n",
    "\n",
    "Create scatter plot\n",
    "plt.figure(figsize=(10, 6))\n",
    "sns.scatterplot(data=correlation_data, x='investment', y='gdp_growth')\n",
    "plt.title('Education Investment vs GDP Growth')\n",
    "plt.xlabel('Education Investment (EUR)')\n",
    "plt.ylabel('GDP Growth Rate (%)')\n",
    "plt.tight_layout()\n",
    "plt.show()\n",
    "\n",
    "Calculate and display correlation coefficient\n",
    "correlation = correlation_data['investment'].corr(correlation_data['gdp_growth'])\n",
    "print(f\"\\nCorrelation coefficient between education investment and GDP growth: {correlation:.3f}\")"
   ]
  },
  {
   "cell_type": "markdown",
   "id": "576f293d",
   "metadata": {},
   "source": [
    "## 7. Data Verification"
   ]
  },
  {
   "cell_type": "markdown",
   "id": "149fcf4e",
   "metadata": {},
   "source": [
    "Verify data in databases\n",
    "education_count = db_manager.query_postgres(\"\"\"\n",
    "    SELECT COUNT(*) as count \n",
    "    FROM education_data\n",
    "\"\"\")\n",
    "print(f\"Number of records in education_data: {education_count['count'].iloc[0]}\")\n",
    "\n",
    "economic_count = db_manager.query_postgres(\"\"\"\n",
    "    SELECT COUNT(*) as count \n",
    "    FROM economic_data\n",
    "\"\"\")\n",
    "print(f\"Number of records in economic_data: {economic_count['count'].iloc[0]}\")\n",
    "\n",
    "policy_count = db_manager.mongo_client['education']['education_policies'].count_documents({})\n",
    "print(f\"Number of documents in education_policies: {policy_count}\")\n",
    "\n",
    "Clean up connections\n",
    "db_manager.close_connections()\n",
    "print(\"\\nDatabase connections closed\")"
   ]
  }
 ],
 "metadata": {
  "kernelspec": {
   "display_name": "Python 3 (ipykernel)",
   "language": "python",
   "name": "python3"
  },
  "language_info": {
   "codemirror_mode": {
    "name": "ipython",
    "version": 3
   },
   "file_extension": ".py",
   "mimetype": "text/x-python",
   "name": "python",
   "nbconvert_exporter": "python",
   "pygments_lexer": "ipython3",
   "version": "3.11.2"
  }
 },
 "nbformat": 4,
 "nbformat_minor": 5
}
