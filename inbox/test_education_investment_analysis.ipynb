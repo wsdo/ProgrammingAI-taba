{
 "cells": [
  {
   "cell_type": "markdown",
   "metadata": {},
   "source": [
    "# Test Cases for Education Investment Analysis\n",
    "\n",
    "This notebook contains test cases for validating the education investment analysis functionality. The tests cover data collection, cleaning, database operations, and analysis calculations."
   ]
  },
  {
   "cell_type": "code",
   "execution_count": null,
   "metadata": {},
   "source": [
    "# Import required libraries\n",
    "import unittest\n",
    "import pandas as pd\n",
    "import numpy as np\n",
    "from pathlib import Path\n",
    "import sys\n",
    "import os\n",
    "from unittest.mock import Mock, patch\n",
    "\n",
    "# Add project root to Python path\n",
    "project_root = Path('..').resolve()\n",
    "sys.path.append(str(project_root))\n",
    "\n",
    "# Import the modules to test\n",
    "from education_investment_analysis_v2 import (\n",
    "    EurostatCollector,\n",
    "    DatabaseManager,\n",
    "    DataCleaner\n",
    ")"
   ]
  },
  {
   "cell_type": "markdown",
   "metadata": {},
   "source": [
    "## Test Case Setup\n",
    "\n",
    "First, we'll create a test class that inherits from `unittest.TestCase` and set up our test fixtures."
   ]
  },
  {
   "cell_type": "code",
   "execution_count": null,
   "metadata": {},
   "source": [
    "class TestEducationInvestmentAnalysis(unittest.TestCase):\n",
    "    \"\"\"Test cases for education investment analysis functionality\"\"\"\n",
    "    \n",
    "    def setUp(self):\n",
    "        \"\"\"Set up test fixtures before each test method\"\"\"\n",
    "        self.collector = EurostatCollector()\n",
    "        self.db_manager = DatabaseManager()\n",
    "        self.cleaner = DataCleaner()\n",
    "        \n",
    "        # Sample test data\n",
    "        self.sample_education_data = pd.DataFrame({\n",
    "            'geo_time_period': ['DE', 'FR', 'IT', 'ES', 'PL'],\n",
    "            'year': [2020, 2020, 2020, 2020, 2020],\n",
    "            'value': [5.2, 4.8, 4.1, 4.3, 4.7]\n",
    "        })\n",
    "        \n",
    "        self.sample_economic_data = pd.DataFrame({\n",
    "            'geo_time_period': ['DE', 'FR', 'IT', 'ES', 'PL'],\n",
    "            'year': [2020, 2020, 2020, 2020, 2020],\n",
    "            'gdp_per_capita': [40000, 35000, 30000, 25000, 15000]\n",
    "        })"
   ]
  },
  {
   "cell_type": "markdown",
   "metadata": {},
   "source": [
    "## Test Data Collection\n",
    "\n",
    "Test the functionality for collecting education investment data from Eurostat."
   ]
  },
  {
   "cell_type": "code",
   "execution_count": null,
   "metadata": {},
   "source": [
    "def test_data_collection(self):\n",
    "    \"\"\"Test data collection functionality\"\"\"\n",
    "    with patch.object(EurostatCollector, 'get_education_investment_data') as mock_edu:\n",
    "        mock_edu.return_value = self.sample_education_data\n",
    "        data = self.collector.get_education_investment_data()\n",
    "        \n",
    "        self.assertIsInstance(data, pd.DataFrame)\n",
    "        self.assertEqual(len(data), 5)\n",
    "        self.assertTrue('value' in data.columns)"
   ]
  },
  {
   "cell_type": "markdown",
   "metadata": {},
   "source": [
    "## Test Data Cleaning\n",
    "\n",
    "Test the data cleaning process, including handling of missing values."
   ]
  },
  {
   "cell_type": "code",
   "execution_count": null,
   "metadata": {},
   "source": [
    "def test_data_cleaning(self):\n",
    "    \"\"\"Test data cleaning functionality\"\"\"\n",
    "    # Create data with some missing values\n",
    "    dirty_data = self.sample_education_data.copy()\n",
    "    dirty_data.loc[0, 'value'] = np.nan\n",
    "    \n",
    "    cleaned_data = self.cleaner.clean_education_data(dirty_data)\n",
    "    \n",
    "    self.assertFalse(cleaned_data['value'].isnull().any())\n",
    "    self.assertEqual(len(cleaned_data), len(dirty_data) - 1)  # One row should be removed"
   ]
  },
  {
   "cell_type": "markdown",
   "metadata": {},
   "source": [
    "## Test Database Operations\n",
    "\n",
    "Test database connection and data insertion operations."
   ]
  },
  {
   "cell_type": "code",
   "execution_count": null,
   "metadata": {},
   "source": [
    "def test_database_operations(self):\n",
    "    \"\"\"Test database operations\"\"\"\n",
    "    with patch.object(DatabaseManager, 'connect_postgres') as mock_connect:\n",
    "        mock_connect.return_value = None\n",
    "        self.db_manager.connect_postgres()\n",
    "        mock_connect.assert_called_once()\n",
    "        \n",
    "    with patch.object(DatabaseManager, 'insert_education_data') as mock_insert:\n",
    "        mock_insert.return_value = None\n",
    "        self.db_manager.insert_education_data(self.sample_education_data)\n",
    "        mock_insert.assert_called_once()"
   ]
  },
  {
   "cell_type": "markdown",
   "metadata": {},
   "source": [
    "## Test Data Analysis\n",
    "\n",
    "Test investment efficiency calculations and data analysis operations."
   ]
  },
  {
   "cell_type": "code",
   "execution_count": null,
   "metadata": {},
   "source": [
    "def test_data_analysis(self):\n",
    "    \"\"\"Test data analysis calculations\"\"\"\n",
    "    # Test investment efficiency calculation\n",
    "    merged_data = pd.merge(\n",
    "        self.sample_education_data,\n",
    "        self.sample_economic_data,\n",
    "        on=['geo_time_period', 'year']\n",
    "    )\n",
    "    merged_data['investment_efficiency'] = merged_data['gdp_per_capita'] / merged_data['value']\n",
    "    \n",
    "    self.assertTrue('investment_efficiency' in merged_data.columns)\n",
    "    self.assertEqual(len(merged_data), 5)\n",
    "    self.assertTrue(all(merged_data['investment_efficiency'] > 0))"
   ]
  },
  {
   "cell_type": "markdown",
   "metadata": {},
   "source": [
    "## Test Major Countries Filter\n",
    "\n",
    "Test the filtering of major EU countries data."
   ]
  },
  {
   "cell_type": "code",
   "execution_count": null,
   "metadata": {},
   "source": [
    "def test_major_countries_filter(self):\n",
    "    \"\"\"Test filtering of major EU countries\"\"\"\n",
    "    major_countries = ['DE', 'FR', 'IT', 'ES', 'PL']\n",
    "    filtered_data = self.sample_education_data[\n",
    "        self.sample_education_data['geo_time_period'].isin(major_countries)\n",
    "    ]\n",
    "    \n",
    "    self.assertEqual(len(filtered_data), 5)\n",
    "    self.assertTrue(all(filtered_data['geo_time_period'].isin(major_countries)))"
   ]
  },
  {
   "cell_type": "markdown",
   "metadata": {},
   "source": [
    "## Run All Tests\n",
    "\n",
    "Execute all test cases and display the results."
   ]
  },
  {
   "cell_type": "code",
   "execution_count": null,
   "metadata": {},
   "source": [
    "if __name__ == '__main__':\n",
    "    unittest.main(argv=['first-arg-is-ignored'], exit=False)"
   ]
  }
 ],
 "metadata": {
  "kernelspec": {
   "display_name": "Python 3",
   "language": "python",
   "name": "python3"
  },
  "language_info": {
   "codemirror_mode": {
    "name": "ipython",
    "version": 3
   },
   "file_extension": ".py",
   "mimetype": "text/x-python",
   "name": "python",
   "nbconvert_exporter": "python",
   "pygments_lexer": "ipython3",
   "version": "3.8.0"
  }
 },
 "nbformat": 4,
 "nbformat_minor": 4
}
