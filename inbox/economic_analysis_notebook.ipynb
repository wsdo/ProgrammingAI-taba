{
 "cells": [
  {
   "cell_type": "markdown",
   "metadata": {},
   "source": [
    "# Economic Analysis Notebook\n",
    "\n",
    "This notebook analyzes the relationship between education investment and economic indicators."
   ]
  },
  {
   "cell_type": "code",
   "execution_count": null,
   "metadata": {},
   "outputs": [],
   "source": [
    "# Import required libraries and setup environment\n",
    "import sys\n",
    "import os\n",
    "from pathlib import Path\n",
    "import pandas as pd\n",
    "import numpy as np\n",
    "import matplotlib.pyplot as plt\n",
    "import seaborn as sns\n",
    "from dotenv import load_dotenv\n",
    "import matplotlib\n",
    "\n",
    "# Add project root to Python path\n",
    "project_root = Path().absolute().parent\n",
    "sys.path.append(str(project_root))\n",
    "\n",
    "# Import project modules\n",
    "from src.data_processing.db_manager import DatabaseManager\n",
    "from src.data_processing.data_cleaner import DataCleaner\n",
    "from src.data_processing.imf_data_processor import IMFDataProcessor\n",
    "\n",
    "# Set plotting style\n",
    "plt.style.use('seaborn')\n",
    "sns.set_palette('husl')\n",
    "plt.rcParams['figure.figsize'] = [12, 6]\n",
    "plt.rcParams['font.size'] = 12\n",
    "plt.rcParams['font.sans-serif'] = ['Arial Unicode MS']\n",
    "plt.rcParams['axes.unicode_minus'] = False"
   ]
  },
  {
   "cell_type": "code",
   "execution_count": null,
   "metadata": {},
   "outputs": [],
   "source": [
    "# Initialize data processors and load data\n",
    "db_manager = DatabaseManager()\n",
    "cleaner = DataCleaner()\n",
    "imf_processor = IMFDataProcessor()\n",
    "\n",
    "# Get education data\n",
    "education_data = db_manager.get_education_data()\n",
    "education_data_cleaned = cleaner.clean_education_data(education_data)\n",
    "\n",
    "# Get economic data\n",
    "countries = ['DE', 'FR', 'IT', 'ES', 'PL']  # Major EU countries\n",
    "start_year = 2010\n",
    "end_year = 2023\n",
    "economic_data = imf_processor.get_economic_indicators(countries, start_year, end_year)"
   ]
  },
  {
   "cell_type": "code",
   "execution_count": null,
   "metadata": {},
   "outputs": [],
   "source": [
    "# Prepare data for analysis\n",
    "# Merge education and economic data\n",
    "merged_data = pd.merge(\n",
    "    education_data_cleaned,\n",
    "    economic_data,\n",
    "    left_on=['geo_time_period', 'year'],\n",
    "    right_on=['country', 'year'],\n",
    "    how='inner'\n",
    ")\n",
    "\n",
    "# Display first few rows of merged data\n",
    "merged_data.head()"
   ]
  },
  {
   "cell_type": "code",
   "execution_count": null,
   "metadata": {},
   "outputs": [],
   "source": [
    "# Create correlation heatmap\n",
    "plt.figure(figsize=(10, 8))\n",
    "correlation_matrix = merged_data[['value', 'gdp_growth', 'employment_rate']].corr()\n",
    "sns.heatmap(correlation_matrix, \n",
    "            annot=True, \n",
    "            cmap='coolwarm', \n",
    "            vmin=-1, \n",
    "            vmax=1, \n",
    "            center=0)\n",
    "plt.title('Correlation between Education Investment and Economic Indicators')\n",
    "plt.tight_layout()\n",
    "plt.show()"
   ]
  },
  {
   "cell_type": "code",
   "execution_count": null,
   "metadata": {},
   "outputs": [],
   "source": [
    "# Create trend line plots\n",
    "plt.figure(figsize=(15, 10))\n",
    "\n",
    "# Create two subplots\n",
    "fig, (ax1, ax2) = plt.subplots(2, 1, figsize=(15, 12))\n",
    "\n",
    "# Plot education investment vs GDP growth\n",
    "for country in countries:\n",
    "    country_data = merged_data[merged_data['country'] == country]\n",
    "    ax1.plot(country_data['year'], \n",
    "             country_data['gdp_growth'], \n",
    "             marker='o', \n",
    "             label=f'{country} - GDP Growth')\n",
    "    ax1.plot(country_data['year'], \n",
    "             country_data['value'], \n",
    "             marker='s', \n",
    "             linestyle='--', \n",
    "             label=f'{country} - Education Investment')\n",
    "\n",
    "ax1.set_title('Education Investment vs GDP Growth')\n",
    "ax1.set_xlabel('Year')\n",
    "ax1.set_ylabel('Percentage')\n",
    "ax1.legend(bbox_to_anchor=(1.05, 1), loc='upper left')\n",
    "ax1.grid(True, linestyle='--', alpha=0.7)\n",
    "\n",
    "# Plot education investment vs employment rate\n",
    "for country in countries:\n",
    "    country_data = merged_data[merged_data['country'] == country]\n",
    "    ax2.plot(country_data['year'], \n",
    "             country_data['employment_rate'], \n",
    "             marker='o', \n",
    "             label=f'{country} - Employment Rate')\n",
    "    ax2.plot(country_data['year'], \n",
    "             country_data['value'], \n",
    "             marker='s', \n",
    "             linestyle='--', \n",
    "             label=f'{country} - Education Investment')\n",
    "\n",
    "ax2.set_title('Education Investment vs Employment Rate')\n",
    "ax2.set_xlabel('Year')\n",
    "ax2.set_ylabel('Percentage')\n",
    "ax2.legend(bbox_to_anchor=(1.05, 1), loc='upper left')\n",
    "ax2.grid(True, linestyle='--', alpha=0.7)\n",
    "\n",
    "plt.tight_layout()\n",
    "plt.show()"
   ]
  }
 ],
 "metadata": {
  "kernelspec": {
   "display_name": "Python 3 (ipykernel)",
   "language": "python",
   "name": "python3"
  },
  "language_info": {
   "codemirror_mode": {
    "name": "ipython",
    "version": 3
   },
   "file_extension": ".py",
   "mimetype": "text/x-python",
   "name": "python",
   "nbconvert_exporter": "python",
   "pygments_lexer": "ipython3",
   "version": "3.11.2"
  }
 },
 "nbformat": 4,
 "nbformat_minor": 4
}
