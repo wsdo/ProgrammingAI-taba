{
 "cells": [
  {
   "cell_type": "code",
   "execution_count": 1,
   "id": "608dd9e8",
   "metadata": {
    "execution": {
     "iopub.execute_input": "2024-12-15T23:26:06.078252Z",
     "iopub.status.busy": "2024-12-15T23:26:06.078162Z",
     "iopub.status.idle": "2024-12-15T23:26:07.130581Z",
     "shell.execute_reply": "2024-12-15T23:26:07.130128Z"
    }
   },
   "outputs": [],
   "source": [
    "# Import required libraries\n",
    "import sys\n",
    "import os\n",
    "from pathlib import Path\n",
    "import pandas as pd\n",
    "import numpy as np\n",
    "import matplotlib.pyplot as plt\n",
    "import seaborn as sns\n",
    "from dotenv import load_dotenv\n",
    "import matplotlib"
   ]
  },
  {
   "cell_type": "code",
   "execution_count": 2,
   "id": "ba5489a6",
   "metadata": {
    "execution": {
     "iopub.execute_input": "2024-12-15T23:26:07.132420Z",
     "iopub.status.busy": "2024-12-15T23:26:07.132225Z",
     "iopub.status.idle": "2024-12-15T23:26:07.136287Z",
     "shell.execute_reply": "2024-12-15T23:26:07.136052Z"
    }
   },
   "outputs": [
    {
     "data": {
      "text/plain": [
       "True"
      ]
     },
     "execution_count": 2,
     "metadata": {},
     "output_type": "execute_result"
    }
   ],
   "source": [
    "# Load environment variables from .env file\n",
    "load_dotenv(Path('..').resolve() / '.env')"
   ]
  },
  {
   "cell_type": "code",
   "execution_count": 3,
   "id": "4e49298e",
   "metadata": {
    "execution": {
     "iopub.execute_input": "2024-12-15T23:26:07.137630Z",
     "iopub.status.busy": "2024-12-15T23:26:07.137543Z",
     "iopub.status.idle": "2024-12-15T23:26:07.139289Z",
     "shell.execute_reply": "2024-12-15T23:26:07.139080Z"
    }
   },
   "outputs": [],
   "source": [
    "# Add project root to Python path\n",
    "project_root = Path('..').resolve()\n",
    "sys.path.append(str(project_root))"
   ]
  },
  {
   "cell_type": "code",
   "execution_count": 4,
   "id": "520eaea5",
   "metadata": {
    "execution": {
     "iopub.execute_input": "2024-12-15T23:26:07.140583Z",
     "iopub.status.busy": "2024-12-15T23:26:07.140497Z",
     "iopub.status.idle": "2024-12-15T23:26:07.471414Z",
     "shell.execute_reply": "2024-12-15T23:26:07.471131Z"
    }
   },
   "outputs": [],
   "source": [
    "# Import project modules\n",
    "from src.data_processing.db_manager import DatabaseManager\n",
    "from src.data_processing.data_cleaner import DataCleaner"
   ]
  },
  {
   "cell_type": "code",
   "execution_count": 5,
   "id": "82d8d569",
   "metadata": {
    "execution": {
     "iopub.execute_input": "2024-12-15T23:26:07.473072Z",
     "iopub.status.busy": "2024-12-15T23:26:07.472894Z",
     "iopub.status.idle": "2024-12-15T23:26:07.475330Z",
     "shell.execute_reply": "2024-12-15T23:26:07.475088Z"
    }
   },
   "outputs": [],
   "source": [
    "# Set plotting style\n",
    "plt.style.use('seaborn-v0_8')  # Use the v0.8 compatible style\n",
    "sns.set_theme()  # Use seaborn's default theme\n",
    "plt.rcParams['figure.figsize'] = [12, 6]\n",
    "plt.rcParams['font.size'] = 12\n",
    "plt.rcParams['font.sans-serif'] = ['Arial Unicode MS']"
   ]
  },
  {
   "cell_type": "code",
   "execution_count": 6,
   "id": "406a45e5",
   "metadata": {
    "execution": {
     "iopub.execute_input": "2024-12-15T23:26:07.476656Z",
     "iopub.status.busy": "2024-12-15T23:26:07.476570Z",
     "iopub.status.idle": "2024-12-15T23:26:07.478186Z",
     "shell.execute_reply": "2024-12-15T23:26:07.477952Z"
    }
   },
   "outputs": [],
   "source": [
    "# Initialize database connections and utilities\n",
    "db_manager = DatabaseManager()\n",
    "cleaner = DataCleaner()"
   ]
  },
  {
   "cell_type": "code",
   "execution_count": 7,
   "id": "94652dd6",
   "metadata": {
    "execution": {
     "iopub.execute_input": "2024-12-15T23:26:07.479379Z",
     "iopub.status.busy": "2024-12-15T23:26:07.479305Z",
     "iopub.status.idle": "2024-12-15T23:26:14.636457Z",
     "shell.execute_reply": "2024-12-15T23:26:14.635880Z"
    }
   },
   "outputs": [
    {
     "name": "stderr",
     "output_type": "stream",
     "text": [
      "2024-12-15 23:26:11,158 - INFO - Successfully connected to PostgreSQL\n"
     ]
    }
   ],
   "source": [
    "# Get education investment data from PostgreSQL\n",
    "education_data = db_manager.query_postgres(\"\"\"\n",
    "    SELECT *\n",
    "    FROM education_data\n",
    "    ORDER BY year, geo_time_period\n",
    "\"\"\")"
   ]
  },
  {
   "cell_type": "code",
   "execution_count": 8,
   "id": "e817c1cf",
   "metadata": {
    "execution": {
     "iopub.execute_input": "2024-12-15T23:26:14.638735Z",
     "iopub.status.busy": "2024-12-15T23:26:14.638618Z",
     "iopub.status.idle": "2024-12-15T23:26:15.430041Z",
     "shell.execute_reply": "2024-12-15T23:26:15.429608Z"
    }
   },
   "outputs": [],
   "source": [
    "# Get economic indicators from PostgreSQL\n",
    "economic_data = db_manager.query_postgres(\"\"\"\n",
    "    SELECT *\n",
    "    FROM economic_data\n",
    "    ORDER BY year, country_code\n",
    "\"\"\")"
   ]
  },
  {
   "cell_type": "code",
   "execution_count": 9,
   "id": "8d9816e5",
   "metadata": {
    "execution": {
     "iopub.execute_input": "2024-12-15T23:26:15.432001Z",
     "iopub.status.busy": "2024-12-15T23:26:15.431732Z",
     "iopub.status.idle": "2024-12-15T23:26:15.434318Z",
     "shell.execute_reply": "2024-12-15T23:26:15.434053Z"
    }
   },
   "outputs": [
    {
     "name": "stdout",
     "output_type": "stream",
     "text": [
      "Warning: MongoDB connection not available, skipping policy data\n"
     ]
    }
   ],
   "source": [
    "# Try to get policy data from MongoDB\n",
    "try:\n",
    "    if db_manager.mongo_db:\n",
    "        policy_data = db_manager.mongo_db['education_policies'].find()\n",
    "        policy_docs = list(policy_data)\n",
    "        print(f\"Retrieved {len(policy_docs)} education policy documents\")\n",
    "    else:\n",
    "        print(\"Warning: MongoDB connection not available, skipping policy data\")\n",
    "        policy_docs = []\n",
    "except Exception as e:\n",
    "    print(f\"Error retrieving MongoDB data: {str(e)}\")\n",
    "    policy_docs = []"
   ]
  },
  {
   "cell_type": "code",
   "execution_count": 10,
   "id": "edd4738c",
   "metadata": {
    "execution": {
     "iopub.execute_input": "2024-12-15T23:26:15.437237Z",
     "iopub.status.busy": "2024-12-15T23:26:15.436998Z",
     "iopub.status.idle": "2024-12-15T23:26:15.442898Z",
     "shell.execute_reply": "2024-12-15T23:26:15.441418Z"
    }
   },
   "outputs": [
    {
     "name": "stdout",
     "output_type": "stream",
     "text": [
      "Retrieved 6520 education investment records\n",
      "Retrieved 378 economic indicator records\n"
     ]
    }
   ],
   "source": [
    "print(f\"Retrieved {len(education_data)} education investment records\")\n",
    "print(f\"Retrieved {len(economic_data)} economic indicator records\")"
   ]
  },
  {
   "cell_type": "code",
   "execution_count": 11,
   "id": "1f8f4b5a",
   "metadata": {
    "execution": {
     "iopub.execute_input": "2024-12-15T23:26:15.447780Z",
     "iopub.status.busy": "2024-12-15T23:26:15.446613Z",
     "iopub.status.idle": "2024-12-15T23:26:15.454675Z",
     "shell.execute_reply": "2024-12-15T23:26:15.454192Z"
    }
   },
   "outputs": [
    {
     "name": "stdout",
     "output_type": "stream",
     "text": [
      "\n",
      "Sample of education investment data:\n",
      "    id freq unit  isced11 geo_time_period  year    value  \\\n",
      "0  548    A  PPS     ED44              AT  2012      NaN   \n",
      "1  345    A  PPS     ED34              AT  2012   9455.8   \n",
      "2  411    A  PPS     ED35              AT  2012  11987.2   \n",
      "3  617    A  PPS    ED5-8              AT  2012  13013.7   \n",
      "4  378    A  PPS  ED34_44              AT  2012   9455.8   \n",
      "\n",
      "                collected_at    source  \n",
      "0 2024-12-14 22:47:19.162833  Eurostat  \n",
      "1 2024-12-14 22:47:19.162833  Eurostat  \n",
      "2 2024-12-14 22:47:19.162833  Eurostat  \n",
      "3 2024-12-14 22:47:19.162833  Eurostat  \n",
      "4 2024-12-14 22:47:19.162833  Eurostat  \n"
     ]
    }
   ],
   "source": [
    "# Display sample of education data\n",
    "print(\"\\nSample of education investment data:\")\n",
    "print(education_data.head())"
   ]
  }
 ],
 "metadata": {
  "jupytext": {
   "cell_metadata_filter": "-all",
   "main_language": "python",
   "notebook_metadata_filter": "-all"
  },
  "kernelspec": {
   "display_name": "Python 3 (ipykernel)",
   "language": "python",
   "name": "python3"
  },
  "language_info": {
   "codemirror_mode": {
    "name": "ipython",
    "version": 3
   },
   "file_extension": ".py",
   "mimetype": "text/x-python",
   "name": "python",
   "nbconvert_exporter": "python",
   "pygments_lexer": "ipython3",
   "version": "3.11.2"
  }
 },
 "nbformat": 4,
 "nbformat_minor": 5
}
