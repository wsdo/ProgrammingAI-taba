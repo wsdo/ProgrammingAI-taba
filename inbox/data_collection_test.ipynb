{
 "cells": [
  {
   "cell_type": "markdown",
   "metadata": {},
   "source": [
    "# 数据收集测试\n",
    "\n",
    "本notebook用于测试从Eurostat获取教育和经济数据的功能。"
   ]
  },
  {
   "cell_type": "code",
   "execution_count": null,
   "metadata": {},
   "source": [
    "import sys\n",
    "import os\n",
    "import pandas as pd\n",
    "from dotenv import load_dotenv\n",
    "\n",
    "# 添加项目根目录到Python路径\n",
    "project_root = os.path.abspath(os.path.join(os.getcwd(), '..'))\n",
    "sys.path.append(project_root)\n",
    "\n",
    "# 导入数据收集器\n",
    "from src.data_collection.eurostat_collector import EurostatCollector\n",
    "\n",
    "# 加载环境变量\n",
    "load_dotenv()"
   ]
  },
  {
   "cell_type": "markdown",
   "metadata": {},
   "source": [
    "## 1. 初始化数据收集器"
   ]
  },
  {
   "cell_type": "code",
   "execution_count": null,
   "metadata": {},
   "source": [
    "collector = EurostatCollector()\n",
    "\n",
    "# 显示可用的数据集\n",
    "print(\"Available datasets:\")\n",
    "for code, description in collector.get_available_datasets().items():\n",
    "    print(f\"- {code}: {description}\")"
   ]
  },
  {
   "cell_type": "markdown",
   "metadata": {},
   "source": [
    "## 2. 收集教育数据"
   ]
  },
  {
   "cell_type": "code",
   "execution_count": null,
   "metadata": {},
   "source": [
    "# 收集教育数据\n",
    "education_data = collector.collect_education_data()\n",
    "\n",
    "print(\"\\nEducation Data Shape:\", education_data.shape)\n",
    "print(\"\\nEducation Data Columns:\", education_data.columns.tolist())\n",
    "print(\"\\nSample of Education Data:\")\n",
    "print(education_data.head())\n",
    "\n",
    "# 基本统计信息\n",
    "print(\"\\nEducation Data Statistics:\")\n",
    "print(education_data.describe())"
   ]
  },
  {
   "cell_type": "markdown",
   "metadata": {},
   "source": [
    "## 3. 收集经济数据"
   ]
  },
  {
   "cell_type": "code",
   "execution_count": null,
   "metadata": {},
   "source": [
    "# 收集经济数据\n",
    "economic_data = collector.collect_economic_data()\n",
    "\n",
    "print(\"\\nEconomic Data Shape:\", economic_data.shape)\n",
    "print(\"\\nEconomic Data Columns:\", economic_data.columns.tolist())\n",
    "print(\"\\nSample of Economic Data:\")\n",
    "print(economic_data.head())\n",
    "\n",
    "# 基本统计信息\n",
    "print(\"\\nEconomic Data Statistics:\")\n",
    "print(economic_data.describe())"
   ]
  },
  {
   "cell_type": "markdown",
   "metadata": {},
   "source": [
    "## 4. 数据质量检查"
   ]
  },
  {
   "cell_type": "code",
   "execution_count": null,
   "metadata": {},
   "source": [
    "def check_data_quality(df, name):\n",
    "    print(f\"\\nChecking {name} data quality:\")\n",
    "    \n",
    "    # 检查缺失值\n",
    "    missing = df.isnull().sum()\n",
    "    print(\"\\nMissing values:\")\n",
    "    print(missing[missing > 0])\n",
    "    \n",
    "    # 检查重复值\n",
    "    duplicates = df.duplicated().sum()\n",
    "    print(f\"\\nNumber of duplicate rows: {duplicates}\")\n",
    "    \n",
    "    # 检查数值范围\n",
    "    numeric_cols = df.select_dtypes(include=['float64', 'int64']).columns\n",
    "    print(\"\\nNumeric columns range:\")\n",
    "    for col in numeric_cols:\n",
    "        print(f\"{col}:\")\n",
    "        print(f\"  Min: {df[col].min()}\")\n",
    "        print(f\"  Max: {df[col].max()}\")\n",
    "\n",
    "# 检查教育数据质量\n",
    "check_data_quality(education_data, \"education\")\n",
    "\n",
    "# 检查经济数据质量\n",
    "check_data_quality(economic_data, \"economic\")"
   ]
  },
  {
   "cell_type": "markdown",
   "metadata": {},
   "source": [
    "## 5. 保存数据\n",
    "\n",
    "将收集到的数据保存到CSV文件中，以便后续分析使用。"
   ]
  },
  {
   "cell_type": "code",
   "execution_count": null,
   "metadata": {},
   "source": [
    "# 创建数据目录\n",
    "data_dir = os.path.join(project_root, 'data', 'raw')\n",
    "os.makedirs(data_dir, exist_ok=True)\n",
    "\n",
    "# 保存教育数据\n",
    "education_file = os.path.join(data_dir, 'education_data.csv')\n",
    "education_data.to_csv(education_file, index=False)\n",
    "print(f\"Education data saved to {education_file}\")\n",
    "\n",
    "# 保存经济数据\n",
    "economic_file = os.path.join(data_dir, 'economic_data.csv')\n",
    "economic_data.to_csv(economic_file, index=False)\n",
    "print(f\"Economic data saved to {economic_file}\")"
   ]
  }
 ],
 "metadata": {
  "kernelspec": {
   "display_name": "Python 3",
   "language": "python",
   "name": "python3"
  },
  "language_info": {
   "codemirror_mode": {
    "name": "ipython",
    "version": 3
   },
   "file_extension": ".py",
   "mimetype": "text/x-python",
   "name": "python",
   "nbconvert_exporter": "python",
   "pygments_lexer": "ipython3",
   "version": "3.8.0"
  }
 },
 "nbformat": 4,
 "nbformat_minor": 4
}
