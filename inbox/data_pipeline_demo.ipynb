{
 "cells": [
  {
   "cell_type": "markdown",
   "metadata": {},
   "source": [
    "# 教育数据采集与存储演示\n",
    "\n",
    "本notebook演示如何:\n",
    "1. 从Eurostat获取教育数据\n",
    "2. 从World Bank获取经济数据\n",
    "3. 收集教育政策文档\n",
    "4. 将数据存储到PostgreSQL和MongoDB"
   ]
  },
  {
   "cell_type": "code",
   "execution_count": null,
   "metadata": {},
   "outputs": [
    {
     "name": "stdout",
     "output_type": "stream",
     "text": [
      "Requirement already satisfied: pandas in /Users/stark/.pyenv/versions/3.11.2/lib/python3.11/site-packages (2.1.3)\n",
      "Requirement already satisfied: numpy in /Users/stark/.pyenv/versions/3.11.2/lib/python3.11/site-packages (1.24.3)\n",
      "Requirement already satisfied: matplotlib in /Users/stark/.pyenv/versions/3.11.2/lib/python3.11/site-packages (3.9.1)\n",
      "Requirement already satisfied: seaborn in /Users/stark/.pyenv/versions/3.11.2/lib/python3.11/site-packages (0.13.2)\n",
      "Requirement already satisfied: plotly in /Users/stark/.pyenv/versions/3.11.2/lib/python3.11/site-packages (5.24.1)\n",
      "Requirement already satisfied: psycopg2-binary in /Users/stark/.pyenv/versions/3.11.2/lib/python3.11/site-packages (2.9.10)\n",
      "Requirement already satisfied: pymongo in /Users/stark/.pyenv/versions/3.11.2/lib/python3.11/site-packages (4.6.0)\n",
      "Requirement already satisfied: python-dotenv in /Users/stark/.pyenv/versions/3.11.2/lib/python3.11/site-packages (1.0.0)\n",
      "Requirement already satisfied: eurostat in /Users/stark/.pyenv/versions/3.11.2/lib/python3.11/site-packages (1.0.4)\n",
      "Requirement already satisfied: statsmodels in /Users/stark/.pyenv/versions/3.11.2/lib/python3.11/site-packages (0.14.4)\n",
      "Requirement already satisfied: python-dateutil>=2.8.2 in /Users/stark/.pyenv/versions/3.11.2/lib/python3.11/site-packages (from pandas) (2.9.0.post0)\n",
      "Requirement already satisfied: pytz>=2020.1 in /Users/stark/.pyenv/versions/3.11.2/lib/python3.11/site-packages (from pandas) (2023.4)\n",
      "Requirement already satisfied: tzdata>=2022.1 in /Users/stark/.pyenv/versions/3.11.2/lib/python3.11/site-packages (from pandas) (2024.1)\n",
      "Requirement already satisfied: contourpy>=1.0.1 in /Users/stark/.pyenv/versions/3.11.2/lib/python3.11/site-packages (from matplotlib) (1.2.1)\n",
      "Requirement already satisfied: cycler>=0.10 in /Users/stark/.pyenv/versions/3.11.2/lib/python3.11/site-packages (from matplotlib) (0.12.1)\n",
      "Requirement already satisfied: fonttools>=4.22.0 in /Users/stark/.pyenv/versions/3.11.2/lib/python3.11/site-packages (from matplotlib) (4.53.0)\n",
      "Requirement already satisfied: kiwisolver>=1.3.1 in /Users/stark/.pyenv/versions/3.11.2/lib/python3.11/site-packages (from matplotlib) (1.4.5)\n",
      "Requirement already satisfied: packaging>=20.0 in /Users/stark/.pyenv/versions/3.11.2/lib/python3.11/site-packages (from matplotlib) (24.0)\n",
      "Requirement already satisfied: pillow>=8 in /Users/stark/.pyenv/versions/3.11.2/lib/python3.11/site-packages (from matplotlib) (9.5.0)\n",
      "Requirement already satisfied: pyparsing>=2.3.1 in /Users/stark/.pyenv/versions/3.11.2/lib/python3.11/site-packages (from matplotlib) (3.1.2)\n",
      "Requirement already satisfied: tenacity>=6.2.0 in /Users/stark/.pyenv/versions/3.11.2/lib/python3.11/site-packages (from plotly) (8.2.3)\n",
      "Requirement already satisfied: dnspython<3.0.0,>=1.16.0 in /Users/stark/.pyenv/versions/3.11.2/lib/python3.11/site-packages (from pymongo) (2.6.1)\n",
      "Requirement already satisfied: requests in /Users/stark/.pyenv/versions/3.11.2/lib/python3.11/site-packages (from eurostat) (2.31.0)\n",
      "Requirement already satisfied: scipy!=1.9.2,>=1.8 in /Users/stark/.pyenv/versions/3.11.2/lib/python3.11/site-packages (from statsmodels) (1.14.0)\n",
      "Requirement already satisfied: patsy>=0.5.6 in /Users/stark/.pyenv/versions/3.11.2/lib/python3.11/site-packages (from statsmodels) (1.0.1)\n",
      "Requirement already satisfied: six>=1.5 in /Users/stark/.pyenv/versions/3.11.2/lib/python3.11/site-packages (from python-dateutil>=2.8.2->pandas) (1.16.0)\n",
      "Requirement already satisfied: charset-normalizer<4,>=2 in /Users/stark/.pyenv/versions/3.11.2/lib/python3.11/site-packages (from requests->eurostat) (3.3.2)\n",
      "Requirement already satisfied: idna<4,>=2.5 in /Users/stark/.pyenv/versions/3.11.2/lib/python3.11/site-packages (from requests->eurostat) (3.6)\n",
      "Requirement already satisfied: urllib3<3,>=1.21.1 in /Users/stark/.pyenv/versions/3.11.2/lib/python3.11/site-packages (from requests->eurostat) (2.0.7)\n",
      "Requirement already satisfied: certifi>=2017.4.17 in /Users/stark/.pyenv/versions/3.11.2/lib/python3.11/site-packages (from requests->eurostat) (2024.2.2)\n",
      "\n",
      "\u001b[1m[\u001b[0m\u001b[34;49mnotice\u001b[0m\u001b[1;39;49m]\u001b[0m\u001b[39;49m A new release of pip is available: \u001b[0m\u001b[31;49m24.2\u001b[0m\u001b[39;49m -> \u001b[0m\u001b[32;49m24.3.1\u001b[0m\n",
      "\u001b[1m[\u001b[0m\u001b[34;49mnotice\u001b[0m\u001b[1;39;49m]\u001b[0m\u001b[39;49m To update, run: \u001b[0m\u001b[32;49mpip install --upgrade pip\u001b[0m\n"
     ]
    }
   ],
   "source": [
    "!pip install pandas numpy matplotlib seaborn plotly psycopg2-binary pymongo python-dotenv eurostat statsmodels"
   ]
  },
  {
   "cell_type": "code",
   "execution_count": 1,
   "metadata": {},
   "outputs": [],
   "source": [
    "import sys\n",
    "import os\n",
    "import pandas as pd\n",
    "from dotenv import load_dotenv\n",
    "\n",
    "# 添加项目根目录到Python路径\n",
    "project_root = os.path.abspath(os.path.join(os.getcwd(), '..'))\n",
    "sys.path.append(project_root)\n",
    "\n",
    "# 导入自定义模块\n",
    "from src.data_collection.eurostat_collector import EurostatCollector\n",
    "from src.data_processing.db_manager import DatabaseManager\n",
    "\n",
    "# 加载环境变量\n",
    "load_dotenv()\n",
    "\n",
    "# 初始化收集器和数据库管理器\n",
    "collector = EurostatCollector()\n",
    "db_manager = DatabaseManager()"
   ]
  },
  {
   "cell_type": "markdown",
   "metadata": {},
   "source": [
    "## 1. 收集教育数据"
   ]
  },
  {
   "cell_type": "code",
   "execution_count": 2,
   "metadata": {},
   "outputs": [
    {
     "name": "stderr",
     "output_type": "stream",
     "text": [
      "2024-12-14 22:47:18,710 - INFO - Getting education investment data...\n",
      "2024-12-14 22:47:19,182 - INFO - Saved data to cache: education_investment.csv\n",
      "2024-12-14 22:47:19,183 - INFO - Successfully got education investment data: 2585 records\n"
     ]
    },
    {
     "name": "stdout",
     "output_type": "stream",
     "text": [
      "收集到的教育数据形状: (2585, 17)\n"
     ]
    },
    {
     "data": {
      "text/html": [
       "<div>\n",
       "<style scoped>\n",
       "    .dataframe tbody tr th:only-of-type {\n",
       "        vertical-align: middle;\n",
       "    }\n",
       "\n",
       "    .dataframe tbody tr th {\n",
       "        vertical-align: top;\n",
       "    }\n",
       "\n",
       "    .dataframe thead th {\n",
       "        text-align: right;\n",
       "    }\n",
       "</style>\n",
       "<table border=\"1\" class=\"dataframe\">\n",
       "  <thead>\n",
       "    <tr style=\"text-align: right;\">\n",
       "      <th></th>\n",
       "      <th>index</th>\n",
       "      <th>freq</th>\n",
       "      <th>unit</th>\n",
       "      <th>isced11</th>\n",
       "      <th>geo\\TIME_PERIOD</th>\n",
       "      <th>2012</th>\n",
       "      <th>2013</th>\n",
       "      <th>2014</th>\n",
       "      <th>2015</th>\n",
       "      <th>2016</th>\n",
       "      <th>2017</th>\n",
       "      <th>2018</th>\n",
       "      <th>2019</th>\n",
       "      <th>2020</th>\n",
       "      <th>2021</th>\n",
       "      <th>collected_at</th>\n",
       "      <th>source</th>\n",
       "    </tr>\n",
       "  </thead>\n",
       "  <tbody>\n",
       "    <tr>\n",
       "      <th>0</th>\n",
       "      <td>0</td>\n",
       "      <td>A</td>\n",
       "      <td>EUR</td>\n",
       "      <td>ED0</td>\n",
       "      <td>AT</td>\n",
       "      <td>6313.5</td>\n",
       "      <td>6579.9</td>\n",
       "      <td>6893.8</td>\n",
       "      <td>6959.6</td>\n",
       "      <td>7267.0</td>\n",
       "      <td>7535.6</td>\n",
       "      <td>7617.3</td>\n",
       "      <td>5442.4</td>\n",
       "      <td>8271.8</td>\n",
       "      <td>8492.8</td>\n",
       "      <td>2024-12-14 22:47:19.162833</td>\n",
       "      <td>Eurostat</td>\n",
       "    </tr>\n",
       "    <tr>\n",
       "      <th>1</th>\n",
       "      <td>1</td>\n",
       "      <td>A</td>\n",
       "      <td>EUR</td>\n",
       "      <td>ED0</td>\n",
       "      <td>BG</td>\n",
       "      <td>1567.2</td>\n",
       "      <td>1840.1</td>\n",
       "      <td>1868.3</td>\n",
       "      <td>1832.4</td>\n",
       "      <td>1994.6</td>\n",
       "      <td>2212.2</td>\n",
       "      <td>2392.6</td>\n",
       "      <td>2628.5</td>\n",
       "      <td>2756.0</td>\n",
       "      <td>3377.5</td>\n",
       "      <td>2024-12-14 22:47:19.162833</td>\n",
       "      <td>Eurostat</td>\n",
       "    </tr>\n",
       "    <tr>\n",
       "      <th>2</th>\n",
       "      <td>2</td>\n",
       "      <td>A</td>\n",
       "      <td>EUR</td>\n",
       "      <td>ED0</td>\n",
       "      <td>CH</td>\n",
       "      <td>6311.8</td>\n",
       "      <td>5884.9</td>\n",
       "      <td>7746.0</td>\n",
       "      <td>14350.9</td>\n",
       "      <td>14296.3</td>\n",
       "      <td>14348.9</td>\n",
       "      <td>14101.3</td>\n",
       "      <td>NaN</td>\n",
       "      <td>16058.9</td>\n",
       "      <td>16328.8</td>\n",
       "      <td>2024-12-14 22:47:19.162833</td>\n",
       "      <td>Eurostat</td>\n",
       "    </tr>\n",
       "    <tr>\n",
       "      <th>3</th>\n",
       "      <td>3</td>\n",
       "      <td>A</td>\n",
       "      <td>EUR</td>\n",
       "      <td>ED0</td>\n",
       "      <td>CY</td>\n",
       "      <td>2993.2</td>\n",
       "      <td>2803.2</td>\n",
       "      <td>NaN</td>\n",
       "      <td>2185.1</td>\n",
       "      <td>2081.6</td>\n",
       "      <td>2056.2</td>\n",
       "      <td>2059.3</td>\n",
       "      <td>2029.9</td>\n",
       "      <td>2093.2</td>\n",
       "      <td>2168.0</td>\n",
       "      <td>2024-12-14 22:47:19.162833</td>\n",
       "      <td>Eurostat</td>\n",
       "    </tr>\n",
       "    <tr>\n",
       "      <th>4</th>\n",
       "      <td>4</td>\n",
       "      <td>A</td>\n",
       "      <td>EUR</td>\n",
       "      <td>ED0</td>\n",
       "      <td>CZ</td>\n",
       "      <td>2397.8</td>\n",
       "      <td>2382.1</td>\n",
       "      <td>2316.1</td>\n",
       "      <td>2358.9</td>\n",
       "      <td>2337.9</td>\n",
       "      <td>2770.7</td>\n",
       "      <td>3170.2</td>\n",
       "      <td>3541.8</td>\n",
       "      <td>3653.7</td>\n",
       "      <td>4191.3</td>\n",
       "      <td>2024-12-14 22:47:19.162833</td>\n",
       "      <td>Eurostat</td>\n",
       "    </tr>\n",
       "  </tbody>\n",
       "</table>\n",
       "</div>"
      ],
      "text/plain": [
       "   index freq unit isced11 geo\\TIME_PERIOD    2012    2013    2014     2015  \\\n",
       "0      0    A  EUR     ED0              AT  6313.5  6579.9  6893.8   6959.6   \n",
       "1      1    A  EUR     ED0              BG  1567.2  1840.1  1868.3   1832.4   \n",
       "2      2    A  EUR     ED0              CH  6311.8  5884.9  7746.0  14350.9   \n",
       "3      3    A  EUR     ED0              CY  2993.2  2803.2     NaN   2185.1   \n",
       "4      4    A  EUR     ED0              CZ  2397.8  2382.1  2316.1   2358.9   \n",
       "\n",
       "      2016     2017     2018    2019     2020     2021  \\\n",
       "0   7267.0   7535.6   7617.3  5442.4   8271.8   8492.8   \n",
       "1   1994.6   2212.2   2392.6  2628.5   2756.0   3377.5   \n",
       "2  14296.3  14348.9  14101.3     NaN  16058.9  16328.8   \n",
       "3   2081.6   2056.2   2059.3  2029.9   2093.2   2168.0   \n",
       "4   2337.9   2770.7   3170.2  3541.8   3653.7   4191.3   \n",
       "\n",
       "                collected_at    source  \n",
       "0 2024-12-14 22:47:19.162833  Eurostat  \n",
       "1 2024-12-14 22:47:19.162833  Eurostat  \n",
       "2 2024-12-14 22:47:19.162833  Eurostat  \n",
       "3 2024-12-14 22:47:19.162833  Eurostat  \n",
       "4 2024-12-14 22:47:19.162833  Eurostat  "
      ]
     },
     "execution_count": 2,
     "metadata": {},
     "output_type": "execute_result"
    }
   ],
   "source": [
    "# 获取教育投资数据\n",
    "education_data = collector.get_education_investment_data()\n",
    "print(\"收集到的教育数据形状:\", education_data.shape)\n",
    "education_data.head()"
   ]
  },
  {
   "cell_type": "markdown",
   "metadata": {},
   "source": [
    "## 2. 收集经济数据"
   ]
  },
  {
   "cell_type": "code",
   "execution_count": 10,
   "metadata": {},
   "outputs": [
    {
     "name": "stderr",
     "output_type": "stream",
     "text": [
      "2024-12-15 15:15:54,244 - INFO - Getting economic indicators data...\n",
      "2024-12-15 15:15:54,259 - INFO - Using cached economic indicators data\n"
     ]
    },
    {
     "name": "stdout",
     "output_type": "stream",
     "text": [
      "Economic data shape: (378, 8)\n"
     ]
    },
    {
     "data": {
      "text/html": [
       "<div>\n",
       "<style scoped>\n",
       "    .dataframe tbody tr th:only-of-type {\n",
       "        vertical-align: middle;\n",
       "    }\n",
       "\n",
       "    .dataframe tbody tr th {\n",
       "        vertical-align: top;\n",
       "    }\n",
       "\n",
       "    .dataframe thead th {\n",
       "        text-align: right;\n",
       "    }\n",
       "</style>\n",
       "<table border=\"1\" class=\"dataframe\">\n",
       "  <thead>\n",
       "    <tr style=\"text-align: right;\">\n",
       "      <th></th>\n",
       "      <th>country_code</th>\n",
       "      <th>year</th>\n",
       "      <th>gdp_growth</th>\n",
       "      <th>employment_rate</th>\n",
       "      <th>gdp_per_capita</th>\n",
       "      <th>industry_value</th>\n",
       "      <th>collected_at</th>\n",
       "      <th>source</th>\n",
       "    </tr>\n",
       "  </thead>\n",
       "  <tbody>\n",
       "    <tr>\n",
       "      <th>0</th>\n",
       "      <td>AUT</td>\n",
       "      <td>2010</td>\n",
       "      <td>1.837094</td>\n",
       "      <td>57.348</td>\n",
       "      <td>46903.761585</td>\n",
       "      <td>25.534994</td>\n",
       "      <td>2024-12-14 22:47:21.958566</td>\n",
       "      <td>World Bank</td>\n",
       "    </tr>\n",
       "    <tr>\n",
       "      <th>1</th>\n",
       "      <td>BEL</td>\n",
       "      <td>2010</td>\n",
       "      <td>2.864293</td>\n",
       "      <td>49.588</td>\n",
       "      <td>44184.946354</td>\n",
       "      <td>20.894580</td>\n",
       "      <td>2024-12-14 22:47:21.958566</td>\n",
       "      <td>World Bank</td>\n",
       "    </tr>\n",
       "    <tr>\n",
       "      <th>2</th>\n",
       "      <td>BGR</td>\n",
       "      <td>2010</td>\n",
       "      <td>1.555360</td>\n",
       "      <td>47.902</td>\n",
       "      <td>6863.667068</td>\n",
       "      <td>23.754177</td>\n",
       "      <td>2024-12-14 22:47:21.958566</td>\n",
       "      <td>World Bank</td>\n",
       "    </tr>\n",
       "    <tr>\n",
       "      <th>3</th>\n",
       "      <td>CYP</td>\n",
       "      <td>2010</td>\n",
       "      <td>2.283545</td>\n",
       "      <td>60.248</td>\n",
       "      <td>31105.027344</td>\n",
       "      <td>14.479115</td>\n",
       "      <td>2024-12-14 22:47:21.958566</td>\n",
       "      <td>World Bank</td>\n",
       "    </tr>\n",
       "    <tr>\n",
       "      <th>4</th>\n",
       "      <td>CZE</td>\n",
       "      <td>2010</td>\n",
       "      <td>2.434902</td>\n",
       "      <td>54.186</td>\n",
       "      <td>19960.068487</td>\n",
       "      <td>33.170752</td>\n",
       "      <td>2024-12-14 22:47:21.958566</td>\n",
       "      <td>World Bank</td>\n",
       "    </tr>\n",
       "  </tbody>\n",
       "</table>\n",
       "</div>"
      ],
      "text/plain": [
       "  country_code  year  gdp_growth  employment_rate  gdp_per_capita  \\\n",
       "0          AUT  2010    1.837094           57.348    46903.761585   \n",
       "1          BEL  2010    2.864293           49.588    44184.946354   \n",
       "2          BGR  2010    1.555360           47.902     6863.667068   \n",
       "3          CYP  2010    2.283545           60.248    31105.027344   \n",
       "4          CZE  2010    2.434902           54.186    19960.068487   \n",
       "\n",
       "   industry_value                collected_at      source  \n",
       "0       25.534994  2024-12-14 22:47:21.958566  World Bank  \n",
       "1       20.894580  2024-12-14 22:47:21.958566  World Bank  \n",
       "2       23.754177  2024-12-14 22:47:21.958566  World Bank  \n",
       "3       14.479115  2024-12-14 22:47:21.958566  World Bank  \n",
       "4       33.170752  2024-12-14 22:47:21.958566  World Bank  "
      ]
     },
     "metadata": {},
     "output_type": "display_data"
    }
   ],
   "source": [
    "# Get economic indicators data\n",
    "try:\n",
    "    economic_data = collector.get_economic_indicators()\n",
    "    if not economic_data.empty:\n",
    "        print(\"Economic data shape:\", economic_data.shape)\n",
    "        display(economic_data.head())\n",
    "    else:\n",
    "        print(\"No economic data was retrieved\")\n",
    "except Exception as e:\n",
    "    print(f\"Error getting economic data: {str(e)}\")"
   ]
  },
  {
   "cell_type": "markdown",
   "metadata": {},
   "source": [
    "## 3. 收集政策文档"
   ]
  },
  {
   "cell_type": "code",
   "execution_count": 11,
   "metadata": {},
   "outputs": [
    {
     "name": "stderr",
     "output_type": "stream",
     "text": [
      "2024-12-15 15:15:58,025 - INFO - Getting education policy documents...\n",
      "2024-12-15 15:15:58,027 - ERROR - Error reading cache file: name 'json' is not defined\n",
      "2024-12-15 15:15:58,343 - ERROR - Error saving to cache: name 'json' is not defined\n",
      "2024-12-15 15:15:58,344 - INFO - Successfully got education policy documents: 1 documents\n"
     ]
    },
    {
     "name": "stdout",
     "output_type": "stream",
     "text": [
      "Collected 1 policy documents\n",
      "\n",
      "Example document:\n",
      "{'title': None, 'content': 'Education levelsEuropean Union Member States organise their education and training systems according to common levels.Discover what the EU is doing to achieve the EEA at each level and type of education.Slide', 'url': None, 'collected_at': '2024-12-15T15:15:58.343350', 'source': 'https://education.ec.europa.eu/education-levels'}\n"
     ]
    }
   ],
   "source": [
    "# Get education policy documents\n",
    "policy_docs = collector.get_education_policies()\n",
    "print(f\"Collected {len(policy_docs)} policy documents\\n\")\n",
    "print(\"Example document:\")\n",
    "print(policy_docs[0] if policy_docs else \"No documents found\")\n"
   ]
  },
  {
   "cell_type": "markdown",
   "metadata": {},
   "source": [
    "## 4. 存储数据"
   ]
  },
  {
   "cell_type": "code",
   "execution_count": 5,
   "metadata": {},
   "outputs": [
    {
     "name": "stderr",
     "output_type": "stream",
     "text": [
      "2024-12-14 22:47:23,733 - INFO - Successfully connected to PostgreSQL\n",
      "2024-12-14 22:47:23,752 - INFO - Successfully connected to MongoDB\n",
      "2024-12-14 22:47:24,555 - INFO - PostgreSQL tables dropped successfully\n",
      "2024-12-14 22:47:25,711 - INFO - PostgreSQL tables created successfully\n",
      "2024-12-14 22:47:29,058 - INFO - Saved batch 1 (1000 rows)\n",
      "2024-12-14 22:47:32,368 - INFO - Saved batch 2 (1000 rows)\n",
      "2024-12-14 22:47:35,653 - INFO - Saved batch 3 (1000 rows)\n",
      "2024-12-14 22:47:39,108 - INFO - Saved batch 4 (1000 rows)\n",
      "2024-12-14 22:47:42,528 - INFO - Saved batch 5 (1000 rows)\n",
      "2024-12-14 22:47:46,013 - INFO - Saved batch 6 (1000 rows)\n",
      "2024-12-14 22:47:51,340 - INFO - Saved batch 7 (1000 rows)\n",
      "2024-12-14 22:47:54,816 - INFO - Saved batch 8 (1000 rows)\n",
      "2024-12-14 22:47:58,248 - INFO - Saved batch 9 (1000 rows)\n",
      "2024-12-14 22:48:01,673 - INFO - Saved batch 10 (1000 rows)\n",
      "2024-12-14 22:48:05,108 - INFO - Saved batch 11 (1000 rows)\n",
      "2024-12-14 22:48:08,594 - INFO - Saved batch 12 (1000 rows)\n",
      "2024-12-14 22:48:12,307 - INFO - Saved batch 13 (1000 rows)\n",
      "2024-12-14 22:48:15,588 - INFO - Saved batch 14 (1000 rows)\n",
      "2024-12-14 22:48:19,283 - INFO - Saved batch 15 (1000 rows)\n",
      "2024-12-14 22:48:22,688 - INFO - Saved batch 16 (1000 rows)\n",
      "2024-12-14 22:48:26,088 - INFO - Saved batch 17 (1000 rows)\n",
      "2024-12-14 22:48:29,589 - INFO - Saved batch 18 (1000 rows)\n",
      "2024-12-14 22:48:33,285 - INFO - Saved batch 19 (1000 rows)\n",
      "2024-12-14 22:48:36,728 - INFO - Saved batch 20 (1000 rows)\n",
      "2024-12-14 22:48:40,089 - INFO - Saved batch 21 (1000 rows)\n",
      "2024-12-14 22:48:43,378 - INFO - Saved batch 22 (1000 rows)\n",
      "2024-12-14 22:48:46,945 - INFO - Saved batch 23 (1000 rows)\n",
      "2024-12-14 22:48:50,243 - INFO - Saved batch 24 (1000 rows)\n",
      "2024-12-14 22:48:53,793 - INFO - Saved batch 25 (1000 rows)\n",
      "2024-12-14 22:48:56,798 - INFO - Saved batch 26 (850 rows)\n",
      "2024-12-14 22:48:56,800 - INFO - Successfully saved 25850 rows to education_data\n",
      "2024-12-14 22:48:58,504 - INFO - Saved batch 1 (378 rows)\n",
      "2024-12-14 22:48:58,506 - INFO - Successfully saved 378 rows to economic_data\n",
      "2024-12-14 22:48:59,543 - INFO - Successfully saved 1 documents to education_policies\n"
     ]
    },
    {
     "name": "stdout",
     "output_type": "stream",
     "text": [
      "Data storage completed!\n"
     ]
    }
   ],
   "source": [
    "# Connect to databases\n",
    "db_manager.connect_postgres()\n",
    "db_manager.connect_mongo()\n",
    "\n",
    "# Reset table structure\n",
    "db_manager.drop_tables()\n",
    "db_manager.setup_postgres_tables()\n",
    "\n",
    "# Save structured data to PostgreSQL\n",
    "db_manager.save_to_postgres(education_data, 'education_data')\n",
    "db_manager.save_to_postgres(economic_data, 'economic_data')\n",
    "\n",
    "# Save unstructured data to MongoDB\n",
    "db_manager.save_to_mongo('education_policies', policy_docs)\n",
    "\n",
    "print(\"Data storage completed!\")"
   ]
  },
  {
   "cell_type": "markdown",
   "metadata": {},
   "source": [
    "## 5. 验证数据"
   ]
  },
  {
   "cell_type": "code",
   "execution_count": 6,
   "metadata": {},
   "outputs": [
    {
     "name": "stderr",
     "output_type": "stream",
     "text": [
      "/Users/stark/item/nci/ProgrammingAI/education_analysis/src/data_processing/db_manager.py:259: UserWarning: pandas only supports SQLAlchemy connectable (engine/connection) or database string URI or sqlite3 DBAPI2 connection. Other DBAPI2 objects are not tested. Please consider using SQLAlchemy.\n",
      "  return pd.read_sql_query(query, self.pg_conn)\n"
     ]
    },
    {
     "name": "stdout",
     "output_type": "stream",
     "text": [
      "教育数据表中的记录数: 6520\n",
      "经济数据表中的记录数: 378\n"
     ]
    },
    {
     "name": "stderr",
     "output_type": "stream",
     "text": [
      "2024-12-14 22:49:00,872 - INFO - PostgreSQL connection closed\n"
     ]
    },
    {
     "name": "stdout",
     "output_type": "stream",
     "text": [
      "政策文档集合中的文档数: 3\n"
     ]
    },
    {
     "name": "stderr",
     "output_type": "stream",
     "text": [
      "2024-12-14 22:49:01,127 - INFO - MongoDB connection closed\n"
     ]
    }
   ],
   "source": [
    "# 验证PostgreSQL数据\n",
    "education_count = db_manager.query_postgres(\"\"\"\n",
    "    SELECT COUNT(*) as count \n",
    "    FROM education_data\n",
    "\"\"\")\n",
    "print(f\"教育数据表中的记录数: {education_count['count'].iloc[0]}\")\n",
    "\n",
    "economic_count = db_manager.query_postgres(\"\"\"\n",
    "    SELECT COUNT(*) as count \n",
    "    FROM economic_data\n",
    "\"\"\")\n",
    "print(f\"经济数据表中的记录数: {economic_count['count'].iloc[0]}\")\n",
    "\n",
    "# 验证MongoDB数据\n",
    "policy_count = len(db_manager.query_mongo('education_policies', {}))\n",
    "print(f\"政策文档集合中的文档数: {policy_count}\")\n",
    "\n",
    "# 关闭数据库连接\n",
    "db_manager.close_connections()"
   ]
  },
  {
   "cell_type": "code",
   "execution_count": 9,
   "metadata": {},
   "outputs": [
    {
     "name": "stdout",
     "output_type": "stream",
     "text": [
      "Database connections closed\n"
     ]
    }
   ],
   "source": [
    "# Clean up connections\n",
    "if db_manager.pg_conn:\n",
    "    db_manager.pg_conn.close()\n",
    "if db_manager.mongo_client:\n",
    "    db_manager.mongo_client.close()\n",
    "\n",
    "print(\"Database connections closed\")"
   ]
  },
  {
   "cell_type": "code",
   "execution_count": null,
   "metadata": {},
   "outputs": [],
   "source": []
  }
 ],
 "metadata": {
  "kernelspec": {
   "display_name": "Python 3 (ipykernel)",
   "language": "python",
   "name": "python3"
  },
  "language_info": {
   "codemirror_mode": {
    "name": "ipython",
    "version": 3
   },
   "file_extension": ".py",
   "mimetype": "text/x-python",
   "name": "python",
   "nbconvert_exporter": "python",
   "pygments_lexer": "ipython3",
   "version": "3.11.2"
  }
 },
 "nbformat": 4,
 "nbformat_minor": 4
}
