{
 "cells": [
  {
   "cell_type": "markdown",
   "metadata": {},
   "source": [
    "# 数据库操作演示\n",
    "\n",
    "本notebook展示如何使用PostgreSQL和MongoDB存储和检索教育数据分析项目中的数据。"
   ]
  },
  {
   "cell_type": "code",
   "execution_count": 1,
   "metadata": {},
   "outputs": [
    {
     "data": {
      "text/plain": [
       "True"
      ]
     },
     "execution_count": 1,
     "metadata": {},
     "output_type": "execute_result"
    }
   ],
   "source": [
    "import sys\n",
    "import os\n",
    "import pandas as pd\n",
    "from dotenv import load_dotenv\n",
    "\n",
    "# 添加项目根目录到Python路径\n",
    "project_root = os.path.abspath(os.path.join(os.getcwd(), '..'))\n",
    "sys.path.append(project_root)\n",
    "\n",
    "# 导入数据库管理器\n",
    "from src.data_processing.db_manager import DatabaseManager\n",
    "\n",
    "# 加载环境变量\n",
    "load_dotenv()"
   ]
  },
  {
   "cell_type": "markdown",
   "metadata": {},
   "source": [
    "## 1. PostgreSQL数据库操作\n",
    "\n",
    "PostgreSQL用于存储结构化的教育和经济数据。"
   ]
  },
  {
   "cell_type": "code",
   "execution_count": 2,
   "metadata": {},
   "outputs": [
    {
     "name": "stderr",
     "output_type": "stream",
     "text": [
      "2024-12-14 22:47:48,193 - INFO - Successfully connected to PostgreSQL\n"
     ]
    },
    {
     "name": "stdout",
     "output_type": "stream",
     "text": [
      "Successfully connected to PostgreSQL\n"
     ]
    }
   ],
   "source": [
    "# 初始化数据库管理器\n",
    "db_manager = DatabaseManager()\n",
    "\n",
    "# 连接PostgreSQL\n",
    "postgres_conn = db_manager.connect_postgres()\n",
    "print(\"Successfully connected to PostgreSQL\")"
   ]
  },
  {
   "cell_type": "code",
   "execution_count": 3,
   "metadata": {},
   "outputs": [
    {
     "ename": "AttributeError",
     "evalue": "'DatabaseManager' object has no attribute 'execute_postgres_query'",
     "output_type": "error",
     "traceback": [
      "\u001b[0;31m---------------------------------------------------------------------------\u001b[0m",
      "\u001b[0;31mAttributeError\u001b[0m                            Traceback (most recent call last)",
      "Cell \u001b[0;32mIn[3], line 24\u001b[0m\n\u001b[1;32m      1\u001b[0m \u001b[38;5;66;03m# 创建表结构\u001b[39;00m\n\u001b[1;32m      2\u001b[0m create_tables_query \u001b[38;5;241m=\u001b[39m \u001b[38;5;124m\"\"\"\u001b[39m\n\u001b[1;32m      3\u001b[0m \u001b[38;5;124m-- 教育投资数据表\u001b[39m\n\u001b[1;32m      4\u001b[0m \u001b[38;5;124mCREATE TABLE IF NOT EXISTS education_investment (\u001b[39m\n\u001b[0;32m   (...)\u001b[0m\n\u001b[1;32m     21\u001b[0m \u001b[38;5;124m);\u001b[39m\n\u001b[1;32m     22\u001b[0m \u001b[38;5;124m\"\"\"\u001b[39m\n\u001b[0;32m---> 24\u001b[0m \u001b[43mdb_manager\u001b[49m\u001b[38;5;241;43m.\u001b[39;49m\u001b[43mexecute_postgres_query\u001b[49m(create_tables_query)\n\u001b[1;32m     25\u001b[0m \u001b[38;5;28mprint\u001b[39m(\u001b[38;5;124m\"\u001b[39m\u001b[38;5;124mTables created successfully\u001b[39m\u001b[38;5;124m\"\u001b[39m)\n",
      "\u001b[0;31mAttributeError\u001b[0m: 'DatabaseManager' object has no attribute 'execute_postgres_query'"
     ]
    }
   ],
   "source": [
    "# 创建表结构\n",
    "create_tables_query = \"\"\"\n",
    "-- 教育投资数据表\n",
    "CREATE TABLE IF NOT EXISTS education_investment (\n",
    "    id SERIAL PRIMARY KEY,\n",
    "    country_code VARCHAR(3),\n",
    "    year INTEGER,\n",
    "    investment_amount DECIMAL,\n",
    "    gdp_percentage DECIMAL,\n",
    "    created_at TIMESTAMP DEFAULT CURRENT_TIMESTAMP\n",
    ");\n",
    "\n",
    "-- 经济指标数据表\n",
    "CREATE TABLE IF NOT EXISTS economic_indicators (\n",
    "    id SERIAL PRIMARY KEY,\n",
    "    country_code VARCHAR(3),\n",
    "    year INTEGER,\n",
    "    gdp_growth DECIMAL,\n",
    "    employment_rate DECIMAL,\n",
    "    created_at TIMESTAMP DEFAULT CURRENT_TIMESTAMP\n",
    ");\n",
    "\"\"\"\n",
    "\n",
    "db_manager.execute_postgres_query(create_tables_query)\n",
    "print(\"Tables created successfully\")"
   ]
  },
  {
   "cell_type": "code",
   "execution_count": null,
   "metadata": {},
   "outputs": [],
   "source": [
    "# 插入示例数据\n",
    "sample_education_data = pd.DataFrame({\n",
    "    'country_code': ['IRL', 'GBR', 'FRA'],\n",
    "    'year': [2020, 2020, 2020],\n",
    "    'investment_amount': [10000, 15000, 12000],\n",
    "    'gdp_percentage': [4.5, 5.0, 4.8]\n",
    "})\n",
    "\n",
    "sample_economic_data = pd.DataFrame({\n",
    "    'country_code': ['IRL', 'GBR', 'FRA'],\n",
    "    'year': [2020, 2020, 2020],\n",
    "    'gdp_growth': [2.5, 1.8, 1.5],\n",
    "    'employment_rate': [75.0, 76.5, 74.8]\n",
    "})\n",
    "\n",
    "# 将数据保存到PostgreSQL\n",
    "db_manager.save_to_postgres(sample_education_data, 'education_investment')\n",
    "db_manager.save_to_postgres(sample_economic_data, 'economic_indicators')\n",
    "print(\"Sample data inserted successfully\")"
   ]
  },
  {
   "cell_type": "code",
   "execution_count": null,
   "metadata": {},
   "outputs": [],
   "source": [
    "# 查询示例\n",
    "query = \"\"\"\n",
    "SELECT e.country_code, e.year, e.investment_amount, e.gdp_percentage,\n",
    "       i.gdp_growth, i.employment_rate\n",
    "FROM education_investment e\n",
    "JOIN economic_indicators i\n",
    "ON e.country_code = i.country_code AND e.year = i.year\n",
    "ORDER BY e.country_code, e.year;\n",
    "\"\"\"\n",
    "\n",
    "results_df = db_manager.query_postgres(query)\n",
    "print(\"\\nQuery Results:\")\n",
    "print(results_df)"
   ]
  },
  {
   "cell_type": "markdown",
   "metadata": {},
   "source": [
    "## 2. MongoDB数据库操作\n",
    "\n",
    "MongoDB用于存储非结构化数据，如详细的国家报告和元数据。"
   ]
  },
  {
   "cell_type": "code",
   "execution_count": null,
   "metadata": {},
   "outputs": [],
   "source": [
    "# 连接MongoDB\n",
    "mongo_client = db_manager.connect_mongo()\n",
    "print(\"Successfully connected to MongoDB\")"
   ]
  },
  {
   "cell_type": "code",
   "execution_count": 4,
   "metadata": {},
   "outputs": [
    {
     "name": "stderr",
     "output_type": "stream",
     "text": [
      "2024-12-14 22:47:48,426 - INFO - Successfully connected to MongoDB\n",
      "2024-12-14 22:47:48,426 - ERROR - Error saving to MongoDB: 'str' object does not support item assignment\n"
     ]
    },
    {
     "ename": "TypeError",
     "evalue": "'str' object does not support item assignment",
     "output_type": "error",
     "traceback": [
      "\u001b[0;31m---------------------------------------------------------------------------\u001b[0m",
      "\u001b[0;31mTypeError\u001b[0m                                 Traceback (most recent call last)",
      "Cell \u001b[0;32mIn[4], line 25\u001b[0m\n\u001b[1;32m      1\u001b[0m \u001b[38;5;66;03m# 插入示例文档\u001b[39;00m\n\u001b[1;32m      2\u001b[0m country_report \u001b[38;5;241m=\u001b[39m {\n\u001b[1;32m      3\u001b[0m     \u001b[38;5;124m'\u001b[39m\u001b[38;5;124mcountry_code\u001b[39m\u001b[38;5;124m'\u001b[39m: \u001b[38;5;124m'\u001b[39m\u001b[38;5;124mIRL\u001b[39m\u001b[38;5;124m'\u001b[39m,\n\u001b[1;32m      4\u001b[0m     \u001b[38;5;124m'\u001b[39m\u001b[38;5;124myear\u001b[39m\u001b[38;5;124m'\u001b[39m: \u001b[38;5;241m2020\u001b[39m,\n\u001b[0;32m   (...)\u001b[0m\n\u001b[1;32m     22\u001b[0m     }\n\u001b[1;32m     23\u001b[0m }\n\u001b[0;32m---> 25\u001b[0m \u001b[43mdb_manager\u001b[49m\u001b[38;5;241;43m.\u001b[39;49m\u001b[43msave_to_mongo\u001b[49m\u001b[43m(\u001b[49m\u001b[38;5;124;43m'\u001b[39;49m\u001b[38;5;124;43mcountry_reports\u001b[39;49m\u001b[38;5;124;43m'\u001b[39;49m\u001b[43m,\u001b[49m\u001b[43m \u001b[49m\u001b[43mcountry_report\u001b[49m\u001b[43m)\u001b[49m\n\u001b[1;32m     26\u001b[0m \u001b[38;5;28mprint\u001b[39m(\u001b[38;5;124m\"\u001b[39m\u001b[38;5;124mDocument inserted successfully\u001b[39m\u001b[38;5;124m\"\u001b[39m)\n",
      "File \u001b[0;32m~/item/nci/ProgrammingAI/education_analysis/src/data_processing/db_manager.py:236\u001b[0m, in \u001b[0;36mDatabaseManager.save_to_mongo\u001b[0;34m(self, collection, documents)\u001b[0m\n\u001b[1;32m    234\u001b[0m \u001b[38;5;28;01mfor\u001b[39;00m doc \u001b[38;5;129;01min\u001b[39;00m documents:\n\u001b[1;32m    235\u001b[0m     \u001b[38;5;28;01mif\u001b[39;00m \u001b[38;5;124m'\u001b[39m\u001b[38;5;124mcreated_at\u001b[39m\u001b[38;5;124m'\u001b[39m \u001b[38;5;129;01mnot\u001b[39;00m \u001b[38;5;129;01min\u001b[39;00m doc:\n\u001b[0;32m--> 236\u001b[0m         \u001b[43mdoc\u001b[49m\u001b[43m[\u001b[49m\u001b[38;5;124;43m'\u001b[39;49m\u001b[38;5;124;43mcreated_at\u001b[39;49m\u001b[38;5;124;43m'\u001b[39;49m\u001b[43m]\u001b[49m \u001b[38;5;241m=\u001b[39m datetime\u001b[38;5;241m.\u001b[39mnow()\n\u001b[1;32m    238\u001b[0m \u001b[38;5;66;03m# Insert documents\u001b[39;00m\n\u001b[1;32m    239\u001b[0m result \u001b[38;5;241m=\u001b[39m coll\u001b[38;5;241m.\u001b[39minsert_many(documents)\n",
      "\u001b[0;31mTypeError\u001b[0m: 'str' object does not support item assignment"
     ]
    }
   ],
   "source": [
    "# 插入示例文档\n",
    "country_report = {\n",
    "    'country_code': 'IRL',\n",
    "    'year': 2020,\n",
    "    'report_type': 'education_analysis',\n",
    "    'content': {\n",
    "        'summary': 'Detailed analysis of Ireland\\'s education system',\n",
    "        'key_findings': [\n",
    "            'Increased investment in STEM education',\n",
    "            'Growing focus on digital skills',\n",
    "            'Enhanced teacher training programs'\n",
    "        ],\n",
    "        'recommendations': [\n",
    "            'Further increase in R&D funding',\n",
    "            'Expand international collaboration'\n",
    "        ],\n",
    "        'metadata': {\n",
    "            'author': 'Education Research Team',\n",
    "            'created_at': '2020-12-01',\n",
    "            'version': '1.0'\n",
    "        }\n",
    "    }\n",
    "}\n",
    "\n",
    "db_manager.save_to_mongo('country_reports', country_report)\n",
    "print(\"Document inserted successfully\")"
   ]
  },
  {
   "cell_type": "code",
   "execution_count": 5,
   "metadata": {},
   "outputs": [
    {
     "name": "stdout",
     "output_type": "stream",
     "text": [
      "\n",
      "MongoDB Query Result:\n"
     ]
    }
   ],
   "source": [
    "# 查询MongoDB文档\n",
    "query = {'country_code': 'IRL', 'year': 2020}\n",
    "result = db_manager.query_mongo('country_reports', query)\n",
    "\n",
    "print(\"\\nMongoDB Query Result:\")\n",
    "for doc in result:\n",
    "    print(f\"Country: {doc['country_code']}\")\n",
    "    print(f\"Year: {doc['year']}\")\n",
    "    print(\"\\nKey Findings:\")\n",
    "    for finding in doc['content']['key_findings']:\n",
    "        print(f\"- {finding}\")\n",
    "    print(\"\\nRecommendations:\")\n",
    "    for rec in doc['content']['recommendations']:\n",
    "        print(f\"- {rec}\")"
   ]
  },
  {
   "cell_type": "markdown",
   "metadata": {},
   "source": [
    "## 3. 数据库设计说明\n",
    "\n",
    "### PostgreSQL设计\n",
    "- **education_investment表**：存储结构化的教育投资数据\n",
    "  - 包含国家代码、年份、投资金额、GDP占比等字段\n",
    "  - 使用适当的数据类型和约束确保数据完整性\n",
    "\n",
    "- **economic_indicators表**：存储经济指标数据\n",
    "  - 包含GDP增长率、就业率等关键经济指标\n",
    "  - 与education_investment表通过country_code和year关联\n",
    "\n",
    "### MongoDB设计\n",
    "- **country_reports集合**：存储非结构化的国家报告\n",
    "  - 包含详细的分析报告、建议和元数据\n",
    "  - 灵活的文档结构，便于存储复杂的层次化数据\n",
    "\n",
    "### 数据库选择理由\n",
    "1. **PostgreSQL**：\n",
    "   - 适合存储结构化数据\n",
    "   - 支持复杂的SQL查询和分析\n",
    "   - 强大的数据完整性保证\n",
    "\n",
    "2. **MongoDB**：\n",
    "   - 适合存储非结构化和半结构化数据\n",
    "   - 灵活的文档模型\n",
    "   - 良好的横向扩展能力"
   ]
  },
  {
   "cell_type": "code",
   "execution_count": null,
   "metadata": {},
   "outputs": [],
   "source": []
  },
  {
   "cell_type": "code",
   "execution_count": null,
   "metadata": {},
   "outputs": [],
   "source": []
  },
  {
   "cell_type": "code",
   "execution_count": null,
   "metadata": {},
   "outputs": [],
   "source": []
  }
 ],
 "metadata": {
  "kernelspec": {
   "display_name": "Python 3 (ipykernel)",
   "language": "python",
   "name": "python3"
  },
  "language_info": {
   "codemirror_mode": {
    "name": "ipython",
    "version": 3
   },
   "file_extension": ".py",
   "mimetype": "text/x-python",
   "name": "python",
   "nbconvert_exporter": "python",
   "pygments_lexer": "ipython3",
   "version": "3.11.2"
  }
 },
 "nbformat": 4,
 "nbformat_minor": 4
}
