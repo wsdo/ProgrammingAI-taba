{
 "cells": [
  {
   "cell_type": "markdown",
   "id": "07b02e31",
   "metadata": {},
   "source": [
    "# Comprehensive Education Investment Analysis\n",
    "\n",
    "This notebook provides a comprehensive analysis of education investment data across EU countries, including:\n",
    "1. Data Collection and Processing\n",
    "2. Basic Statistics and Overview\n",
    "3. Time Series Analysis\n",
    "4. Country Comparisons\n",
    "5. Investment Trend Analysis\n",
    "6. Economic Impact Assessment\n",
    "7. Policy Analysis"
   ]
  },
  {
   "cell_type": "code",
   "execution_count": null,
   "id": "8415e4ce",
   "metadata": {},
   "outputs": [
    {
     "name": "stdout",
     "output_type": "stream",
     "text": [
      "Requirement already satisfied: pandas in /Users/stark/.pyenv/versions/3.11.2/lib/python3.11/site-packages (2.1.3)\n",
      "Requirement already satisfied: numpy in /Users/stark/.pyenv/versions/3.11.2/lib/python3.11/site-packages (1.24.3)\n",
      "Requirement already satisfied: matplotlib in /Users/stark/.pyenv/versions/3.11.2/lib/python3.11/site-packages (3.9.1)\n",
      "Requirement already satisfied: seaborn in /Users/stark/.pyenv/versions/3.11.2/lib/python3.11/site-packages (0.13.2)\n",
      "Requirement already satisfied: plotly in /Users/stark/.pyenv/versions/3.11.2/lib/python3.11/site-packages (5.24.1)\n",
      "Requirement already satisfied: psycopg2-binary in /Users/stark/.pyenv/versions/3.11.2/lib/python3.11/site-packages (2.9.10)\n",
      "Requirement already satisfied: pymongo in /Users/stark/.pyenv/versions/3.11.2/lib/python3.11/site-packages (4.6.0)\n",
      "Requirement already satisfied: python-dotenv in /Users/stark/.pyenv/versions/3.11.2/lib/python3.11/site-packages (1.0.0)\n",
      "Requirement already satisfied: eurostat in /Users/stark/.pyenv/versions/3.11.2/lib/python3.11/site-packages (1.0.4)\n",
      "Requirement already satisfied: statsmodels in /Users/stark/.pyenv/versions/3.11.2/lib/python3.11/site-packages (0.14.4)\n",
      "Requirement already satisfied: python-dateutil>=2.8.2 in /Users/stark/.pyenv/versions/3.11.2/lib/python3.11/site-packages (from pandas) (2.9.0.post0)\n",
      "Requirement already satisfied: pytz>=2020.1 in /Users/stark/.pyenv/versions/3.11.2/lib/python3.11/site-packages (from pandas) (2023.4)\n",
      "Requirement already satisfied: tzdata>=2022.1 in /Users/stark/.pyenv/versions/3.11.2/lib/python3.11/site-packages (from pandas) (2024.1)\n",
      "Requirement already satisfied: contourpy>=1.0.1 in /Users/stark/.pyenv/versions/3.11.2/lib/python3.11/site-packages (from matplotlib) (1.2.1)\n",
      "Requirement already satisfied: cycler>=0.10 in /Users/stark/.pyenv/versions/3.11.2/lib/python3.11/site-packages (from matplotlib) (0.12.1)\n",
      "Requirement already satisfied: fonttools>=4.22.0 in /Users/stark/.pyenv/versions/3.11.2/lib/python3.11/site-packages (from matplotlib) (4.53.0)\n",
      "Requirement already satisfied: kiwisolver>=1.3.1 in /Users/stark/.pyenv/versions/3.11.2/lib/python3.11/site-packages (from matplotlib) (1.4.5)\n",
      "Requirement already satisfied: packaging>=20.0 in /Users/stark/.pyenv/versions/3.11.2/lib/python3.11/site-packages (from matplotlib) (24.0)\n",
      "Requirement already satisfied: pillow>=8 in /Users/stark/.pyenv/versions/3.11.2/lib/python3.11/site-packages (from matplotlib) (9.5.0)\n",
      "Requirement already satisfied: pyparsing>=2.3.1 in /Users/stark/.pyenv/versions/3.11.2/lib/python3.11/site-packages (from matplotlib) (3.1.2)\n",
      "Requirement already satisfied: tenacity>=6.2.0 in /Users/stark/.pyenv/versions/3.11.2/lib/python3.11/site-packages (from plotly) (8.2.3)\n",
      "Requirement already satisfied: dnspython<3.0.0,>=1.16.0 in /Users/stark/.pyenv/versions/3.11.2/lib/python3.11/site-packages (from pymongo) (2.6.1)\n",
      "Requirement already satisfied: requests in /Users/stark/.pyenv/versions/3.11.2/lib/python3.11/site-packages (from eurostat) (2.31.0)\n",
      "Requirement already satisfied: scipy!=1.9.2,>=1.8 in /Users/stark/.pyenv/versions/3.11.2/lib/python3.11/site-packages (from statsmodels) (1.14.0)\n",
      "Requirement already satisfied: patsy>=0.5.6 in /Users/stark/.pyenv/versions/3.11.2/lib/python3.11/site-packages (from statsmodels) (1.0.1)\n",
      "Requirement already satisfied: six>=1.5 in /Users/stark/.pyenv/versions/3.11.2/lib/python3.11/site-packages (from python-dateutil>=2.8.2->pandas) (1.16.0)\n",
      "Requirement already satisfied: charset-normalizer<4,>=2 in /Users/stark/.pyenv/versions/3.11.2/lib/python3.11/site-packages (from requests->eurostat) (3.3.2)\n",
      "Requirement already satisfied: idna<4,>=2.5 in /Users/stark/.pyenv/versions/3.11.2/lib/python3.11/site-packages (from requests->eurostat) (3.6)\n",
      "Requirement already satisfied: urllib3<3,>=1.21.1 in /Users/stark/.pyenv/versions/3.11.2/lib/python3.11/site-packages (from requests->eurostat) (2.0.7)\n",
      "Requirement already satisfied: certifi>=2017.4.17 in /Users/stark/.pyenv/versions/3.11.2/lib/python3.11/site-packages (from requests->eurostat) (2024.2.2)\n",
      "\n",
      "\u001b[1m[\u001b[0m\u001b[34;49mnotice\u001b[0m\u001b[1;39;49m]\u001b[0m\u001b[39;49m A new release of pip is available: \u001b[0m\u001b[31;49m24.2\u001b[0m\u001b[39;49m -> \u001b[0m\u001b[32;49m24.3.1\u001b[0m\n",
      "\u001b[1m[\u001b[0m\u001b[34;49mnotice\u001b[0m\u001b[1;39;49m]\u001b[0m\u001b[39;49m To update, run: \u001b[0m\u001b[32;49mpip install --upgrade pip\u001b[0m\n"
     ]
    }
   ],
   "source": [
    "!pip install pandas numpy matplotlib seaborn plotly psycopg2-binary pymongo python-dotenv eurostat statsmodels"
   ]
  },
  {
   "cell_type": "code",
   "execution_count": 8,
   "id": "c3a232fb",
   "metadata": {},
   "outputs": [],
   "source": [
    "# Import required libraries\n",
    "import sys\n",
    "import os\n",
    "from pathlib import Path\n",
    "import pandas as pd\n",
    "import numpy as np\n",
    "import matplotlib.pyplot as plt\n",
    "import seaborn as sns\n",
    "from dotenv import load_dotenv\n",
    "import matplotlib\n",
    "\n",
    "# Add project root to Python path\n",
    "project_root = Path('..').resolve()\n",
    "sys.path.append(str(project_root))\n",
    "\n",
    "# Import project modules\n",
    "from src.data_processing.db_manager import DatabaseManager\n",
    "from src.data_processing.data_cleaner import DataCleaner\n",
    "\n",
    "# Set plotting style\n",
    "plt.style.use('seaborn-v0_8')  # Use the v0.8 compatible style\n",
    "sns.set_theme()  # Use seaborn's default theme\n",
    "plt.rcParams['figure.figsize'] = [12, 6]\n",
    "plt.rcParams['font.size'] = 12\n",
    "plt.rcParams['font.sans-serif'] = ['Arial Unicode MS']\n",
    "plt.rcParams['axes.unicode_minus'] = False"
   ]
  },
  {
   "cell_type": "markdown",
   "id": "d8243d00",
   "metadata": {},
   "source": [
    "## 1. Data Collection and Processing"
   ]
  },
  {
   "cell_type": "code",
   "execution_count": 9,
   "id": "f8eccaec",
   "metadata": {},
   "outputs": [
    {
     "name": "stderr",
     "output_type": "stream",
     "text": [
      "2024-12-15 23:55:34,995 - ERROR - Error connecting to PostgreSQL: Missing required environment variables: POSTGRES_HOST, POSTGRES_DB, POSTGRES_USER, POSTGRES_PASSWORD\n",
      "2024-12-15 23:55:34,996 - ERROR - Error querying PostgreSQL: Missing required environment variables: POSTGRES_HOST, POSTGRES_DB, POSTGRES_USER, POSTGRES_PASSWORD\n"
     ]
    },
    {
     "ename": "ValueError",
     "evalue": "Missing required environment variables: POSTGRES_HOST, POSTGRES_DB, POSTGRES_USER, POSTGRES_PASSWORD",
     "output_type": "error",
     "traceback": [
      "\u001b[0;31m---------------------------------------------------------------------------\u001b[0m",
      "\u001b[0;31mValueError\u001b[0m                                Traceback (most recent call last)",
      "Cell \u001b[0;32mIn[9], line 6\u001b[0m\n\u001b[1;32m      3\u001b[0m cleaner \u001b[38;5;241m=\u001b[39m DataCleaner()\n\u001b[1;32m      5\u001b[0m \u001b[38;5;66;03m# Get education investment data from PostgreSQL\u001b[39;00m\n\u001b[0;32m----> 6\u001b[0m education_data \u001b[38;5;241m=\u001b[39m \u001b[43mdb_manager\u001b[49m\u001b[38;5;241;43m.\u001b[39;49m\u001b[43mquery_postgres\u001b[49m\u001b[43m(\u001b[49m\u001b[38;5;124;43m\"\"\"\u001b[39;49m\n\u001b[1;32m      7\u001b[0m \u001b[38;5;124;43m    SELECT *\u001b[39;49m\n\u001b[1;32m      8\u001b[0m \u001b[38;5;124;43m    FROM education_data\u001b[39;49m\n\u001b[1;32m      9\u001b[0m \u001b[38;5;124;43m    ORDER BY year, geo_time_period\u001b[39;49m\n\u001b[1;32m     10\u001b[0m \u001b[38;5;124;43m\"\"\"\u001b[39;49m\u001b[43m)\u001b[49m\n\u001b[1;32m     12\u001b[0m \u001b[38;5;66;03m# Get economic indicators from PostgreSQL\u001b[39;00m\n\u001b[1;32m     13\u001b[0m economic_data \u001b[38;5;241m=\u001b[39m db_manager\u001b[38;5;241m.\u001b[39mquery_postgres(\u001b[38;5;124m\"\"\"\u001b[39m\n\u001b[1;32m     14\u001b[0m \u001b[38;5;124m    SELECT *\u001b[39m\n\u001b[1;32m     15\u001b[0m \u001b[38;5;124m    FROM economic_data\u001b[39m\n\u001b[1;32m     16\u001b[0m \u001b[38;5;124m    ORDER BY year, country_code\u001b[39m\n\u001b[1;32m     17\u001b[0m \u001b[38;5;124m\"\"\"\u001b[39m)\n",
      "File \u001b[0;32m~/item/nci/ProgrammingAI/education_analysis/src/data_processing/db_manager.py:193\u001b[0m, in \u001b[0;36mDatabaseManager.query_postgres\u001b[0;34m(self, query)\u001b[0m\n\u001b[1;32m    191\u001b[0m \u001b[38;5;28;01mtry\u001b[39;00m:\n\u001b[1;32m    192\u001b[0m     \u001b[38;5;28;01mif\u001b[39;00m \u001b[38;5;129;01mnot\u001b[39;00m \u001b[38;5;28mself\u001b[39m\u001b[38;5;241m.\u001b[39mpg_conn \u001b[38;5;129;01mand\u001b[39;00m \u001b[38;5;129;01mnot\u001b[39;00m \u001b[38;5;28mself\u001b[39m\u001b[38;5;241m.\u001b[39msqlite_conn:\n\u001b[0;32m--> 193\u001b[0m         \u001b[38;5;28;43mself\u001b[39;49m\u001b[38;5;241;43m.\u001b[39;49m\u001b[43mconnect_postgres\u001b[49m\u001b[43m(\u001b[49m\u001b[43m)\u001b[49m\n\u001b[1;32m    195\u001b[0m     \u001b[38;5;28;01mif\u001b[39;00m \u001b[38;5;28mself\u001b[39m\u001b[38;5;241m.\u001b[39muse_sqlite:\n\u001b[1;32m    196\u001b[0m         \u001b[38;5;28;01mreturn\u001b[39;00m pd\u001b[38;5;241m.\u001b[39mread_sql_query(query, \u001b[38;5;28mself\u001b[39m\u001b[38;5;241m.\u001b[39msqlite_engine)\n",
      "File \u001b[0;32m~/item/nci/ProgrammingAI/education_analysis/src/data_processing/db_manager.py:69\u001b[0m, in \u001b[0;36mDatabaseManager.connect_postgres\u001b[0;34m(self)\u001b[0m\n\u001b[1;32m     62\u001b[0m \u001b[38;5;28;01mif\u001b[39;00m \u001b[38;5;129;01mnot\u001b[39;00m \u001b[38;5;28mall\u001b[39m([\u001b[38;5;28mself\u001b[39m\u001b[38;5;241m.\u001b[39mpg_host, \u001b[38;5;28mself\u001b[39m\u001b[38;5;241m.\u001b[39mpg_db, \u001b[38;5;28mself\u001b[39m\u001b[38;5;241m.\u001b[39mpg_user, \u001b[38;5;28mself\u001b[39m\u001b[38;5;241m.\u001b[39mpg_password]):\n\u001b[1;32m     63\u001b[0m     missing_vars \u001b[38;5;241m=\u001b[39m [var \u001b[38;5;28;01mfor\u001b[39;00m var, val \u001b[38;5;129;01min\u001b[39;00m {\n\u001b[1;32m     64\u001b[0m         \u001b[38;5;124m'\u001b[39m\u001b[38;5;124mPOSTGRES_HOST\u001b[39m\u001b[38;5;124m'\u001b[39m: \u001b[38;5;28mself\u001b[39m\u001b[38;5;241m.\u001b[39mpg_host,\n\u001b[1;32m     65\u001b[0m         \u001b[38;5;124m'\u001b[39m\u001b[38;5;124mPOSTGRES_DB\u001b[39m\u001b[38;5;124m'\u001b[39m: \u001b[38;5;28mself\u001b[39m\u001b[38;5;241m.\u001b[39mpg_db,\n\u001b[1;32m     66\u001b[0m         \u001b[38;5;124m'\u001b[39m\u001b[38;5;124mPOSTGRES_USER\u001b[39m\u001b[38;5;124m'\u001b[39m: \u001b[38;5;28mself\u001b[39m\u001b[38;5;241m.\u001b[39mpg_user,\n\u001b[1;32m     67\u001b[0m         \u001b[38;5;124m'\u001b[39m\u001b[38;5;124mPOSTGRES_PASSWORD\u001b[39m\u001b[38;5;124m'\u001b[39m: \u001b[38;5;28mself\u001b[39m\u001b[38;5;241m.\u001b[39mpg_password\n\u001b[1;32m     68\u001b[0m     }\u001b[38;5;241m.\u001b[39mitems() \u001b[38;5;28;01mif\u001b[39;00m \u001b[38;5;129;01mnot\u001b[39;00m val]\n\u001b[0;32m---> 69\u001b[0m     \u001b[38;5;28;01mraise\u001b[39;00m \u001b[38;5;167;01mValueError\u001b[39;00m(\u001b[38;5;124mf\u001b[39m\u001b[38;5;124m\"\u001b[39m\u001b[38;5;124mMissing required environment variables: \u001b[39m\u001b[38;5;132;01m{\u001b[39;00m\u001b[38;5;124m'\u001b[39m\u001b[38;5;124m, \u001b[39m\u001b[38;5;124m'\u001b[39m\u001b[38;5;241m.\u001b[39mjoin(missing_vars)\u001b[38;5;132;01m}\u001b[39;00m\u001b[38;5;124m\"\u001b[39m)\n\u001b[1;32m     71\u001b[0m \u001b[38;5;28;01mif\u001b[39;00m \u001b[38;5;129;01mnot\u001b[39;00m \u001b[38;5;28mself\u001b[39m\u001b[38;5;241m.\u001b[39mpg_conn:\n\u001b[1;32m     72\u001b[0m     \u001b[38;5;28mself\u001b[39m\u001b[38;5;241m.\u001b[39mpg_engine \u001b[38;5;241m=\u001b[39m create_engine(\n\u001b[1;32m     73\u001b[0m         \u001b[38;5;124mf\u001b[39m\u001b[38;5;124m\"\u001b[39m\u001b[38;5;124mpostgresql://\u001b[39m\u001b[38;5;132;01m{\u001b[39;00m\u001b[38;5;28mself\u001b[39m\u001b[38;5;241m.\u001b[39mpg_user\u001b[38;5;132;01m}\u001b[39;00m\u001b[38;5;124m:\u001b[39m\u001b[38;5;132;01m{\u001b[39;00m\u001b[38;5;28mself\u001b[39m\u001b[38;5;241m.\u001b[39mpg_password\u001b[38;5;132;01m}\u001b[39;00m\u001b[38;5;124m@\u001b[39m\u001b[38;5;124m\"\u001b[39m\n\u001b[1;32m     74\u001b[0m         \u001b[38;5;124mf\u001b[39m\u001b[38;5;124m\"\u001b[39m\u001b[38;5;132;01m{\u001b[39;00m\u001b[38;5;28mself\u001b[39m\u001b[38;5;241m.\u001b[39mpg_host\u001b[38;5;132;01m}\u001b[39;00m\u001b[38;5;124m:\u001b[39m\u001b[38;5;132;01m{\u001b[39;00m\u001b[38;5;28mself\u001b[39m\u001b[38;5;241m.\u001b[39mpg_port\u001b[38;5;132;01m}\u001b[39;00m\u001b[38;5;124m/\u001b[39m\u001b[38;5;132;01m{\u001b[39;00m\u001b[38;5;28mself\u001b[39m\u001b[38;5;241m.\u001b[39mpg_db\u001b[38;5;132;01m}\u001b[39;00m\u001b[38;5;124m\"\u001b[39m\n\u001b[1;32m     75\u001b[0m     )\n",
      "\u001b[0;31mValueError\u001b[0m: Missing required environment variables: POSTGRES_HOST, POSTGRES_DB, POSTGRES_USER, POSTGRES_PASSWORD"
     ]
    }
   ],
   "source": [
    "# Initialize database connections and utilities\n",
    "db_manager = DatabaseManager()\n",
    "cleaner = DataCleaner()\n",
    "\n",
    "# Get education investment data from PostgreSQL\n",
    "education_data = db_manager.query_postgres(\"\"\"\n",
    "    SELECT *\n",
    "    FROM education_data\n",
    "    ORDER BY year, geo_time_period\n",
    "\"\"\")\n",
    "\n",
    "# Get economic indicators from PostgreSQL\n",
    "economic_data = db_manager.query_postgres(\"\"\"\n",
    "    SELECT *\n",
    "    FROM economic_data\n",
    "    ORDER BY year, country_code\n",
    "\"\"\")\n",
    "\n",
    "# Get education policies from MongoDB\n",
    "policy_data = db_manager.mongo_client['education']['education_policies'].find()\n",
    "policy_docs = list(policy_data)\n",
    "\n",
    "print(f\"Retrieved {len(education_data)} education investment records\")\n",
    "print(f\"Retrieved {len(economic_data)} economic indicator records\")\n",
    "print(f\"Retrieved {len(policy_docs)} education policy documents\")\n",
    "\n",
    "# Display sample of education data\n",
    "print(\"\\nSample of education investment data:\")\n",
    "display(education_data.head())"
   ]
  },
  {
   "cell_type": "markdown",
   "id": "9756e081",
   "metadata": {},
   "source": [
    "## 2. Data Cleaning and Preparation"
   ]
  },
  {
   "cell_type": "code",
   "execution_count": 10,
   "id": "4eb6ad78",
   "metadata": {},
   "outputs": [
    {
     "ename": "NameError",
     "evalue": "name 'education_data' is not defined",
     "output_type": "error",
     "traceback": [
      "\u001b[0;31m---------------------------------------------------------------------------\u001b[0m",
      "\u001b[0;31mNameError\u001b[0m                                 Traceback (most recent call last)",
      "Cell \u001b[0;32mIn[10], line 2\u001b[0m\n\u001b[1;32m      1\u001b[0m \u001b[38;5;66;03m# Clean education investment data\u001b[39;00m\n\u001b[0;32m----> 2\u001b[0m education_data_cleaned \u001b[38;5;241m=\u001b[39m cleaner\u001b[38;5;241m.\u001b[39mclean_education_data(\u001b[43meducation_data\u001b[49m)\n\u001b[1;32m      4\u001b[0m \u001b[38;5;28mprint\u001b[39m(\u001b[38;5;124m\"\u001b[39m\u001b[38;5;124mData cleaning results:\u001b[39m\u001b[38;5;124m\"\u001b[39m)\n\u001b[1;32m      5\u001b[0m \u001b[38;5;28mprint\u001b[39m(\u001b[38;5;124m\"\u001b[39m\u001b[38;5;124mRaw data shape:\u001b[39m\u001b[38;5;124m\"\u001b[39m, education_data\u001b[38;5;241m.\u001b[39mshape)\n",
      "\u001b[0;31mNameError\u001b[0m: name 'education_data' is not defined"
     ]
    }
   ],
   "source": [
    "# Clean education investment data\n",
    "education_data_cleaned = cleaner.clean_education_data(education_data)\n",
    "\n",
    "print(\"Data cleaning results:\")\n",
    "print(\"Raw data shape:\", education_data.shape)\n",
    "print(\"Cleaned data shape:\", education_data_cleaned.shape)\n",
    "\n",
    "# Display available countries\n",
    "print(\"\\nAvailable country codes:\")\n",
    "print(sorted(education_data_cleaned['geo_time_period'].unique()))"
   ]
  },
  {
   "cell_type": "markdown",
   "id": "7d650fa5",
   "metadata": {},
   "source": [
    "## 3. Investment Trend Analysis"
   ]
  },
  {
   "cell_type": "code",
   "execution_count": 11,
   "id": "440de0c8",
   "metadata": {},
   "outputs": [
    {
     "ename": "NameError",
     "evalue": "name 'education_data_cleaned' is not defined",
     "output_type": "error",
     "traceback": [
      "\u001b[0;31m---------------------------------------------------------------------------\u001b[0m",
      "\u001b[0;31mNameError\u001b[0m                                 Traceback (most recent call last)",
      "Cell \u001b[0;32mIn[11], line 3\u001b[0m\n\u001b[1;32m      1\u001b[0m \u001b[38;5;66;03m# Select major EU countries for analysis\u001b[39;00m\n\u001b[1;32m      2\u001b[0m major_countries \u001b[38;5;241m=\u001b[39m [\u001b[38;5;124m'\u001b[39m\u001b[38;5;124mDE\u001b[39m\u001b[38;5;124m'\u001b[39m, \u001b[38;5;124m'\u001b[39m\u001b[38;5;124mFR\u001b[39m\u001b[38;5;124m'\u001b[39m, \u001b[38;5;124m'\u001b[39m\u001b[38;5;124mIT\u001b[39m\u001b[38;5;124m'\u001b[39m, \u001b[38;5;124m'\u001b[39m\u001b[38;5;124mES\u001b[39m\u001b[38;5;124m'\u001b[39m, \u001b[38;5;124m'\u001b[39m\u001b[38;5;124mPL\u001b[39m\u001b[38;5;124m'\u001b[39m]\n\u001b[0;32m----> 3\u001b[0m major_country_data \u001b[38;5;241m=\u001b[39m \u001b[43meducation_data_cleaned\u001b[49m[\n\u001b[1;32m      4\u001b[0m     education_data_cleaned[\u001b[38;5;124m'\u001b[39m\u001b[38;5;124mgeo_time_period\u001b[39m\u001b[38;5;124m'\u001b[39m]\u001b[38;5;241m.\u001b[39misin(major_countries)\n\u001b[1;32m      5\u001b[0m ]\n\u001b[1;32m      7\u001b[0m \u001b[38;5;66;03m# Country name mapping\u001b[39;00m\n\u001b[1;32m      8\u001b[0m country_names \u001b[38;5;241m=\u001b[39m {\n\u001b[1;32m      9\u001b[0m     \u001b[38;5;124m'\u001b[39m\u001b[38;5;124mDE\u001b[39m\u001b[38;5;124m'\u001b[39m: \u001b[38;5;124m'\u001b[39m\u001b[38;5;124mGermany\u001b[39m\u001b[38;5;124m'\u001b[39m,\n\u001b[1;32m     10\u001b[0m     \u001b[38;5;124m'\u001b[39m\u001b[38;5;124mFR\u001b[39m\u001b[38;5;124m'\u001b[39m: \u001b[38;5;124m'\u001b[39m\u001b[38;5;124mFrance\u001b[39m\u001b[38;5;124m'\u001b[39m,\n\u001b[0;32m   (...)\u001b[0m\n\u001b[1;32m     13\u001b[0m     \u001b[38;5;124m'\u001b[39m\u001b[38;5;124mPL\u001b[39m\u001b[38;5;124m'\u001b[39m: \u001b[38;5;124m'\u001b[39m\u001b[38;5;124mPoland\u001b[39m\u001b[38;5;124m'\u001b[39m\n\u001b[1;32m     14\u001b[0m }\n",
      "\u001b[0;31mNameError\u001b[0m: name 'education_data_cleaned' is not defined"
     ]
    }
   ],
   "source": [
    "# Select major EU countries for analysis\n",
    "major_countries = ['DE', 'FR', 'IT', 'ES', 'PL']\n",
    "major_country_data = education_data_cleaned[\n",
    "    education_data_cleaned['geo_time_period'].isin(major_countries)\n",
    "]\n",
    "\n",
    "# Country name mapping\n",
    "country_names = {\n",
    "    'DE': 'Germany',\n",
    "    'FR': 'France',\n",
    "    'IT': 'Italy',\n",
    "    'ES': 'Spain',\n",
    "    'PL': 'Poland'\n",
    "}\n",
    "\n",
    "# Create investment trends visualization\n",
    "if not major_country_data.empty:\n",
    "    plt.figure(figsize=(15, 8))\n",
    "    colors = {'DE': 'blue', 'FR': 'red', 'IT': 'green', 'ES': 'orange', 'PL': 'purple'}\n",
    "    \n",
    "    for country in major_countries:\n",
    "        country_data = major_country_data[major_country_data['geo_time_period'] == country]\n",
    "        if not country_data.empty:\n",
    "            country_data = country_data.sort_values('year')\n",
    "            plt.plot(country_data['year'], \n",
    "                    country_data['value'], \n",
    "                    label=country_names[country],\n",
    "                    color=colors[country],\n",
    "                    marker='o')\n",
    "    \n",
    "    plt.title('Education Investment Trends in Major EU Countries')\n",
    "    plt.xlabel('Year')\n",
    "    plt.ylabel('Investment Value (PPS)')\n",
    "    plt.legend()\n",
    "    plt.grid(True, linestyle='--', alpha=0.7)\n",
    "    plt.gca().spines['top'].set_visible(False)\n",
    "    plt.gca().spines['right'].set_visible(False)\n",
    "    plt.tight_layout()\n",
    "    plt.show()"
   ]
  },
  {
   "cell_type": "markdown",
   "id": "7bbe6683",
   "metadata": {},
   "source": [
    "## 4. Growth Rate Analysis"
   ]
  },
  {
   "cell_type": "code",
   "execution_count": null,
   "id": "dc691897",
   "metadata": {},
   "outputs": [],
   "source": [
    "# Calculate Compound Annual Growth Rate (CAGR)\n",
    "print(\"Compound Annual Growth Rate (CAGR) by Country:\")\n",
    "print(\"-\" * 40)\n",
    "\n",
    "for country in major_countries:\n",
    "    country_data = major_country_data[major_country_data['geo_time_period'] == country]\n",
    "    if len(country_data) >= 2:\n",
    "        country_data = country_data.sort_values('year')\n",
    "        start_value = country_data.iloc[0]['value']\n",
    "        end_value = country_data.iloc[-1]['value']\n",
    "        years = country_data.iloc[-1]['year'] - country_data.iloc[0]['year']\n",
    "        \n",
    "        if years > 0 and start_value > 0:\n",
    "            cagr = (end_value/start_value)**(1/years) - 1\n",
    "            start_year = country_data.iloc[0]['year']\n",
    "            end_year = country_data.iloc[-1]['year']\n",
    "            print(f\"{country_names[country]} ({country}): {cagr*100:.2f}% ({start_year}-{end_year})\")\n",
    "    else:\n",
    "        print(f\"{country_names[country]} ({country}): Insufficient data points\")"
   ]
  },
  {
   "cell_type": "markdown",
   "id": "2af7fa07",
   "metadata": {},
   "source": [
    "## 5. Statistical Analysis"
   ]
  },
  {
   "cell_type": "code",
   "execution_count": null,
   "id": "6b2efc4b",
   "metadata": {},
   "outputs": [],
   "source": [
    "# Generate statistical summary by country\n",
    "print(\"Statistical Summary by Country:\")\n",
    "print(\"-\" * 40)\n",
    "summary_stats = major_country_data.groupby('geo_time_period').agg({\n",
    "    'value': ['count', 'mean', 'std', 'min', 'max']\n",
    "}).round(2)\n",
    "print(summary_stats)\n",
    "\n",
    "# Calculate yearly averages\n",
    "yearly_avg = education_data_cleaned.groupby('year')['value'].mean().reset_index()\n",
    "\n",
    "# Plot yearly average investment trend\n",
    "plt.figure(figsize=(12, 6))\n",
    "plt.plot(yearly_avg['year'], yearly_avg['value'], marker='o')\n",
    "plt.title('Average Education Investment Trend Across All Countries')\n",
    "plt.xlabel('Year')\n",
    "plt.ylabel('Average Investment Value (PPS)')\n",
    "plt.grid(True, linestyle='--', alpha=0.7)\n",
    "plt.gca().spines['top'].set_visible(False)\n",
    "plt.gca().spines['right'].set_visible(False)\n",
    "plt.tight_layout()\n",
    "plt.show()"
   ]
  },
  {
   "cell_type": "markdown",
   "id": "86c3f65e",
   "metadata": {},
   "source": [
    "## 6. Economic Impact Analysis"
   ]
  },
  {
   "cell_type": "code",
   "execution_count": null,
   "id": "7f9b8eeb",
   "metadata": {},
   "outputs": [],
   "source": [
    "# Merge education and economic data\n",
    "merged_data = pd.merge(\n",
    "    education_data_cleaned,\n",
    "    economic_data,\n",
    "    left_on=['geo_time_period', 'year'],\n",
    "    right_on=['country_code', 'year'],\n",
    "    how='inner'\n",
    ")\n",
    "\n",
    "# Calculate correlation between education investment and economic indicators\n",
    "correlations = merged_data.groupby('geo_time_period').apply(\n",
    "    lambda x: x['value'].corr(x['gdp_growth'])\n",
    ").round(3)\n",
    "\n",
    "print(\"Correlation between Education Investment and GDP Growth by Country:\")\n",
    "print(\"-\" * 60)\n",
    "for country in correlations.index:\n",
    "    if country in country_names:\n",
    "        print(f\"{country_names[country]} ({country}): {correlations[country]}\")\n",
    "\n",
    "# Visualize relationship\n",
    "plt.figure(figsize=(10, 6))\n",
    "sns.scatterplot(data=merged_data, x='value', y='gdp_growth', hue='geo_time_period')\n",
    "plt.title('Education Investment vs GDP Growth')\n",
    "plt.xlabel('Education Investment (PPS)')\n",
    "plt.ylabel('GDP Growth Rate (%)')\n",
    "plt.legend(title='Country')\n",
    "plt.tight_layout()\n",
    "plt.show()"
   ]
  },
  {
   "cell_type": "markdown",
   "id": "492eab31",
   "metadata": {},
   "source": [
    "## 7. Policy Analysis"
   ]
  },
  {
   "cell_type": "code",
   "execution_count": null,
   "id": "d92c985e",
   "metadata": {},
   "outputs": [],
   "source": [
    "# Analyze policy documents from MongoDB\n",
    "if policy_docs:\n",
    "    print(\"Policy Analysis Summary:\")\n",
    "    print(\"-\" * 40)\n",
    "    for doc in policy_docs[:5]:  # Display first 5 policies\n",
    "        print(f\"Country: {doc.get('country', 'N/A')}\")\n",
    "        print(f\"Year: {doc.get('year', 'N/A')}\")\n",
    "        print(f\"Policy Type: {doc.get('policy_type', 'N/A')}\")\n",
    "        print(f\"Description: {doc.get('description', 'N/A')[:200]}...\")\n",
    "        print(\"-\" * 40)\n",
    "\n",
    "# Clean up database connections\n",
    "db_manager.close_connections()\n",
    "print(\"\\nDatabase connections closed\")"
   ]
  }
 ],
 "metadata": {
  "jupytext": {
   "cell_metadata_filter": "-all",
   "main_language": "python",
   "notebook_metadata_filter": "-all"
  },
  "kernelspec": {
   "display_name": "Python 3 (ipykernel)",
   "language": "python",
   "name": "python3"
  },
  "language_info": {
   "codemirror_mode": {
    "name": "ipython",
    "version": 3
   },
   "file_extension": ".py",
   "mimetype": "text/x-python",
   "name": "python",
   "nbconvert_exporter": "python",
   "pygments_lexer": "ipython3",
   "version": "3.11.2"
  }
 },
 "nbformat": 4,
 "nbformat_minor": 5
}
